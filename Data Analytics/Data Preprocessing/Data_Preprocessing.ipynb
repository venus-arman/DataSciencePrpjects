{
 "cells": [
  {
   "cell_type": "code",
   "execution_count": 1,
   "id": "c1fdfea4-7dfe-46c9-8c5e-bdc3135b0825",
   "metadata": {
    "tags": []
   },
   "outputs": [
    {
     "name": "stdout",
     "output_type": "stream",
     "text": [
      "Requirement already satisfied: transformers in c:\\users\\syous\\anaconda3\\lib\\site-packages (4.32.1)\n",
      "Requirement already satisfied: filelock in c:\\users\\syous\\anaconda3\\lib\\site-packages (from transformers) (3.9.0)\n",
      "Requirement already satisfied: huggingface-hub<1.0,>=0.15.1 in c:\\users\\syous\\anaconda3\\lib\\site-packages (from transformers) (0.15.1)\n",
      "Requirement already satisfied: numpy>=1.17 in c:\\users\\syous\\anaconda3\\lib\\site-packages (from transformers) (1.24.3)\n",
      "Requirement already satisfied: packaging>=20.0 in c:\\users\\syous\\anaconda3\\lib\\site-packages (from transformers) (23.1)\n",
      "Requirement already satisfied: pyyaml>=5.1 in c:\\users\\syous\\anaconda3\\lib\\site-packages (from transformers) (6.0)\n",
      "Requirement already satisfied: regex!=2019.12.17 in c:\\users\\syous\\anaconda3\\lib\\site-packages (from transformers) (2022.7.9)\n",
      "Requirement already satisfied: requests in c:\\users\\syous\\anaconda3\\lib\\site-packages (from transformers) (2.31.0)\n",
      "Requirement already satisfied: tokenizers!=0.11.3,<0.14,>=0.11.1 in c:\\users\\syous\\anaconda3\\lib\\site-packages (from transformers) (0.13.2)\n",
      "Requirement already satisfied: safetensors>=0.3.1 in c:\\users\\syous\\anaconda3\\lib\\site-packages (from transformers) (0.3.2)\n",
      "Requirement already satisfied: tqdm>=4.27 in c:\\users\\syous\\anaconda3\\lib\\site-packages (from transformers) (4.65.0)\n",
      "Requirement already satisfied: fsspec in c:\\users\\syous\\anaconda3\\lib\\site-packages (from huggingface-hub<1.0,>=0.15.1->transformers) (2023.4.0)\n",
      "Requirement already satisfied: typing-extensions>=3.7.4.3 in c:\\users\\syous\\anaconda3\\lib\\site-packages (from huggingface-hub<1.0,>=0.15.1->transformers) (4.7.1)\n",
      "Requirement already satisfied: colorama in c:\\users\\syous\\anaconda3\\lib\\site-packages (from tqdm>=4.27->transformers) (0.4.6)\n",
      "Requirement already satisfied: charset-normalizer<4,>=2 in c:\\users\\syous\\anaconda3\\lib\\site-packages (from requests->transformers) (2.0.4)\n",
      "Requirement already satisfied: idna<4,>=2.5 in c:\\users\\syous\\anaconda3\\lib\\site-packages (from requests->transformers) (3.4)\n",
      "Requirement already satisfied: urllib3<3,>=1.21.1 in c:\\users\\syous\\anaconda3\\lib\\site-packages (from requests->transformers) (1.26.16)\n",
      "Requirement already satisfied: certifi>=2017.4.17 in c:\\users\\syous\\anaconda3\\lib\\site-packages (from requests->transformers) (2023.7.22)\n",
      "Note: you may need to restart the kernel to use updated packages.\n"
     ]
    }
   ],
   "source": [
    "pip install transformers"
   ]
  },
  {
   "cell_type": "code",
   "execution_count": 134,
   "id": "dc6bc0b9-2f15-4729-ba60-e788c2eadb1f",
   "metadata": {
    "tags": []
   },
   "outputs": [],
   "source": [
    "import pandas as pd\n",
    "import numpy as np\n",
    "import sys\n",
    "from numpy.core._multiarray_umath import ndarray\n",
    "import random\n",
    "from numpy.random import RandomState, SeedSequence\n",
    "from sklearn.model_selection import train_test_split\n",
    "import matplotlib.pyplot as plt\n",
    "import seaborn as sns\n",
    "from sklearn.linear_model import LinearRegression\n",
    "from sklearn.neighbors import KNeighborsRegressor\n",
    "from sklearn.ensemble import RandomForestClassifier, RandomForestRegressor\n",
    "import datetime as dt\n",
    "from sklearn.ensemble import GradientBoostingClassifier\n",
    "from sklearn.model_selection import cross_val_score\n",
    "from sklearn.model_selection import RepeatedStratifiedKFold\n",
    "from sklearn.model_selection import train_test_split, learning_curve, RandomizedSearchCV"
   ]
  },
  {
   "cell_type": "code",
   "execution_count": 2,
   "id": "0ea841bb-1a9d-42bc-8321-2882d9829f16",
   "metadata": {
    "tags": []
   },
   "outputs": [],
   "source": [
    "df = pd.read_csv(\"construction_projects_data.csv\", sep= ',')"
   ]
  },
  {
   "cell_type": "code",
   "execution_count": 3,
   "id": "ce766e07-4e13-4e0d-aa6e-793dc2ab8c2f",
   "metadata": {
    "tags": []
   },
   "outputs": [
    {
     "data": {
      "text/html": [
       "<div>\n",
       "<style scoped>\n",
       "    .dataframe tbody tr th:only-of-type {\n",
       "        vertical-align: middle;\n",
       "    }\n",
       "\n",
       "    .dataframe tbody tr th {\n",
       "        vertical-align: top;\n",
       "    }\n",
       "\n",
       "    .dataframe thead th {\n",
       "        text-align: right;\n",
       "    }\n",
       "</style>\n",
       "<table border=\"1\" class=\"dataframe\">\n",
       "  <thead>\n",
       "    <tr style=\"text-align: right;\">\n",
       "      <th></th>\n",
       "      <th>Unnamed: 0</th>\n",
       "      <th>IDProject_</th>\n",
       "      <th>Area_</th>\n",
       "      <th>SubArea_</th>\n",
       "      <th>projectPhase_</th>\n",
       "      <th>OriginalEstimate_</th>\n",
       "      <th>CostToDate_</th>\n",
       "      <th>Project_Category</th>\n",
       "      <th>Contract_Type_</th>\n",
       "      <th>Start_Date_</th>\n",
       "      <th>EstimatedFinalCompletion_</th>\n",
       "      <th>Actual_End_Date_</th>\n",
       "    </tr>\n",
       "  </thead>\n",
       "  <tbody>\n",
       "    <tr>\n",
       "      <th>0</th>\n",
       "      <td>0</td>\n",
       "      <td>IDProject_0</td>\n",
       "      <td>Area_0</td>\n",
       "      <td>Sub_Area_0</td>\n",
       "      <td>Completed</td>\n",
       "      <td>9.519200e+05</td>\n",
       "      <td>1.155157e+06</td>\n",
       "      <td>Institutional</td>\n",
       "      <td>CCDC 2</td>\n",
       "      <td>2012-08-15</td>\n",
       "      <td>2012-12-23</td>\n",
       "      <td>2013-04-02</td>\n",
       "    </tr>\n",
       "    <tr>\n",
       "      <th>1</th>\n",
       "      <td>1</td>\n",
       "      <td>IDProject_1</td>\n",
       "      <td>Area_1</td>\n",
       "      <td>Sub_Area_1</td>\n",
       "      <td>Completed</td>\n",
       "      <td>1.478396e+05</td>\n",
       "      <td>1.334481e+05</td>\n",
       "      <td>Industrial</td>\n",
       "      <td>CCDC 5B</td>\n",
       "      <td>2012-09-01</td>\n",
       "      <td>2015-03-04</td>\n",
       "      <td>2015-05-25</td>\n",
       "    </tr>\n",
       "    <tr>\n",
       "      <th>2</th>\n",
       "      <td>2</td>\n",
       "      <td>IDProject_2</td>\n",
       "      <td>Area_1</td>\n",
       "      <td>Sub_Area_1</td>\n",
       "      <td>Completed</td>\n",
       "      <td>6.070518e+04</td>\n",
       "      <td>4.245956e+04</td>\n",
       "      <td>Industrial</td>\n",
       "      <td>CCDC 5B</td>\n",
       "      <td>2012-09-01</td>\n",
       "      <td>2013-01-01</td>\n",
       "      <td>2012-11-12</td>\n",
       "    </tr>\n",
       "    <tr>\n",
       "      <th>3</th>\n",
       "      <td>3</td>\n",
       "      <td>IDProject_3</td>\n",
       "      <td>Area_2</td>\n",
       "      <td>Sub_Area_2</td>\n",
       "      <td>Completed</td>\n",
       "      <td>2.804828e+05</td>\n",
       "      <td>3.003621e+05</td>\n",
       "      <td>Commercial</td>\n",
       "      <td>CCDC 5A</td>\n",
       "      <td>2012-07-11</td>\n",
       "      <td>2015-01-11</td>\n",
       "      <td>2014-08-31</td>\n",
       "    </tr>\n",
       "    <tr>\n",
       "      <th>4</th>\n",
       "      <td>4</td>\n",
       "      <td>IDProject_4</td>\n",
       "      <td>Area_3</td>\n",
       "      <td>Sub_Area_3</td>\n",
       "      <td>Completed</td>\n",
       "      <td>2.833996e+06</td>\n",
       "      <td>2.747140e+06</td>\n",
       "      <td>Industrial</td>\n",
       "      <td>CCDC 2</td>\n",
       "      <td>2012-10-03</td>\n",
       "      <td>2013-02-28</td>\n",
       "      <td>2013-07-01</td>\n",
       "    </tr>\n",
       "    <tr>\n",
       "      <th>...</th>\n",
       "      <td>...</td>\n",
       "      <td>...</td>\n",
       "      <td>...</td>\n",
       "      <td>...</td>\n",
       "      <td>...</td>\n",
       "      <td>...</td>\n",
       "      <td>...</td>\n",
       "      <td>...</td>\n",
       "      <td>...</td>\n",
       "      <td>...</td>\n",
       "      <td>...</td>\n",
       "      <td>...</td>\n",
       "    </tr>\n",
       "    <tr>\n",
       "      <th>2844</th>\n",
       "      <td>2844</td>\n",
       "      <td>IDProject_2108</td>\n",
       "      <td>Area_16</td>\n",
       "      <td>Sub_Area_14</td>\n",
       "      <td>Completed</td>\n",
       "      <td>8.218626e+06</td>\n",
       "      <td>4.738921e+06</td>\n",
       "      <td>Institutional</td>\n",
       "      <td>Other</td>\n",
       "      <td>NaN</td>\n",
       "      <td>2011-02-10</td>\n",
       "      <td>2010-11-06</td>\n",
       "    </tr>\n",
       "    <tr>\n",
       "      <th>2845</th>\n",
       "      <td>2845</td>\n",
       "      <td>IDProject_2109</td>\n",
       "      <td>Area_12</td>\n",
       "      <td>Sub_Area_12</td>\n",
       "      <td>Completed</td>\n",
       "      <td>1.298898e+08</td>\n",
       "      <td>1.036424e+08</td>\n",
       "      <td>Residential</td>\n",
       "      <td>CCDC 5A</td>\n",
       "      <td>2008-05-01</td>\n",
       "      <td>2013-03-23</td>\n",
       "      <td>2013-09-18</td>\n",
       "    </tr>\n",
       "    <tr>\n",
       "      <th>2846</th>\n",
       "      <td>2846</td>\n",
       "      <td>IDProject_2110</td>\n",
       "      <td>Area_12</td>\n",
       "      <td>Sub_Area_12</td>\n",
       "      <td>Completed</td>\n",
       "      <td>1.999900e+08</td>\n",
       "      <td>2.684085e+08</td>\n",
       "      <td>Residential</td>\n",
       "      <td>CCDC 5A</td>\n",
       "      <td>2008-05-15</td>\n",
       "      <td>2013-01-13</td>\n",
       "      <td>2012-11-02</td>\n",
       "    </tr>\n",
       "    <tr>\n",
       "      <th>2847</th>\n",
       "      <td>2847</td>\n",
       "      <td>IDProject_2111</td>\n",
       "      <td>Area_12</td>\n",
       "      <td>Sub_Area_12</td>\n",
       "      <td>Completed</td>\n",
       "      <td>8.190600e+06</td>\n",
       "      <td>6.272629e+06</td>\n",
       "      <td>Residential</td>\n",
       "      <td>CCDC 5A</td>\n",
       "      <td>2008-06-22</td>\n",
       "      <td>2010-09-11</td>\n",
       "      <td>2010-04-28</td>\n",
       "    </tr>\n",
       "    <tr>\n",
       "      <th>2848</th>\n",
       "      <td>2848</td>\n",
       "      <td>IDProject_2112</td>\n",
       "      <td>Area_18</td>\n",
       "      <td>Sub_Area_21</td>\n",
       "      <td>Completed</td>\n",
       "      <td>8.218626e+06</td>\n",
       "      <td>1.312894e+07</td>\n",
       "      <td>Industrial</td>\n",
       "      <td>CCA 5</td>\n",
       "      <td>2004-03-04</td>\n",
       "      <td>2005-04-01</td>\n",
       "      <td>2005-05-04</td>\n",
       "    </tr>\n",
       "  </tbody>\n",
       "</table>\n",
       "<p>2849 rows × 12 columns</p>\n",
       "</div>"
      ],
      "text/plain": [
       "      Unnamed: 0      IDProject_    Area_     SubArea_ projectPhase_  \\\n",
       "0              0     IDProject_0   Area_0   Sub_Area_0     Completed   \n",
       "1              1     IDProject_1   Area_1   Sub_Area_1     Completed   \n",
       "2              2     IDProject_2   Area_1   Sub_Area_1     Completed   \n",
       "3              3     IDProject_3   Area_2   Sub_Area_2     Completed   \n",
       "4              4     IDProject_4   Area_3   Sub_Area_3     Completed   \n",
       "...          ...             ...      ...          ...           ...   \n",
       "2844        2844  IDProject_2108  Area_16  Sub_Area_14     Completed   \n",
       "2845        2845  IDProject_2109  Area_12  Sub_Area_12     Completed   \n",
       "2846        2846  IDProject_2110  Area_12  Sub_Area_12     Completed   \n",
       "2847        2847  IDProject_2111  Area_12  Sub_Area_12     Completed   \n",
       "2848        2848  IDProject_2112  Area_18  Sub_Area_21     Completed   \n",
       "\n",
       "      OriginalEstimate_   CostToDate_ Project_Category Contract_Type_  \\\n",
       "0          9.519200e+05  1.155157e+06    Institutional        CCDC 2    \n",
       "1          1.478396e+05  1.334481e+05       Industrial       CCDC 5B    \n",
       "2          6.070518e+04  4.245956e+04       Industrial       CCDC 5B    \n",
       "3          2.804828e+05  3.003621e+05       Commercial       CCDC 5A    \n",
       "4          2.833996e+06  2.747140e+06       Industrial        CCDC 2    \n",
       "...                 ...           ...              ...            ...   \n",
       "2844       8.218626e+06  4.738921e+06    Institutional          Other   \n",
       "2845       1.298898e+08  1.036424e+08      Residential       CCDC 5A    \n",
       "2846       1.999900e+08  2.684085e+08      Residential       CCDC 5A    \n",
       "2847       8.190600e+06  6.272629e+06      Residential       CCDC 5A    \n",
       "2848       8.218626e+06  1.312894e+07       Industrial         CCA 5    \n",
       "\n",
       "     Start_Date_ EstimatedFinalCompletion_ Actual_End_Date_  \n",
       "0     2012-08-15                2012-12-23       2013-04-02  \n",
       "1     2012-09-01                2015-03-04       2015-05-25  \n",
       "2     2012-09-01                2013-01-01       2012-11-12  \n",
       "3     2012-07-11                2015-01-11       2014-08-31  \n",
       "4     2012-10-03                2013-02-28       2013-07-01  \n",
       "...          ...                       ...              ...  \n",
       "2844         NaN                2011-02-10       2010-11-06  \n",
       "2845  2008-05-01                2013-03-23       2013-09-18  \n",
       "2846  2008-05-15                2013-01-13       2012-11-02  \n",
       "2847  2008-06-22                2010-09-11       2010-04-28  \n",
       "2848  2004-03-04                2005-04-01       2005-05-04  \n",
       "\n",
       "[2849 rows x 12 columns]"
      ]
     },
     "execution_count": 3,
     "metadata": {},
     "output_type": "execute_result"
    }
   ],
   "source": [
    "df"
   ]
  },
  {
   "cell_type": "code",
   "execution_count": 4,
   "id": "c30f18e4-2ba2-4a22-825c-ea286e8ff23b",
   "metadata": {},
   "outputs": [
    {
     "name": "stdout",
     "output_type": "stream",
     "text": [
      "<class 'pandas.core.frame.DataFrame'>\n",
      "RangeIndex: 2849 entries, 0 to 2848\n",
      "Data columns (total 12 columns):\n",
      " #   Column                     Non-Null Count  Dtype  \n",
      "---  ------                     --------------  -----  \n",
      " 0   Unnamed: 0                 2849 non-null   int64  \n",
      " 1   IDProject_                 2764 non-null   object \n",
      " 2   Area_                      2764 non-null   object \n",
      " 3   SubArea_                   2764 non-null   object \n",
      " 4   projectPhase_              2764 non-null   object \n",
      " 5   OriginalEstimate_          2764 non-null   float64\n",
      " 6   CostToDate_                2764 non-null   float64\n",
      " 7   Project_Category           2113 non-null   object \n",
      " 8   Contract_Type_             1863 non-null   object \n",
      " 9   Start_Date_                2764 non-null   object \n",
      " 10  EstimatedFinalCompletion_  2764 non-null   object \n",
      " 11  Actual_End_Date_           2764 non-null   object \n",
      "dtypes: float64(2), int64(1), object(9)\n",
      "memory usage: 267.2+ KB\n"
     ]
    },
    {
     "data": {
      "text/html": [
       "<div>\n",
       "<style scoped>\n",
       "    .dataframe tbody tr th:only-of-type {\n",
       "        vertical-align: middle;\n",
       "    }\n",
       "\n",
       "    .dataframe tbody tr th {\n",
       "        vertical-align: top;\n",
       "    }\n",
       "\n",
       "    .dataframe thead th {\n",
       "        text-align: right;\n",
       "    }\n",
       "</style>\n",
       "<table border=\"1\" class=\"dataframe\">\n",
       "  <thead>\n",
       "    <tr style=\"text-align: right;\">\n",
       "      <th></th>\n",
       "      <th>Unnamed: 0</th>\n",
       "      <th>IDProject_</th>\n",
       "      <th>Area_</th>\n",
       "      <th>SubArea_</th>\n",
       "      <th>projectPhase_</th>\n",
       "      <th>OriginalEstimate_</th>\n",
       "      <th>CostToDate_</th>\n",
       "      <th>Project_Category</th>\n",
       "      <th>Contract_Type_</th>\n",
       "      <th>Start_Date_</th>\n",
       "      <th>EstimatedFinalCompletion_</th>\n",
       "      <th>Actual_End_Date_</th>\n",
       "    </tr>\n",
       "  </thead>\n",
       "  <tbody>\n",
       "    <tr>\n",
       "      <th>0</th>\n",
       "      <td>0</td>\n",
       "      <td>IDProject_0</td>\n",
       "      <td>Area_0</td>\n",
       "      <td>Sub_Area_0</td>\n",
       "      <td>Completed</td>\n",
       "      <td>951920.00</td>\n",
       "      <td>1.155157e+06</td>\n",
       "      <td>Institutional</td>\n",
       "      <td>CCDC 2</td>\n",
       "      <td>2012-08-15</td>\n",
       "      <td>2012-12-23</td>\n",
       "      <td>2013-04-02</td>\n",
       "    </tr>\n",
       "    <tr>\n",
       "      <th>1</th>\n",
       "      <td>1</td>\n",
       "      <td>IDProject_1</td>\n",
       "      <td>Area_1</td>\n",
       "      <td>Sub_Area_1</td>\n",
       "      <td>Completed</td>\n",
       "      <td>147839.60</td>\n",
       "      <td>1.334481e+05</td>\n",
       "      <td>Industrial</td>\n",
       "      <td>CCDC 5B</td>\n",
       "      <td>2012-09-01</td>\n",
       "      <td>2015-03-04</td>\n",
       "      <td>2015-05-25</td>\n",
       "    </tr>\n",
       "    <tr>\n",
       "      <th>2</th>\n",
       "      <td>2</td>\n",
       "      <td>IDProject_2</td>\n",
       "      <td>Area_1</td>\n",
       "      <td>Sub_Area_1</td>\n",
       "      <td>Completed</td>\n",
       "      <td>60705.18</td>\n",
       "      <td>4.245956e+04</td>\n",
       "      <td>Industrial</td>\n",
       "      <td>CCDC 5B</td>\n",
       "      <td>2012-09-01</td>\n",
       "      <td>2013-01-01</td>\n",
       "      <td>2012-11-12</td>\n",
       "    </tr>\n",
       "    <tr>\n",
       "      <th>3</th>\n",
       "      <td>3</td>\n",
       "      <td>IDProject_3</td>\n",
       "      <td>Area_2</td>\n",
       "      <td>Sub_Area_2</td>\n",
       "      <td>Completed</td>\n",
       "      <td>280482.79</td>\n",
       "      <td>3.003621e+05</td>\n",
       "      <td>Commercial</td>\n",
       "      <td>CCDC 5A</td>\n",
       "      <td>2012-07-11</td>\n",
       "      <td>2015-01-11</td>\n",
       "      <td>2014-08-31</td>\n",
       "    </tr>\n",
       "    <tr>\n",
       "      <th>4</th>\n",
       "      <td>4</td>\n",
       "      <td>IDProject_4</td>\n",
       "      <td>Area_3</td>\n",
       "      <td>Sub_Area_3</td>\n",
       "      <td>Completed</td>\n",
       "      <td>2833995.78</td>\n",
       "      <td>2.747140e+06</td>\n",
       "      <td>Industrial</td>\n",
       "      <td>CCDC 2</td>\n",
       "      <td>2012-10-03</td>\n",
       "      <td>2013-02-28</td>\n",
       "      <td>2013-07-01</td>\n",
       "    </tr>\n",
       "  </tbody>\n",
       "</table>\n",
       "</div>"
      ],
      "text/plain": [
       "   Unnamed: 0   IDProject_   Area_    SubArea_ projectPhase_  \\\n",
       "0           0  IDProject_0  Area_0  Sub_Area_0     Completed   \n",
       "1           1  IDProject_1  Area_1  Sub_Area_1     Completed   \n",
       "2           2  IDProject_2  Area_1  Sub_Area_1     Completed   \n",
       "3           3  IDProject_3  Area_2  Sub_Area_2     Completed   \n",
       "4           4  IDProject_4  Area_3  Sub_Area_3     Completed   \n",
       "\n",
       "   OriginalEstimate_   CostToDate_ Project_Category Contract_Type_  \\\n",
       "0          951920.00  1.155157e+06    Institutional        CCDC 2    \n",
       "1          147839.60  1.334481e+05       Industrial       CCDC 5B    \n",
       "2           60705.18  4.245956e+04       Industrial       CCDC 5B    \n",
       "3          280482.79  3.003621e+05       Commercial       CCDC 5A    \n",
       "4         2833995.78  2.747140e+06       Industrial        CCDC 2    \n",
       "\n",
       "  Start_Date_ EstimatedFinalCompletion_ Actual_End_Date_  \n",
       "0  2012-08-15                2012-12-23       2013-04-02  \n",
       "1  2012-09-01                2015-03-04       2015-05-25  \n",
       "2  2012-09-01                2013-01-01       2012-11-12  \n",
       "3  2012-07-11                2015-01-11       2014-08-31  \n",
       "4  2012-10-03                2013-02-28       2013-07-01  "
      ]
     },
     "execution_count": 4,
     "metadata": {},
     "output_type": "execute_result"
    }
   ],
   "source": [
    "df.info()\n",
    "df.head()"
   ]
  },
  {
   "cell_type": "code",
   "execution_count": 5,
   "id": "f9c0253f-acd1-480b-8594-97d91c86aa91",
   "metadata": {
    "tags": []
   },
   "outputs": [
    {
     "data": {
      "image/png": "[encoded data removed]",
      "text/plain": [
       "<Figure size 640x480 with 1 Axes>"
      ]
     },
     "metadata": {},
     "output_type": "display_data"
    }
   ],
   "source": [
    "df['CostToDate_'].plot(subplots=True)\n",
    "plt_title = 'CostToDate'\n",
    "plt.show()"
   ]
  },
  {
   "cell_type": "code",
   "execution_count": 6,
   "id": "4b02445f-78b4-465d-9b7d-1ad64973e4cc",
   "metadata": {
    "tags": []
   },
   "outputs": [
    {
     "data": {
      "text/html": [
       "<div>\n",
       "<style scoped>\n",
       "    .dataframe tbody tr th:only-of-type {\n",
       "        vertical-align: middle;\n",
       "    }\n",
       "\n",
       "    .dataframe tbody tr th {\n",
       "        vertical-align: top;\n",
       "    }\n",
       "\n",
       "    .dataframe thead th {\n",
       "        text-align: right;\n",
       "    }\n",
       "</style>\n",
       "<table border=\"1\" class=\"dataframe\">\n",
       "  <thead>\n",
       "    <tr style=\"text-align: right;\">\n",
       "      <th></th>\n",
       "      <th>Unnamed: 0</th>\n",
       "      <th>OriginalEstimate_</th>\n",
       "      <th>CostToDate_</th>\n",
       "    </tr>\n",
       "  </thead>\n",
       "  <tbody>\n",
       "    <tr>\n",
       "      <th>count</th>\n",
       "      <td>2849.000000</td>\n",
       "      <td>2.764000e+03</td>\n",
       "      <td>2.764000e+03</td>\n",
       "    </tr>\n",
       "    <tr>\n",
       "      <th>mean</th>\n",
       "      <td>1424.000000</td>\n",
       "      <td>3.271337e+07</td>\n",
       "      <td>3.309327e+07</td>\n",
       "    </tr>\n",
       "    <tr>\n",
       "      <th>std</th>\n",
       "      <td>822.579783</td>\n",
       "      <td>8.538798e+07</td>\n",
       "      <td>9.088989e+07</td>\n",
       "    </tr>\n",
       "    <tr>\n",
       "      <th>min</th>\n",
       "      <td>0.000000</td>\n",
       "      <td>-9.529610e+05</td>\n",
       "      <td>-1.449374e+06</td>\n",
       "    </tr>\n",
       "    <tr>\n",
       "      <th>25%</th>\n",
       "      <td>712.000000</td>\n",
       "      <td>3.590268e+06</td>\n",
       "      <td>3.221238e+06</td>\n",
       "    </tr>\n",
       "    <tr>\n",
       "      <th>50%</th>\n",
       "      <td>1424.000000</td>\n",
       "      <td>8.218626e+06</td>\n",
       "      <td>7.988440e+06</td>\n",
       "    </tr>\n",
       "    <tr>\n",
       "      <th>75%</th>\n",
       "      <td>2136.000000</td>\n",
       "      <td>1.094719e+07</td>\n",
       "      <td>1.224396e+07</td>\n",
       "    </tr>\n",
       "    <tr>\n",
       "      <th>max</th>\n",
       "      <td>2848.000000</td>\n",
       "      <td>1.352435e+09</td>\n",
       "      <td>1.288670e+09</td>\n",
       "    </tr>\n",
       "  </tbody>\n",
       "</table>\n",
       "</div>"
      ],
      "text/plain": [
       "        Unnamed: 0  OriginalEstimate_   CostToDate_\n",
       "count  2849.000000       2.764000e+03  2.764000e+03\n",
       "mean   1424.000000       3.271337e+07  3.309327e+07\n",
       "std     822.579783       8.538798e+07  9.088989e+07\n",
       "min       0.000000      -9.529610e+05 -1.449374e+06\n",
       "25%     712.000000       3.590268e+06  3.221238e+06\n",
       "50%    1424.000000       8.218626e+06  7.988440e+06\n",
       "75%    2136.000000       1.094719e+07  1.224396e+07\n",
       "max    2848.000000       1.352435e+09  1.288670e+09"
      ]
     },
     "execution_count": 6,
     "metadata": {},
     "output_type": "execute_result"
    }
   ],
   "source": [
    "df.describe()"
   ]
  },
  {
   "cell_type": "code",
   "execution_count": 7,
   "id": "3d3dde7f-ce0d-4730-9d3e-b5ed3c6afb41",
   "metadata": {
    "tags": []
   },
   "outputs": [
    {
     "name": "stdout",
     "output_type": "stream",
     "text": [
      "2079 2079\n"
     ]
    }
   ],
   "source": [
    "min_org_idx = df.OriginalEstimate_.idxmin()\n",
    "min_cost_idx = df.CostToDate_.idxmin()\n",
    "print(min_org_idx, min_cost_idx)\n",
    "\n",
    "min_org = df.OriginalEstimate_[min_org_idx]\n",
    "min_cost = df.CostToDate_[min_cost_idx]"
   ]
  },
  {
   "cell_type": "code",
   "execution_count": 8,
   "id": "3010181a-871f-4ce7-a7bc-03fee894c182",
   "metadata": {
    "tags": []
   },
   "outputs": [],
   "source": [
    "df.at[min_org_idx, 'OriginalEstimate_'] = np.absolute(min_org)\n",
    "df.at[min_cost_idx, 'CostToDate_'] = np.absolute(min_cost)"
   ]
  },
  {
   "cell_type": "code",
   "execution_count": 9,
   "id": "6d576bbb-ba1c-4d54-b625-807aa583d251",
   "metadata": {
    "tags": []
   },
   "outputs": [
    {
     "data": {
      "text/plain": [
       "0       9.519200e+05\n",
       "1       1.478396e+05\n",
       "2       6.070518e+04\n",
       "3       2.804828e+05\n",
       "4       2.833996e+06\n",
       "            ...     \n",
       "2844    8.218626e+06\n",
       "2845    1.298898e+08\n",
       "2846    1.999900e+08\n",
       "2847    8.190600e+06\n",
       "2848    8.218626e+06\n",
       "Name: OriginalEstimate_, Length: 2849, dtype: float64"
      ]
     },
     "execution_count": 9,
     "metadata": {},
     "output_type": "execute_result"
    }
   ],
   "source": [
    "df.OriginalEstimate_"
   ]
  },
  {
   "cell_type": "code",
   "execution_count": 10,
   "id": "786f3565-3a65-4591-b59c-0bd8704fbd08",
   "metadata": {
    "tags": []
   },
   "outputs": [
    {
     "data": {
      "text/html": [
       "<div>\n",
       "<style scoped>\n",
       "    .dataframe tbody tr th:only-of-type {\n",
       "        vertical-align: middle;\n",
       "    }\n",
       "\n",
       "    .dataframe tbody tr th {\n",
       "        vertical-align: top;\n",
       "    }\n",
       "\n",
       "    .dataframe thead th {\n",
       "        text-align: right;\n",
       "    }\n",
       "</style>\n",
       "<table border=\"1\" class=\"dataframe\">\n",
       "  <thead>\n",
       "    <tr style=\"text-align: right;\">\n",
       "      <th></th>\n",
       "      <th>Unnamed: 0</th>\n",
       "      <th>IDProject_</th>\n",
       "      <th>Area_</th>\n",
       "      <th>SubArea_</th>\n",
       "      <th>projectPhase_</th>\n",
       "      <th>OriginalEstimate_</th>\n",
       "      <th>CostToDate_</th>\n",
       "      <th>Project_Category</th>\n",
       "      <th>Contract_Type_</th>\n",
       "      <th>Start_Date_</th>\n",
       "      <th>EstimatedFinalCompletion_</th>\n",
       "      <th>Actual_End_Date_</th>\n",
       "    </tr>\n",
       "  </thead>\n",
       "  <tbody>\n",
       "    <tr>\n",
       "      <th>1095</th>\n",
       "      <td>1095</td>\n",
       "      <td>IDProject_943</td>\n",
       "      <td>Area_12</td>\n",
       "      <td>Sub_Area_12</td>\n",
       "      <td>Completed</td>\n",
       "      <td>-449676.93</td>\n",
       "      <td>-472220.237493</td>\n",
       "      <td>Institutional</td>\n",
       "      <td>NaN</td>\n",
       "      <td>2006-02-18</td>\n",
       "      <td>2008-08-20</td>\n",
       "      <td>NaN</td>\n",
       "    </tr>\n",
       "  </tbody>\n",
       "</table>\n",
       "</div>"
      ],
      "text/plain": [
       "      Unnamed: 0     IDProject_    Area_     SubArea_ projectPhase_  \\\n",
       "1095        1095  IDProject_943  Area_12  Sub_Area_12     Completed   \n",
       "\n",
       "      OriginalEstimate_    CostToDate_ Project_Category Contract_Type_  \\\n",
       "1095         -449676.93 -472220.237493    Institutional            NaN   \n",
       "\n",
       "     Start_Date_ EstimatedFinalCompletion_ Actual_End_Date_  \n",
       "1095  2006-02-18                2008-08-20              NaN  "
      ]
     },
     "execution_count": 10,
     "metadata": {},
     "output_type": "execute_result"
    }
   ],
   "source": [
    "df.query('OriginalEstimate_ < 0')"
   ]
  },
  {
   "cell_type": "code",
   "execution_count": 11,
   "id": "65f635b4-d8c8-4134-8397-a80c9e461ffc",
   "metadata": {
    "tags": []
   },
   "outputs": [],
   "source": [
    "df.at[1095, 'OriginalEstimate_'] = np.absolute(df.OriginalEstimate_[1095])\n",
    "df.at[1095, 'CostToDate_'] = np.absolute(df.CostToDate_[1095])"
   ]
  },
  {
   "cell_type": "code",
   "execution_count": 12,
   "id": "25dca704-ee8f-434d-a8bf-23099475c015",
   "metadata": {
    "tags": []
   },
   "outputs": [
    {
     "data": {
      "image/png": "[encoded data removed]",
      "text/plain": [
       "<Figure size 640x480 with 1 Axes>"
      ]
     },
     "metadata": {},
     "output_type": "display_data"
    }
   ],
   "source": [
    "df['OriginalEstimate_'].plot(subplots=True)\n",
    "plt_title = 'OriginalEstimate'\n",
    "plt.show()"
   ]
  },
  {
   "cell_type": "code",
   "execution_count": 13,
   "id": "0f0fc920-db10-4383-a7a3-3fac5def2eaf",
   "metadata": {
    "tags": []
   },
   "outputs": [
    {
     "data": {
      "text/plain": [
       "count    2.764000e+03\n",
       "mean     3.271438e+07\n",
       "std      8.538759e+07\n",
       "min      1.000000e-02\n",
       "25%      3.590268e+06\n",
       "50%      8.218626e+06\n",
       "75%      1.094719e+07\n",
       "max      1.352435e+09\n",
       "Name: OriginalEstimate_, dtype: float64"
      ]
     },
     "execution_count": 13,
     "metadata": {},
     "output_type": "execute_result"
    }
   ],
   "source": [
    "df['OriginalEstimate_'].describe()"
   ]
  },
  {
   "cell_type": "code",
   "execution_count": 14,
   "id": "989d9856-8f7c-41da-acf0-67d202efec4e",
   "metadata": {
    "tags": []
   },
   "outputs": [
    {
     "data": {
      "image/png": "[encoded data removed]",
      "text/plain": [
       "<Figure size 640x480 with 2 Axes>"
      ]
     },
     "metadata": {},
     "output_type": "display_data"
    }
   ],
   "source": [
    "df[['OriginalEstimate_','CostToDate_']].plot(subplots=True)\n",
    "plt.show()"
   ]
  },
  {
   "cell_type": "code",
   "execution_count": 15,
   "id": "e8cccb1b-35c6-434d-97f4-bfd88a95ff40",
   "metadata": {
    "tags": []
   },
   "outputs": [
    {
     "data": {
      "text/html": [
       "<div>\n",
       "<style scoped>\n",
       "    .dataframe tbody tr th:only-of-type {\n",
       "        vertical-align: middle;\n",
       "    }\n",
       "\n",
       "    .dataframe tbody tr th {\n",
       "        vertical-align: top;\n",
       "    }\n",
       "\n",
       "    .dataframe thead th {\n",
       "        text-align: right;\n",
       "    }\n",
       "</style>\n",
       "<table border=\"1\" class=\"dataframe\">\n",
       "  <thead>\n",
       "    <tr style=\"text-align: right;\">\n",
       "      <th></th>\n",
       "      <th>IDProject_</th>\n",
       "      <th>Area_</th>\n",
       "      <th>SubArea_</th>\n",
       "      <th>projectPhase_</th>\n",
       "      <th>OriginalEstimate_</th>\n",
       "      <th>CostToDate_</th>\n",
       "      <th>Project_Category</th>\n",
       "      <th>Contract_Type_</th>\n",
       "      <th>Start_Date_</th>\n",
       "      <th>EstimatedFinalCompletion_</th>\n",
       "      <th>Actual_End_Date_</th>\n",
       "      <th>index</th>\n",
       "    </tr>\n",
       "  </thead>\n",
       "  <tbody>\n",
       "    <tr>\n",
       "      <th>0</th>\n",
       "      <td>IDProject_0</td>\n",
       "      <td>Area_0</td>\n",
       "      <td>Sub_Area_0</td>\n",
       "      <td>Completed</td>\n",
       "      <td>9.519200e+05</td>\n",
       "      <td>1.155157e+06</td>\n",
       "      <td>Institutional</td>\n",
       "      <td>CCDC 2</td>\n",
       "      <td>2012-08-15</td>\n",
       "      <td>2012-12-23</td>\n",
       "      <td>2013-04-02</td>\n",
       "      <td>0</td>\n",
       "    </tr>\n",
       "    <tr>\n",
       "      <th>1</th>\n",
       "      <td>IDProject_1</td>\n",
       "      <td>Area_1</td>\n",
       "      <td>Sub_Area_1</td>\n",
       "      <td>Completed</td>\n",
       "      <td>1.478396e+05</td>\n",
       "      <td>1.334481e+05</td>\n",
       "      <td>Industrial</td>\n",
       "      <td>CCDC 5B</td>\n",
       "      <td>2012-09-01</td>\n",
       "      <td>2015-03-04</td>\n",
       "      <td>2015-05-25</td>\n",
       "      <td>1</td>\n",
       "    </tr>\n",
       "    <tr>\n",
       "      <th>2</th>\n",
       "      <td>IDProject_2</td>\n",
       "      <td>Area_1</td>\n",
       "      <td>Sub_Area_1</td>\n",
       "      <td>Completed</td>\n",
       "      <td>6.070518e+04</td>\n",
       "      <td>4.245956e+04</td>\n",
       "      <td>Industrial</td>\n",
       "      <td>CCDC 5B</td>\n",
       "      <td>2012-09-01</td>\n",
       "      <td>2013-01-01</td>\n",
       "      <td>2012-11-12</td>\n",
       "      <td>2</td>\n",
       "    </tr>\n",
       "    <tr>\n",
       "      <th>3</th>\n",
       "      <td>IDProject_3</td>\n",
       "      <td>Area_2</td>\n",
       "      <td>Sub_Area_2</td>\n",
       "      <td>Completed</td>\n",
       "      <td>2.804828e+05</td>\n",
       "      <td>3.003621e+05</td>\n",
       "      <td>Commercial</td>\n",
       "      <td>CCDC 5A</td>\n",
       "      <td>2012-07-11</td>\n",
       "      <td>2015-01-11</td>\n",
       "      <td>2014-08-31</td>\n",
       "      <td>3</td>\n",
       "    </tr>\n",
       "    <tr>\n",
       "      <th>4</th>\n",
       "      <td>IDProject_4</td>\n",
       "      <td>Area_3</td>\n",
       "      <td>Sub_Area_3</td>\n",
       "      <td>Completed</td>\n",
       "      <td>2.833996e+06</td>\n",
       "      <td>2.747140e+06</td>\n",
       "      <td>Industrial</td>\n",
       "      <td>CCDC 2</td>\n",
       "      <td>2012-10-03</td>\n",
       "      <td>2013-02-28</td>\n",
       "      <td>2013-07-01</td>\n",
       "      <td>4</td>\n",
       "    </tr>\n",
       "    <tr>\n",
       "      <th>...</th>\n",
       "      <td>...</td>\n",
       "      <td>...</td>\n",
       "      <td>...</td>\n",
       "      <td>...</td>\n",
       "      <td>...</td>\n",
       "      <td>...</td>\n",
       "      <td>...</td>\n",
       "      <td>...</td>\n",
       "      <td>...</td>\n",
       "      <td>...</td>\n",
       "      <td>...</td>\n",
       "      <td>...</td>\n",
       "    </tr>\n",
       "    <tr>\n",
       "      <th>2844</th>\n",
       "      <td>IDProject_2108</td>\n",
       "      <td>Area_16</td>\n",
       "      <td>Sub_Area_14</td>\n",
       "      <td>Completed</td>\n",
       "      <td>8.218626e+06</td>\n",
       "      <td>4.738921e+06</td>\n",
       "      <td>Institutional</td>\n",
       "      <td>Other</td>\n",
       "      <td>NaN</td>\n",
       "      <td>2011-02-10</td>\n",
       "      <td>2010-11-06</td>\n",
       "      <td>2844</td>\n",
       "    </tr>\n",
       "    <tr>\n",
       "      <th>2845</th>\n",
       "      <td>IDProject_2109</td>\n",
       "      <td>Area_12</td>\n",
       "      <td>Sub_Area_12</td>\n",
       "      <td>Completed</td>\n",
       "      <td>1.298898e+08</td>\n",
       "      <td>1.036424e+08</td>\n",
       "      <td>Residential</td>\n",
       "      <td>CCDC 5A</td>\n",
       "      <td>2008-05-01</td>\n",
       "      <td>2013-03-23</td>\n",
       "      <td>2013-09-18</td>\n",
       "      <td>2845</td>\n",
       "    </tr>\n",
       "    <tr>\n",
       "      <th>2846</th>\n",
       "      <td>IDProject_2110</td>\n",
       "      <td>Area_12</td>\n",
       "      <td>Sub_Area_12</td>\n",
       "      <td>Completed</td>\n",
       "      <td>1.999900e+08</td>\n",
       "      <td>2.684085e+08</td>\n",
       "      <td>Residential</td>\n",
       "      <td>CCDC 5A</td>\n",
       "      <td>2008-05-15</td>\n",
       "      <td>2013-01-13</td>\n",
       "      <td>2012-11-02</td>\n",
       "      <td>2846</td>\n",
       "    </tr>\n",
       "    <tr>\n",
       "      <th>2847</th>\n",
       "      <td>IDProject_2111</td>\n",
       "      <td>Area_12</td>\n",
       "      <td>Sub_Area_12</td>\n",
       "      <td>Completed</td>\n",
       "      <td>8.190600e+06</td>\n",
       "      <td>6.272629e+06</td>\n",
       "      <td>Residential</td>\n",
       "      <td>CCDC 5A</td>\n",
       "      <td>2008-06-22</td>\n",
       "      <td>2010-09-11</td>\n",
       "      <td>2010-04-28</td>\n",
       "      <td>2847</td>\n",
       "    </tr>\n",
       "    <tr>\n",
       "      <th>2848</th>\n",
       "      <td>IDProject_2112</td>\n",
       "      <td>Area_18</td>\n",
       "      <td>Sub_Area_21</td>\n",
       "      <td>Completed</td>\n",
       "      <td>8.218626e+06</td>\n",
       "      <td>1.312894e+07</td>\n",
       "      <td>Industrial</td>\n",
       "      <td>CCA 5</td>\n",
       "      <td>2004-03-04</td>\n",
       "      <td>2005-04-01</td>\n",
       "      <td>2005-05-04</td>\n",
       "      <td>2848</td>\n",
       "    </tr>\n",
       "  </tbody>\n",
       "</table>\n",
       "<p>2849 rows × 12 columns</p>\n",
       "</div>"
      ],
      "text/plain": [
       "          IDProject_    Area_     SubArea_ projectPhase_  OriginalEstimate_  \\\n",
       "0        IDProject_0   Area_0   Sub_Area_0     Completed       9.519200e+05   \n",
       "1        IDProject_1   Area_1   Sub_Area_1     Completed       1.478396e+05   \n",
       "2        IDProject_2   Area_1   Sub_Area_1     Completed       6.070518e+04   \n",
       "3        IDProject_3   Area_2   Sub_Area_2     Completed       2.804828e+05   \n",
       "4        IDProject_4   Area_3   Sub_Area_3     Completed       2.833996e+06   \n",
       "...              ...      ...          ...           ...                ...   \n",
       "2844  IDProject_2108  Area_16  Sub_Area_14     Completed       8.218626e+06   \n",
       "2845  IDProject_2109  Area_12  Sub_Area_12     Completed       1.298898e+08   \n",
       "2846  IDProject_2110  Area_12  Sub_Area_12     Completed       1.999900e+08   \n",
       "2847  IDProject_2111  Area_12  Sub_Area_12     Completed       8.190600e+06   \n",
       "2848  IDProject_2112  Area_18  Sub_Area_21     Completed       8.218626e+06   \n",
       "\n",
       "       CostToDate_ Project_Category Contract_Type_ Start_Date_  \\\n",
       "0     1.155157e+06    Institutional        CCDC 2   2012-08-15   \n",
       "1     1.334481e+05       Industrial       CCDC 5B   2012-09-01   \n",
       "2     4.245956e+04       Industrial       CCDC 5B   2012-09-01   \n",
       "3     3.003621e+05       Commercial       CCDC 5A   2012-07-11   \n",
       "4     2.747140e+06       Industrial        CCDC 2   2012-10-03   \n",
       "...            ...              ...            ...         ...   \n",
       "2844  4.738921e+06    Institutional          Other         NaN   \n",
       "2845  1.036424e+08      Residential       CCDC 5A   2008-05-01   \n",
       "2846  2.684085e+08      Residential       CCDC 5A   2008-05-15   \n",
       "2847  6.272629e+06      Residential       CCDC 5A   2008-06-22   \n",
       "2848  1.312894e+07       Industrial         CCA 5   2004-03-04   \n",
       "\n",
       "     EstimatedFinalCompletion_ Actual_End_Date_  index  \n",
       "0                   2012-12-23       2013-04-02      0  \n",
       "1                   2015-03-04       2015-05-25      1  \n",
       "2                   2013-01-01       2012-11-12      2  \n",
       "3                   2015-01-11       2014-08-31      3  \n",
       "4                   2013-02-28       2013-07-01      4  \n",
       "...                        ...              ...    ...  \n",
       "2844                2011-02-10       2010-11-06   2844  \n",
       "2845                2013-03-23       2013-09-18   2845  \n",
       "2846                2013-01-13       2012-11-02   2846  \n",
       "2847                2010-09-11       2010-04-28   2847  \n",
       "2848                2005-04-01       2005-05-04   2848  \n",
       "\n",
       "[2849 rows x 12 columns]"
      ]
     },
     "execution_count": 15,
     "metadata": {},
     "output_type": "execute_result"
    }
   ],
   "source": [
    "df['index'] = df['Unnamed: 0']\n",
    "df.drop(['Unnamed: 0'], axis=1)"
   ]
  },
  {
   "cell_type": "code",
   "execution_count": 16,
   "id": "97e2605b-d0a4-4372-9e68-917007b9e0fe",
   "metadata": {
    "tags": []
   },
   "outputs": [
    {
     "data": {
      "text/html": [
       "<div>\n",
       "<style scoped>\n",
       "    .dataframe tbody tr th:only-of-type {\n",
       "        vertical-align: middle;\n",
       "    }\n",
       "\n",
       "    .dataframe tbody tr th {\n",
       "        vertical-align: top;\n",
       "    }\n",
       "\n",
       "    .dataframe thead th {\n",
       "        text-align: right;\n",
       "    }\n",
       "</style>\n",
       "<table border=\"1\" class=\"dataframe\">\n",
       "  <thead>\n",
       "    <tr style=\"text-align: right;\">\n",
       "      <th></th>\n",
       "      <th>index</th>\n",
       "      <th>IDProject_</th>\n",
       "      <th>Area_</th>\n",
       "      <th>SubArea_</th>\n",
       "      <th>projectPhase_</th>\n",
       "      <th>OriginalEstimate_</th>\n",
       "      <th>CostToDate_</th>\n",
       "      <th>Project_Category</th>\n",
       "      <th>Contract_Type_</th>\n",
       "      <th>Start_Date_</th>\n",
       "      <th>EstimatedFinalCompletion_</th>\n",
       "      <th>Actual_End_Date_</th>\n",
       "    </tr>\n",
       "  </thead>\n",
       "  <tbody>\n",
       "    <tr>\n",
       "      <th>0</th>\n",
       "      <td>0</td>\n",
       "      <td>IDProject_0</td>\n",
       "      <td>Area_0</td>\n",
       "      <td>Sub_Area_0</td>\n",
       "      <td>Completed</td>\n",
       "      <td>9.519200e+05</td>\n",
       "      <td>1.155157e+06</td>\n",
       "      <td>Institutional</td>\n",
       "      <td>CCDC 2</td>\n",
       "      <td>2012-08-15</td>\n",
       "      <td>2012-12-23</td>\n",
       "      <td>2013-04-02</td>\n",
       "    </tr>\n",
       "    <tr>\n",
       "      <th>1</th>\n",
       "      <td>1</td>\n",
       "      <td>IDProject_1</td>\n",
       "      <td>Area_1</td>\n",
       "      <td>Sub_Area_1</td>\n",
       "      <td>Completed</td>\n",
       "      <td>1.478396e+05</td>\n",
       "      <td>1.334481e+05</td>\n",
       "      <td>Industrial</td>\n",
       "      <td>CCDC 5B</td>\n",
       "      <td>2012-09-01</td>\n",
       "      <td>2015-03-04</td>\n",
       "      <td>2015-05-25</td>\n",
       "    </tr>\n",
       "    <tr>\n",
       "      <th>2</th>\n",
       "      <td>2</td>\n",
       "      <td>IDProject_2</td>\n",
       "      <td>Area_1</td>\n",
       "      <td>Sub_Area_1</td>\n",
       "      <td>Completed</td>\n",
       "      <td>6.070518e+04</td>\n",
       "      <td>4.245956e+04</td>\n",
       "      <td>Industrial</td>\n",
       "      <td>CCDC 5B</td>\n",
       "      <td>2012-09-01</td>\n",
       "      <td>2013-01-01</td>\n",
       "      <td>2012-11-12</td>\n",
       "    </tr>\n",
       "    <tr>\n",
       "      <th>3</th>\n",
       "      <td>3</td>\n",
       "      <td>IDProject_3</td>\n",
       "      <td>Area_2</td>\n",
       "      <td>Sub_Area_2</td>\n",
       "      <td>Completed</td>\n",
       "      <td>2.804828e+05</td>\n",
       "      <td>3.003621e+05</td>\n",
       "      <td>Commercial</td>\n",
       "      <td>CCDC 5A</td>\n",
       "      <td>2012-07-11</td>\n",
       "      <td>2015-01-11</td>\n",
       "      <td>2014-08-31</td>\n",
       "    </tr>\n",
       "    <tr>\n",
       "      <th>4</th>\n",
       "      <td>4</td>\n",
       "      <td>IDProject_4</td>\n",
       "      <td>Area_3</td>\n",
       "      <td>Sub_Area_3</td>\n",
       "      <td>Completed</td>\n",
       "      <td>2.833996e+06</td>\n",
       "      <td>2.747140e+06</td>\n",
       "      <td>Industrial</td>\n",
       "      <td>CCDC 2</td>\n",
       "      <td>2012-10-03</td>\n",
       "      <td>2013-02-28</td>\n",
       "      <td>2013-07-01</td>\n",
       "    </tr>\n",
       "    <tr>\n",
       "      <th>...</th>\n",
       "      <td>...</td>\n",
       "      <td>...</td>\n",
       "      <td>...</td>\n",
       "      <td>...</td>\n",
       "      <td>...</td>\n",
       "      <td>...</td>\n",
       "      <td>...</td>\n",
       "      <td>...</td>\n",
       "      <td>...</td>\n",
       "      <td>...</td>\n",
       "      <td>...</td>\n",
       "      <td>...</td>\n",
       "    </tr>\n",
       "    <tr>\n",
       "      <th>2844</th>\n",
       "      <td>2844</td>\n",
       "      <td>IDProject_2108</td>\n",
       "      <td>Area_16</td>\n",
       "      <td>Sub_Area_14</td>\n",
       "      <td>Completed</td>\n",
       "      <td>8.218626e+06</td>\n",
       "      <td>4.738921e+06</td>\n",
       "      <td>Institutional</td>\n",
       "      <td>Other</td>\n",
       "      <td>NaN</td>\n",
       "      <td>2011-02-10</td>\n",
       "      <td>2010-11-06</td>\n",
       "    </tr>\n",
       "    <tr>\n",
       "      <th>2845</th>\n",
       "      <td>2845</td>\n",
       "      <td>IDProject_2109</td>\n",
       "      <td>Area_12</td>\n",
       "      <td>Sub_Area_12</td>\n",
       "      <td>Completed</td>\n",
       "      <td>1.298898e+08</td>\n",
       "      <td>1.036424e+08</td>\n",
       "      <td>Residential</td>\n",
       "      <td>CCDC 5A</td>\n",
       "      <td>2008-05-01</td>\n",
       "      <td>2013-03-23</td>\n",
       "      <td>2013-09-18</td>\n",
       "    </tr>\n",
       "    <tr>\n",
       "      <th>2846</th>\n",
       "      <td>2846</td>\n",
       "      <td>IDProject_2110</td>\n",
       "      <td>Area_12</td>\n",
       "      <td>Sub_Area_12</td>\n",
       "      <td>Completed</td>\n",
       "      <td>1.999900e+08</td>\n",
       "      <td>2.684085e+08</td>\n",
       "      <td>Residential</td>\n",
       "      <td>CCDC 5A</td>\n",
       "      <td>2008-05-15</td>\n",
       "      <td>2013-01-13</td>\n",
       "      <td>2012-11-02</td>\n",
       "    </tr>\n",
       "    <tr>\n",
       "      <th>2847</th>\n",
       "      <td>2847</td>\n",
       "      <td>IDProject_2111</td>\n",
       "      <td>Area_12</td>\n",
       "      <td>Sub_Area_12</td>\n",
       "      <td>Completed</td>\n",
       "      <td>8.190600e+06</td>\n",
       "      <td>6.272629e+06</td>\n",
       "      <td>Residential</td>\n",
       "      <td>CCDC 5A</td>\n",
       "      <td>2008-06-22</td>\n",
       "      <td>2010-09-11</td>\n",
       "      <td>2010-04-28</td>\n",
       "    </tr>\n",
       "    <tr>\n",
       "      <th>2848</th>\n",
       "      <td>2848</td>\n",
       "      <td>IDProject_2112</td>\n",
       "      <td>Area_18</td>\n",
       "      <td>Sub_Area_21</td>\n",
       "      <td>Completed</td>\n",
       "      <td>8.218626e+06</td>\n",
       "      <td>1.312894e+07</td>\n",
       "      <td>Industrial</td>\n",
       "      <td>CCA 5</td>\n",
       "      <td>2004-03-04</td>\n",
       "      <td>2005-04-01</td>\n",
       "      <td>2005-05-04</td>\n",
       "    </tr>\n",
       "  </tbody>\n",
       "</table>\n",
       "<p>2849 rows × 12 columns</p>\n",
       "</div>"
      ],
      "text/plain": [
       "      index      IDProject_    Area_     SubArea_ projectPhase_  \\\n",
       "0         0     IDProject_0   Area_0   Sub_Area_0     Completed   \n",
       "1         1     IDProject_1   Area_1   Sub_Area_1     Completed   \n",
       "2         2     IDProject_2   Area_1   Sub_Area_1     Completed   \n",
       "3         3     IDProject_3   Area_2   Sub_Area_2     Completed   \n",
       "4         4     IDProject_4   Area_3   Sub_Area_3     Completed   \n",
       "...     ...             ...      ...          ...           ...   \n",
       "2844   2844  IDProject_2108  Area_16  Sub_Area_14     Completed   \n",
       "2845   2845  IDProject_2109  Area_12  Sub_Area_12     Completed   \n",
       "2846   2846  IDProject_2110  Area_12  Sub_Area_12     Completed   \n",
       "2847   2847  IDProject_2111  Area_12  Sub_Area_12     Completed   \n",
       "2848   2848  IDProject_2112  Area_18  Sub_Area_21     Completed   \n",
       "\n",
       "      OriginalEstimate_   CostToDate_ Project_Category Contract_Type_  \\\n",
       "0          9.519200e+05  1.155157e+06    Institutional        CCDC 2    \n",
       "1          1.478396e+05  1.334481e+05       Industrial       CCDC 5B    \n",
       "2          6.070518e+04  4.245956e+04       Industrial       CCDC 5B    \n",
       "3          2.804828e+05  3.003621e+05       Commercial       CCDC 5A    \n",
       "4          2.833996e+06  2.747140e+06       Industrial        CCDC 2    \n",
       "...                 ...           ...              ...            ...   \n",
       "2844       8.218626e+06  4.738921e+06    Institutional          Other   \n",
       "2845       1.298898e+08  1.036424e+08      Residential       CCDC 5A    \n",
       "2846       1.999900e+08  2.684085e+08      Residential       CCDC 5A    \n",
       "2847       8.190600e+06  6.272629e+06      Residential       CCDC 5A    \n",
       "2848       8.218626e+06  1.312894e+07       Industrial         CCA 5    \n",
       "\n",
       "     Start_Date_ EstimatedFinalCompletion_ Actual_End_Date_  \n",
       "0     2012-08-15                2012-12-23       2013-04-02  \n",
       "1     2012-09-01                2015-03-04       2015-05-25  \n",
       "2     2012-09-01                2013-01-01       2012-11-12  \n",
       "3     2012-07-11                2015-01-11       2014-08-31  \n",
       "4     2012-10-03                2013-02-28       2013-07-01  \n",
       "...          ...                       ...              ...  \n",
       "2844         NaN                2011-02-10       2010-11-06  \n",
       "2845  2008-05-01                2013-03-23       2013-09-18  \n",
       "2846  2008-05-15                2013-01-13       2012-11-02  \n",
       "2847  2008-06-22                2010-09-11       2010-04-28  \n",
       "2848  2004-03-04                2005-04-01       2005-05-04  \n",
       "\n",
       "[2849 rows x 12 columns]"
      ]
     },
     "execution_count": 16,
     "metadata": {},
     "output_type": "execute_result"
    }
   ],
   "source": [
    "new_df = df[['index','IDProject_', 'Area_', 'SubArea_', 'projectPhase_', 'OriginalEstimate_', 'CostToDate_', 'Project_Category', 'Contract_Type_', 'Start_Date_', 'EstimatedFinalCompletion_', 'Actual_End_Date_']]\n",
    "new_df"
   ]
  },
  {
   "cell_type": "code",
   "execution_count": 17,
   "id": "4735bd61-7675-4c1e-badb-f79d95e946a8",
   "metadata": {
    "tags": []
   },
   "outputs": [
    {
     "data": {
      "text/plain": [
       "85"
      ]
     },
     "execution_count": 17,
     "metadata": {},
     "output_type": "execute_result"
    }
   ],
   "source": [
    "new_df['IDProject_'].isnull().sum()"
   ]
  },
  {
   "cell_type": "code",
   "execution_count": 18,
   "id": "8517cf40-f996-48ff-b1b9-fd35c7b5198a",
   "metadata": {
    "tags": []
   },
   "outputs": [
    {
     "data": {
      "text/plain": [
       "(array([  12,   14,   55,   83,   84,   99,  124,  252,  258,  301,  319,\n",
       "         341,  388,  546,  609,  611,  691,  804,  805,  810,  818,  823,\n",
       "         892,  906,  925,  931,  975, 1051, 1068, 1074, 1090, 1100, 1116,\n",
       "        1187, 1189, 1230, 1300, 1307, 1316, 1454, 1467, 1472, 1555, 1572,\n",
       "        1585, 1588, 1633, 1643, 1690, 1693, 1752, 1753, 1767, 1780, 1822,\n",
       "        1854, 1897, 1955, 1959, 2015, 2093, 2101, 2122, 2161, 2205, 2219,\n",
       "        2222, 2291, 2302, 2329, 2371, 2408, 2437, 2444, 2487, 2529, 2598,\n",
       "        2601, 2676, 2700, 2732, 2754, 2764, 2772, 2825], dtype=int64),)"
      ]
     },
     "execution_count": 18,
     "metadata": {},
     "output_type": "execute_result"
    }
   ],
   "source": [
    "nan_arr = np.where(pd.isnull(new_df['IDProject_']))\n",
    "nan_arr"
   ]
  },
  {
   "cell_type": "code",
   "execution_count": 19,
   "id": "b45dca19-4757-4205-8e37-8c0421349088",
   "metadata": {
    "tags": []
   },
   "outputs": [
    {
     "name": "stdout",
     "output_type": "stream",
     "text": [
      "85\n",
      "[12, 14, 55, 83, 84, 99, 124, 252, 258, 301, 319, 341, 388, 546, 609, 611, 691, 804, 805, 810, 818, 823, 892, 906, 925, 931, 975, 1051, 1068, 1074, 1090, 1100, 1116, 1187, 1189, 1230, 1300, 1307, 1316, 1454, 1467, 1472, 1555, 1572, 1585, 1588, 1633, 1643, 1690, 1693, 1752, 1753, 1767, 1780, 1822, 1854, 1897, 1955, 1959, 2015, 2093, 2101, 2122, 2161, 2205, 2219, 2222, 2291, 2302, 2329, 2371, 2408, 2437, 2444, 2487, 2529, 2598, 2601, 2676, 2700, 2732, 2754, 2764, 2772, 2825]\n"
     ]
    }
   ],
   "source": [
    "nan_list = list(nan_arr)\n",
    "nan_l = nan_list[0].tolist()\n",
    "print(len(nan_l))\n",
    "print(nan_l)"
   ]
  },
  {
   "cell_type": "code",
   "execution_count": 20,
   "id": "abe2b716-64fb-401f-bbd4-888f106d77c8",
   "metadata": {
    "tags": []
   },
   "outputs": [],
   "source": [
    "new_df.iloc[nan_l, 1] = -1\n",
    "#print(new_df.iloc[100:160, 1])"
   ]
  },
  {
   "cell_type": "code",
   "execution_count": 21,
   "id": "e842e4e7-a18b-47e5-ac80-894aee563063",
   "metadata": {
    "tags": []
   },
   "outputs": [],
   "source": [
    "tot_list = []\n",
    "\n",
    "for j in range(new_df['IDProject_'].shape[0]):\n",
    "    if new_df.iloc[j, 1] != -1:\n",
    "        new_df.iloc[j, 1] = str(new_df.iloc[j, 1]).replace('IDProject_', '')   "
   ]
  },
  {
   "cell_type": "code",
   "execution_count": 22,
   "id": "3440b5b6-e804-401c-af22-cd4b5807cc03",
   "metadata": {
    "tags": []
   },
   "outputs": [
    {
     "data": {
      "text/html": [
       "<div>\n",
       "<style scoped>\n",
       "    .dataframe tbody tr th:only-of-type {\n",
       "        vertical-align: middle;\n",
       "    }\n",
       "\n",
       "    .dataframe tbody tr th {\n",
       "        vertical-align: top;\n",
       "    }\n",
       "\n",
       "    .dataframe thead th {\n",
       "        text-align: right;\n",
       "    }\n",
       "</style>\n",
       "<table border=\"1\" class=\"dataframe\">\n",
       "  <thead>\n",
       "    <tr style=\"text-align: right;\">\n",
       "      <th></th>\n",
       "      <th>index</th>\n",
       "      <th>IDProject_</th>\n",
       "      <th>Area_</th>\n",
       "      <th>SubArea_</th>\n",
       "      <th>projectPhase_</th>\n",
       "      <th>OriginalEstimate_</th>\n",
       "      <th>CostToDate_</th>\n",
       "      <th>Project_Category</th>\n",
       "      <th>Contract_Type_</th>\n",
       "      <th>Start_Date_</th>\n",
       "      <th>EstimatedFinalCompletion_</th>\n",
       "      <th>Actual_End_Date_</th>\n",
       "    </tr>\n",
       "  </thead>\n",
       "  <tbody>\n",
       "    <tr>\n",
       "      <th>0</th>\n",
       "      <td>0</td>\n",
       "      <td>0</td>\n",
       "      <td>Area_0</td>\n",
       "      <td>Sub_Area_0</td>\n",
       "      <td>Completed</td>\n",
       "      <td>9.519200e+05</td>\n",
       "      <td>1.155157e+06</td>\n",
       "      <td>Institutional</td>\n",
       "      <td>CCDC 2</td>\n",
       "      <td>2012-08-15</td>\n",
       "      <td>2012-12-23</td>\n",
       "      <td>2013-04-02</td>\n",
       "    </tr>\n",
       "    <tr>\n",
       "      <th>1</th>\n",
       "      <td>1</td>\n",
       "      <td>1</td>\n",
       "      <td>Area_1</td>\n",
       "      <td>Sub_Area_1</td>\n",
       "      <td>Completed</td>\n",
       "      <td>1.478396e+05</td>\n",
       "      <td>1.334481e+05</td>\n",
       "      <td>Industrial</td>\n",
       "      <td>CCDC 5B</td>\n",
       "      <td>2012-09-01</td>\n",
       "      <td>2015-03-04</td>\n",
       "      <td>2015-05-25</td>\n",
       "    </tr>\n",
       "    <tr>\n",
       "      <th>2</th>\n",
       "      <td>2</td>\n",
       "      <td>2</td>\n",
       "      <td>Area_1</td>\n",
       "      <td>Sub_Area_1</td>\n",
       "      <td>Completed</td>\n",
       "      <td>6.070518e+04</td>\n",
       "      <td>4.245956e+04</td>\n",
       "      <td>Industrial</td>\n",
       "      <td>CCDC 5B</td>\n",
       "      <td>2012-09-01</td>\n",
       "      <td>2013-01-01</td>\n",
       "      <td>2012-11-12</td>\n",
       "    </tr>\n",
       "    <tr>\n",
       "      <th>3</th>\n",
       "      <td>3</td>\n",
       "      <td>3</td>\n",
       "      <td>Area_2</td>\n",
       "      <td>Sub_Area_2</td>\n",
       "      <td>Completed</td>\n",
       "      <td>2.804828e+05</td>\n",
       "      <td>3.003621e+05</td>\n",
       "      <td>Commercial</td>\n",
       "      <td>CCDC 5A</td>\n",
       "      <td>2012-07-11</td>\n",
       "      <td>2015-01-11</td>\n",
       "      <td>2014-08-31</td>\n",
       "    </tr>\n",
       "    <tr>\n",
       "      <th>4</th>\n",
       "      <td>4</td>\n",
       "      <td>4</td>\n",
       "      <td>Area_3</td>\n",
       "      <td>Sub_Area_3</td>\n",
       "      <td>Completed</td>\n",
       "      <td>2.833996e+06</td>\n",
       "      <td>2.747140e+06</td>\n",
       "      <td>Industrial</td>\n",
       "      <td>CCDC 2</td>\n",
       "      <td>2012-10-03</td>\n",
       "      <td>2013-02-28</td>\n",
       "      <td>2013-07-01</td>\n",
       "    </tr>\n",
       "    <tr>\n",
       "      <th>...</th>\n",
       "      <td>...</td>\n",
       "      <td>...</td>\n",
       "      <td>...</td>\n",
       "      <td>...</td>\n",
       "      <td>...</td>\n",
       "      <td>...</td>\n",
       "      <td>...</td>\n",
       "      <td>...</td>\n",
       "      <td>...</td>\n",
       "      <td>...</td>\n",
       "      <td>...</td>\n",
       "      <td>...</td>\n",
       "    </tr>\n",
       "    <tr>\n",
       "      <th>2844</th>\n",
       "      <td>2844</td>\n",
       "      <td>2108</td>\n",
       "      <td>Area_16</td>\n",
       "      <td>Sub_Area_14</td>\n",
       "      <td>Completed</td>\n",
       "      <td>8.218626e+06</td>\n",
       "      <td>4.738921e+06</td>\n",
       "      <td>Institutional</td>\n",
       "      <td>Other</td>\n",
       "      <td>NaN</td>\n",
       "      <td>2011-02-10</td>\n",
       "      <td>2010-11-06</td>\n",
       "    </tr>\n",
       "    <tr>\n",
       "      <th>2845</th>\n",
       "      <td>2845</td>\n",
       "      <td>2109</td>\n",
       "      <td>Area_12</td>\n",
       "      <td>Sub_Area_12</td>\n",
       "      <td>Completed</td>\n",
       "      <td>1.298898e+08</td>\n",
       "      <td>1.036424e+08</td>\n",
       "      <td>Residential</td>\n",
       "      <td>CCDC 5A</td>\n",
       "      <td>2008-05-01</td>\n",
       "      <td>2013-03-23</td>\n",
       "      <td>2013-09-18</td>\n",
       "    </tr>\n",
       "    <tr>\n",
       "      <th>2846</th>\n",
       "      <td>2846</td>\n",
       "      <td>2110</td>\n",
       "      <td>Area_12</td>\n",
       "      <td>Sub_Area_12</td>\n",
       "      <td>Completed</td>\n",
       "      <td>1.999900e+08</td>\n",
       "      <td>2.684085e+08</td>\n",
       "      <td>Residential</td>\n",
       "      <td>CCDC 5A</td>\n",
       "      <td>2008-05-15</td>\n",
       "      <td>2013-01-13</td>\n",
       "      <td>2012-11-02</td>\n",
       "    </tr>\n",
       "    <tr>\n",
       "      <th>2847</th>\n",
       "      <td>2847</td>\n",
       "      <td>2111</td>\n",
       "      <td>Area_12</td>\n",
       "      <td>Sub_Area_12</td>\n",
       "      <td>Completed</td>\n",
       "      <td>8.190600e+06</td>\n",
       "      <td>6.272629e+06</td>\n",
       "      <td>Residential</td>\n",
       "      <td>CCDC 5A</td>\n",
       "      <td>2008-06-22</td>\n",
       "      <td>2010-09-11</td>\n",
       "      <td>2010-04-28</td>\n",
       "    </tr>\n",
       "    <tr>\n",
       "      <th>2848</th>\n",
       "      <td>2848</td>\n",
       "      <td>2112</td>\n",
       "      <td>Area_18</td>\n",
       "      <td>Sub_Area_21</td>\n",
       "      <td>Completed</td>\n",
       "      <td>8.218626e+06</td>\n",
       "      <td>1.312894e+07</td>\n",
       "      <td>Industrial</td>\n",
       "      <td>CCA 5</td>\n",
       "      <td>2004-03-04</td>\n",
       "      <td>2005-04-01</td>\n",
       "      <td>2005-05-04</td>\n",
       "    </tr>\n",
       "  </tbody>\n",
       "</table>\n",
       "<p>2849 rows × 12 columns</p>\n",
       "</div>"
      ],
      "text/plain": [
       "      index IDProject_    Area_     SubArea_ projectPhase_  OriginalEstimate_  \\\n",
       "0         0          0   Area_0   Sub_Area_0     Completed       9.519200e+05   \n",
       "1         1          1   Area_1   Sub_Area_1     Completed       1.478396e+05   \n",
       "2         2          2   Area_1   Sub_Area_1     Completed       6.070518e+04   \n",
       "3         3          3   Area_2   Sub_Area_2     Completed       2.804828e+05   \n",
       "4         4          4   Area_3   Sub_Area_3     Completed       2.833996e+06   \n",
       "...     ...        ...      ...          ...           ...                ...   \n",
       "2844   2844       2108  Area_16  Sub_Area_14     Completed       8.218626e+06   \n",
       "2845   2845       2109  Area_12  Sub_Area_12     Completed       1.298898e+08   \n",
       "2846   2846       2110  Area_12  Sub_Area_12     Completed       1.999900e+08   \n",
       "2847   2847       2111  Area_12  Sub_Area_12     Completed       8.190600e+06   \n",
       "2848   2848       2112  Area_18  Sub_Area_21     Completed       8.218626e+06   \n",
       "\n",
       "       CostToDate_ Project_Category Contract_Type_ Start_Date_  \\\n",
       "0     1.155157e+06    Institutional        CCDC 2   2012-08-15   \n",
       "1     1.334481e+05       Industrial       CCDC 5B   2012-09-01   \n",
       "2     4.245956e+04       Industrial       CCDC 5B   2012-09-01   \n",
       "3     3.003621e+05       Commercial       CCDC 5A   2012-07-11   \n",
       "4     2.747140e+06       Industrial        CCDC 2   2012-10-03   \n",
       "...            ...              ...            ...         ...   \n",
       "2844  4.738921e+06    Institutional          Other         NaN   \n",
       "2845  1.036424e+08      Residential       CCDC 5A   2008-05-01   \n",
       "2846  2.684085e+08      Residential       CCDC 5A   2008-05-15   \n",
       "2847  6.272629e+06      Residential       CCDC 5A   2008-06-22   \n",
       "2848  1.312894e+07       Industrial         CCA 5   2004-03-04   \n",
       "\n",
       "     EstimatedFinalCompletion_ Actual_End_Date_  \n",
       "0                   2012-12-23       2013-04-02  \n",
       "1                   2015-03-04       2015-05-25  \n",
       "2                   2013-01-01       2012-11-12  \n",
       "3                   2015-01-11       2014-08-31  \n",
       "4                   2013-02-28       2013-07-01  \n",
       "...                        ...              ...  \n",
       "2844                2011-02-10       2010-11-06  \n",
       "2845                2013-03-23       2013-09-18  \n",
       "2846                2013-01-13       2012-11-02  \n",
       "2847                2010-09-11       2010-04-28  \n",
       "2848                2005-04-01       2005-05-04  \n",
       "\n",
       "[2849 rows x 12 columns]"
      ]
     },
     "execution_count": 22,
     "metadata": {},
     "output_type": "execute_result"
    }
   ],
   "source": [
    "new_df"
   ]
  },
  {
   "cell_type": "code",
   "execution_count": 23,
   "id": "87eb7f71-453b-4016-afbd-30a6edf98e19",
   "metadata": {},
   "outputs": [],
   "source": [
    "def replace_nan(data_frame):\n",
    "    data_frame = data_frame\n",
    "    for j in range(data_frame.shape[0]):\n",
    "        if data_frame.iloc[j, 1] != -1:\n",
    "            data_frame.iloc[j, 1] = str(data_frame.iloc[j, 1]).replace('IDProject_', '')\n",
    "    return data_frame\n",
    "    "
   ]
  },
  {
   "cell_type": "code",
   "execution_count": 26,
   "id": "504d54ce-6f2c-4c89-9acd-c0eba48d3e59",
   "metadata": {
    "tags": []
   },
   "outputs": [],
   "source": [
    "drop_list = []\n",
    "not_drop = []\n",
    "\n",
    "for id_ in range(new_df['IDProject_'].shape[0]):\n",
    "    if new_df.iloc[id_, 1] == -1:\n",
    "        dif = int(new_df.iloc[id_+1, 1]) - int(new_df.iloc[id_-1, 1])\n",
    "        if (dif == 0):\n",
    "            #print(id_)\n",
    "            drop_list.append(id_)\n",
    "            \n",
    "        elif (dif == 1):\n",
    "            #print(id_)\n",
    "            drop_list.append(id_)\n",
    "                \n",
    "        elif dif >=2:\n",
    "            new_df.iloc[id_, 1] = int(new_df.iloc[id_ -1, 1]) + 1\n",
    "            not_drop.append(id_)\n",
    "        else:\n",
    "            continue          \n",
    "        "
   ]
  },
  {
   "cell_type": "code",
   "execution_count": 138,
   "id": "52a92534-b9d8-46ad-b897-c87a0cf362e9",
   "metadata": {},
   "outputs": [],
   "source": [
    "def cat_nan(data_frame):\n",
    "    data_frame = data_frame\n",
    "    drop_list = []\n",
    "    not_drop = []\n",
    "\n",
    "    for id_ in range(data_frame.shape[0]):\n",
    "        if data_frame.iloc[id_, 1] == -1:\n",
    "            dif = int(data_frame.iloc[id_+1, 1]) - int(data_frame.iloc[id_-1, 1])\n",
    "            if (dif == 0):\n",
    "                drop_list.append(id_)\n",
    "            \n",
    "            elif (dif == 1):\n",
    "                drop_list.append(id_)\n",
    "                \n",
    "            elif dif >=2:\n",
    "                data_frame.iloc[id_, 1] = int(data_frame.iloc[id_ -1, 1]) + 1\n",
    "                not_drop.append(id_)\n",
    "            else:\n",
    "                continue\n",
    "    return (drop_list, not_drop)\n",
    "    "
   ]
  },
  {
   "cell_type": "code",
   "execution_count": 27,
   "id": "9c86af46-2e16-4922-9faa-843ecb0dfb4f",
   "metadata": {
    "tags": []
   },
   "outputs": [
    {
     "name": "stdout",
     "output_type": "stream",
     "text": [
      "drop list: [12, 14, 823, 906, 931, 1116, 1230, 1454, 1467, 1955, 1959, 2015, 2101, 2122, 2161, 2219, 2222, 2291, 2302, 2371, 2408, 2444, 2598, 2601, 2732, 2754, 2764, 2772] \n",
      "not drop list: [55, 84, 99, 124, 252, 258, 301, 319, 341, 388, 546, 609, 611, 691, 805, 810, 818, 892, 925, 975, 1051, 1068, 1074, 1090, 1100, 1187, 1189, 1300, 1307, 1316, 1472, 1555, 1572, 1585, 1588, 1633, 1643, 1690, 1693, 1753, 1767, 1780, 1822, 1854, 1897, 2093, 2205, 2329, 2437, 2487, 2529, 2676, 2700, 2825]\n"
     ]
    }
   ],
   "source": [
    "print(f'drop list: {drop_list}', '\\n'f'not drop list: {not_drop}')"
   ]
  },
  {
   "cell_type": "code",
   "execution_count": 28,
   "id": "787e0f5f-d3b8-4230-8452-2936577cf67d",
   "metadata": {
    "tags": []
   },
   "outputs": [],
   "source": [
    "mod_df = new_df.drop(drop_list, axis = 0)"
   ]
  },
  {
   "cell_type": "code",
   "execution_count": 29,
   "id": "87bd41b6-48f7-4e30-abe4-f3745c1a99b4",
   "metadata": {
    "tags": []
   },
   "outputs": [
    {
     "data": {
      "text/plain": [
       "0          0\n",
       "1          1\n",
       "2          2\n",
       "3          3\n",
       "4          4\n",
       "        ... \n",
       "2844    2108\n",
       "2845    2109\n",
       "2846    2110\n",
       "2847    2111\n",
       "2848    2112\n",
       "Name: IDProject_, Length: 2821, dtype: object"
      ]
     },
     "execution_count": 29,
     "metadata": {},
     "output_type": "execute_result"
    }
   ],
   "source": [
    "mod_df.iloc[:,1]"
   ]
  },
  {
   "cell_type": "code",
   "execution_count": 30,
   "id": "e538b4d9-02b4-46fc-9319-edc262140041",
   "metadata": {
    "tags": []
   },
   "outputs": [
    {
     "name": "stdout",
     "output_type": "stream",
     "text": [
      "2849 2821\n"
     ]
    }
   ],
   "source": [
    "print(df.shape[0], mod_df.shape[0])"
   ]
  },
  {
   "cell_type": "code",
   "execution_count": 31,
   "id": "48a9bc16-f001-40f6-a5b0-c81cacd7ea9c",
   "metadata": {
    "tags": []
   },
   "outputs": [
    {
     "data": {
      "text/html": [
       "<div>\n",
       "<style scoped>\n",
       "    .dataframe tbody tr th:only-of-type {\n",
       "        vertical-align: middle;\n",
       "    }\n",
       "\n",
       "    .dataframe tbody tr th {\n",
       "        vertical-align: top;\n",
       "    }\n",
       "\n",
       "    .dataframe thead th {\n",
       "        text-align: right;\n",
       "    }\n",
       "</style>\n",
       "<table border=\"1\" class=\"dataframe\">\n",
       "  <thead>\n",
       "    <tr style=\"text-align: right;\">\n",
       "      <th></th>\n",
       "      <th>IDProject_</th>\n",
       "      <th>Area_</th>\n",
       "      <th>SubArea_</th>\n",
       "      <th>projectPhase_</th>\n",
       "      <th>OriginalEstimate_</th>\n",
       "      <th>CostToDate_</th>\n",
       "      <th>Project_Category</th>\n",
       "      <th>Contract_Type_</th>\n",
       "      <th>Start_Date_</th>\n",
       "      <th>EstimatedFinalCompletion_</th>\n",
       "      <th>Actual_End_Date_</th>\n",
       "    </tr>\n",
       "  </thead>\n",
       "  <tbody>\n",
       "    <tr>\n",
       "      <th>0</th>\n",
       "      <td>0</td>\n",
       "      <td>Area_0</td>\n",
       "      <td>Sub_Area_0</td>\n",
       "      <td>Completed</td>\n",
       "      <td>9.519200e+05</td>\n",
       "      <td>1.155157e+06</td>\n",
       "      <td>Institutional</td>\n",
       "      <td>CCDC 2</td>\n",
       "      <td>2012-08-15</td>\n",
       "      <td>2012-12-23</td>\n",
       "      <td>2013-04-02</td>\n",
       "    </tr>\n",
       "    <tr>\n",
       "      <th>1</th>\n",
       "      <td>1</td>\n",
       "      <td>Area_1</td>\n",
       "      <td>Sub_Area_1</td>\n",
       "      <td>Completed</td>\n",
       "      <td>1.478396e+05</td>\n",
       "      <td>1.334481e+05</td>\n",
       "      <td>Industrial</td>\n",
       "      <td>CCDC 5B</td>\n",
       "      <td>2012-09-01</td>\n",
       "      <td>2015-03-04</td>\n",
       "      <td>2015-05-25</td>\n",
       "    </tr>\n",
       "    <tr>\n",
       "      <th>2</th>\n",
       "      <td>2</td>\n",
       "      <td>Area_1</td>\n",
       "      <td>Sub_Area_1</td>\n",
       "      <td>Completed</td>\n",
       "      <td>6.070518e+04</td>\n",
       "      <td>4.245956e+04</td>\n",
       "      <td>Industrial</td>\n",
       "      <td>CCDC 5B</td>\n",
       "      <td>2012-09-01</td>\n",
       "      <td>2013-01-01</td>\n",
       "      <td>2012-11-12</td>\n",
       "    </tr>\n",
       "    <tr>\n",
       "      <th>3</th>\n",
       "      <td>3</td>\n",
       "      <td>Area_2</td>\n",
       "      <td>Sub_Area_2</td>\n",
       "      <td>Completed</td>\n",
       "      <td>2.804828e+05</td>\n",
       "      <td>3.003621e+05</td>\n",
       "      <td>Commercial</td>\n",
       "      <td>CCDC 5A</td>\n",
       "      <td>2012-07-11</td>\n",
       "      <td>2015-01-11</td>\n",
       "      <td>2014-08-31</td>\n",
       "    </tr>\n",
       "    <tr>\n",
       "      <th>4</th>\n",
       "      <td>4</td>\n",
       "      <td>Area_3</td>\n",
       "      <td>Sub_Area_3</td>\n",
       "      <td>Completed</td>\n",
       "      <td>2.833996e+06</td>\n",
       "      <td>2.747140e+06</td>\n",
       "      <td>Industrial</td>\n",
       "      <td>CCDC 2</td>\n",
       "      <td>2012-10-03</td>\n",
       "      <td>2013-02-28</td>\n",
       "      <td>2013-07-01</td>\n",
       "    </tr>\n",
       "    <tr>\n",
       "      <th>...</th>\n",
       "      <td>...</td>\n",
       "      <td>...</td>\n",
       "      <td>...</td>\n",
       "      <td>...</td>\n",
       "      <td>...</td>\n",
       "      <td>...</td>\n",
       "      <td>...</td>\n",
       "      <td>...</td>\n",
       "      <td>...</td>\n",
       "      <td>...</td>\n",
       "      <td>...</td>\n",
       "    </tr>\n",
       "    <tr>\n",
       "      <th>2844</th>\n",
       "      <td>2108</td>\n",
       "      <td>Area_16</td>\n",
       "      <td>Sub_Area_14</td>\n",
       "      <td>Completed</td>\n",
       "      <td>8.218626e+06</td>\n",
       "      <td>4.738921e+06</td>\n",
       "      <td>Institutional</td>\n",
       "      <td>Other</td>\n",
       "      <td>NaN</td>\n",
       "      <td>2011-02-10</td>\n",
       "      <td>2010-11-06</td>\n",
       "    </tr>\n",
       "    <tr>\n",
       "      <th>2845</th>\n",
       "      <td>2109</td>\n",
       "      <td>Area_12</td>\n",
       "      <td>Sub_Area_12</td>\n",
       "      <td>Completed</td>\n",
       "      <td>1.298898e+08</td>\n",
       "      <td>1.036424e+08</td>\n",
       "      <td>Residential</td>\n",
       "      <td>CCDC 5A</td>\n",
       "      <td>2008-05-01</td>\n",
       "      <td>2013-03-23</td>\n",
       "      <td>2013-09-18</td>\n",
       "    </tr>\n",
       "    <tr>\n",
       "      <th>2846</th>\n",
       "      <td>2110</td>\n",
       "      <td>Area_12</td>\n",
       "      <td>Sub_Area_12</td>\n",
       "      <td>Completed</td>\n",
       "      <td>1.999900e+08</td>\n",
       "      <td>2.684085e+08</td>\n",
       "      <td>Residential</td>\n",
       "      <td>CCDC 5A</td>\n",
       "      <td>2008-05-15</td>\n",
       "      <td>2013-01-13</td>\n",
       "      <td>2012-11-02</td>\n",
       "    </tr>\n",
       "    <tr>\n",
       "      <th>2847</th>\n",
       "      <td>2111</td>\n",
       "      <td>Area_12</td>\n",
       "      <td>Sub_Area_12</td>\n",
       "      <td>Completed</td>\n",
       "      <td>8.190600e+06</td>\n",
       "      <td>6.272629e+06</td>\n",
       "      <td>Residential</td>\n",
       "      <td>CCDC 5A</td>\n",
       "      <td>2008-06-22</td>\n",
       "      <td>2010-09-11</td>\n",
       "      <td>2010-04-28</td>\n",
       "    </tr>\n",
       "    <tr>\n",
       "      <th>2848</th>\n",
       "      <td>2112</td>\n",
       "      <td>Area_18</td>\n",
       "      <td>Sub_Area_21</td>\n",
       "      <td>Completed</td>\n",
       "      <td>8.218626e+06</td>\n",
       "      <td>1.312894e+07</td>\n",
       "      <td>Industrial</td>\n",
       "      <td>CCA 5</td>\n",
       "      <td>2004-03-04</td>\n",
       "      <td>2005-04-01</td>\n",
       "      <td>2005-05-04</td>\n",
       "    </tr>\n",
       "  </tbody>\n",
       "</table>\n",
       "<p>2821 rows × 11 columns</p>\n",
       "</div>"
      ],
      "text/plain": [
       "     IDProject_    Area_     SubArea_ projectPhase_  OriginalEstimate_  \\\n",
       "0             0   Area_0   Sub_Area_0     Completed       9.519200e+05   \n",
       "1             1   Area_1   Sub_Area_1     Completed       1.478396e+05   \n",
       "2             2   Area_1   Sub_Area_1     Completed       6.070518e+04   \n",
       "3             3   Area_2   Sub_Area_2     Completed       2.804828e+05   \n",
       "4             4   Area_3   Sub_Area_3     Completed       2.833996e+06   \n",
       "...         ...      ...          ...           ...                ...   \n",
       "2844       2108  Area_16  Sub_Area_14     Completed       8.218626e+06   \n",
       "2845       2109  Area_12  Sub_Area_12     Completed       1.298898e+08   \n",
       "2846       2110  Area_12  Sub_Area_12     Completed       1.999900e+08   \n",
       "2847       2111  Area_12  Sub_Area_12     Completed       8.190600e+06   \n",
       "2848       2112  Area_18  Sub_Area_21     Completed       8.218626e+06   \n",
       "\n",
       "       CostToDate_ Project_Category Contract_Type_ Start_Date_  \\\n",
       "0     1.155157e+06    Institutional        CCDC 2   2012-08-15   \n",
       "1     1.334481e+05       Industrial       CCDC 5B   2012-09-01   \n",
       "2     4.245956e+04       Industrial       CCDC 5B   2012-09-01   \n",
       "3     3.003621e+05       Commercial       CCDC 5A   2012-07-11   \n",
       "4     2.747140e+06       Industrial        CCDC 2   2012-10-03   \n",
       "...            ...              ...            ...         ...   \n",
       "2844  4.738921e+06    Institutional          Other         NaN   \n",
       "2845  1.036424e+08      Residential       CCDC 5A   2008-05-01   \n",
       "2846  2.684085e+08      Residential       CCDC 5A   2008-05-15   \n",
       "2847  6.272629e+06      Residential       CCDC 5A   2008-06-22   \n",
       "2848  1.312894e+07       Industrial         CCA 5   2004-03-04   \n",
       "\n",
       "     EstimatedFinalCompletion_ Actual_End_Date_  \n",
       "0                   2012-12-23       2013-04-02  \n",
       "1                   2015-03-04       2015-05-25  \n",
       "2                   2013-01-01       2012-11-12  \n",
       "3                   2015-01-11       2014-08-31  \n",
       "4                   2013-02-28       2013-07-01  \n",
       "...                        ...              ...  \n",
       "2844                2011-02-10       2010-11-06  \n",
       "2845                2013-03-23       2013-09-18  \n",
       "2846                2013-01-13       2012-11-02  \n",
       "2847                2010-09-11       2010-04-28  \n",
       "2848                2005-04-01       2005-05-04  \n",
       "\n",
       "[2821 rows x 11 columns]"
      ]
     },
     "execution_count": 31,
     "metadata": {},
     "output_type": "execute_result"
    }
   ],
   "source": [
    "mod_df.reset_index()\n",
    "mod_df.drop(['index'], axis=1)\n",
    "\n",
    "mod_df.drop('index', axis = 1, inplace = True)\n",
    "mod_df.to_csv('modified_id_df.csv', sep=',')\n",
    "mod_df"
   ]
  },
  {
   "cell_type": "markdown",
   "id": "da96a0fa-f25a-404c-bfd0-def1e6a2d28f",
   "metadata": {
    "tags": []
   },
   "source": [
    "# Checking the IDs"
   ]
  },
  {
   "cell_type": "code",
   "execution_count": 32,
   "id": "fcfb98b8-8051-4c91-9d46-3965d4776019",
   "metadata": {
    "tags": []
   },
   "outputs": [
    {
     "name": "stdout",
     "output_type": "stream",
     "text": [
      "1749     Area_3\n",
      "1750     Area_3\n",
      "1751     Area_3\n",
      "1752     Area_3\n",
      "1753     Area_3\n",
      "1754     Area_3\n",
      "1755     Area_3\n",
      "1756    Area_18\n",
      "1757    Area_18\n",
      "1758    Area_18\n",
      "Name: Area_, dtype: object\n"
     ]
    }
   ],
   "source": [
    "print(mod_df.iloc[1740:1750,1])"
   ]
  },
  {
   "cell_type": "code",
   "execution_count": 33,
   "id": "820e0f2e-1061-4c06-8586-dfa205093bdb",
   "metadata": {
    "tags": []
   },
   "outputs": [],
   "source": [
    "mod_df = mod_df.drop(mod_df[mod_df.IDProject_ == -1].index)\n",
    "mod_df = mod_df.drop(mod_df[mod_df.IDProject_ == 0].index)"
   ]
  },
  {
   "cell_type": "code",
   "execution_count": 34,
   "id": "29d1f30a-a2d2-4495-a006-4bb66e5a1f4a",
   "metadata": {
    "tags": []
   },
   "outputs": [
    {
     "data": {
      "text/plain": [
       "1743     Area_3\n",
       "1744     Area_3\n",
       "1745     Area_3\n",
       "1746     Area_3\n",
       "1747     Area_3\n",
       "1748     Area_3\n",
       "1749     Area_3\n",
       "1750     Area_3\n",
       "1751     Area_3\n",
       "1754     Area_3\n",
       "1755     Area_3\n",
       "1756    Area_18\n",
       "1757    Area_18\n",
       "1758    Area_18\n",
       "1759    Area_18\n",
       "1760    Area_18\n",
       "1761     Area_2\n",
       "1762     Area_2\n",
       "1763     Area_2\n",
       "1764     Area_2\n",
       "Name: Area_, dtype: object"
      ]
     },
     "execution_count": 34,
     "metadata": {},
     "output_type": "execute_result"
    }
   ],
   "source": [
    "mod_df.iloc[1730:1750,1]"
   ]
  },
  {
   "cell_type": "markdown",
   "id": "18c52e40-e7d7-43fb-98e1-2d48efd0cd2e",
   "metadata": {},
   "source": [
    "# Duplicates"
   ]
  },
  {
   "cell_type": "code",
   "execution_count": 35,
   "id": "7874b4aa-92cd-4e2e-b28a-15da2f974979",
   "metadata": {
    "tags": []
   },
   "outputs": [],
   "source": [
    "def dup(x):\n",
    "    duplicate = []\n",
    "    unique = []\n",
    "    for i in x:\n",
    "        if i in unique:\n",
    "            duplicate.append(i)\n",
    "        else:\n",
    "            unique.append(i)\n",
    "    return (duplicate)\n",
    "    "
   ]
  },
  {
   "cell_type": "code",
   "execution_count": 36,
   "id": "9f24c157-af6e-48f7-9be6-83cfe438642f",
   "metadata": {
    "tags": []
   },
   "outputs": [],
   "source": [
    "total = mod_df.IDProject_.tolist()\n",
    "duplicate_values = dup(total)"
   ]
  },
  {
   "cell_type": "markdown",
   "id": "ee9f8ac1-441d-4a2f-b696-d183a0368df0",
   "metadata": {
    "tags": []
   },
   "source": [
    "# Modification of the costs"
   ]
  },
  {
   "cell_type": "code",
   "execution_count": 37,
   "id": "7fa5f23c-4ad2-494b-88cf-390d4f87f6c8",
   "metadata": {
    "tags": []
   },
   "outputs": [],
   "source": [
    "mod_df.reset_index(drop=True, inplace=True)"
   ]
  },
  {
   "cell_type": "code",
   "execution_count": 38,
   "id": "4135603a-82e1-4389-a123-840bee1abd2d",
   "metadata": {
    "tags": []
   },
   "outputs": [
    {
     "data": {
      "text/html": [
       "<div>\n",
       "<style scoped>\n",
       "    .dataframe tbody tr th:only-of-type {\n",
       "        vertical-align: middle;\n",
       "    }\n",
       "\n",
       "    .dataframe tbody tr th {\n",
       "        vertical-align: top;\n",
       "    }\n",
       "\n",
       "    .dataframe thead th {\n",
       "        text-align: right;\n",
       "    }\n",
       "</style>\n",
       "<table border=\"1\" class=\"dataframe\">\n",
       "  <thead>\n",
       "    <tr style=\"text-align: right;\">\n",
       "      <th></th>\n",
       "      <th>IDProject_</th>\n",
       "      <th>Area_</th>\n",
       "      <th>SubArea_</th>\n",
       "      <th>projectPhase_</th>\n",
       "      <th>OriginalEstimate_</th>\n",
       "      <th>CostToDate_</th>\n",
       "      <th>Project_Category</th>\n",
       "      <th>Contract_Type_</th>\n",
       "      <th>Start_Date_</th>\n",
       "      <th>EstimatedFinalCompletion_</th>\n",
       "      <th>Actual_End_Date_</th>\n",
       "    </tr>\n",
       "  </thead>\n",
       "  <tbody>\n",
       "    <tr>\n",
       "      <th>0</th>\n",
       "      <td>0</td>\n",
       "      <td>Area_0</td>\n",
       "      <td>Sub_Area_0</td>\n",
       "      <td>Completed</td>\n",
       "      <td>9.519200e+05</td>\n",
       "      <td>1.155157e+06</td>\n",
       "      <td>Institutional</td>\n",
       "      <td>CCDC 2</td>\n",
       "      <td>2012-08-15</td>\n",
       "      <td>2012-12-23</td>\n",
       "      <td>2013-04-02</td>\n",
       "    </tr>\n",
       "    <tr>\n",
       "      <th>1</th>\n",
       "      <td>1</td>\n",
       "      <td>Area_1</td>\n",
       "      <td>Sub_Area_1</td>\n",
       "      <td>Completed</td>\n",
       "      <td>1.478396e+05</td>\n",
       "      <td>1.334481e+05</td>\n",
       "      <td>Industrial</td>\n",
       "      <td>CCDC 5B</td>\n",
       "      <td>2012-09-01</td>\n",
       "      <td>2015-03-04</td>\n",
       "      <td>2015-05-25</td>\n",
       "    </tr>\n",
       "    <tr>\n",
       "      <th>2</th>\n",
       "      <td>2</td>\n",
       "      <td>Area_1</td>\n",
       "      <td>Sub_Area_1</td>\n",
       "      <td>Completed</td>\n",
       "      <td>6.070518e+04</td>\n",
       "      <td>4.245956e+04</td>\n",
       "      <td>Industrial</td>\n",
       "      <td>CCDC 5B</td>\n",
       "      <td>2012-09-01</td>\n",
       "      <td>2013-01-01</td>\n",
       "      <td>2012-11-12</td>\n",
       "    </tr>\n",
       "    <tr>\n",
       "      <th>3</th>\n",
       "      <td>3</td>\n",
       "      <td>Area_2</td>\n",
       "      <td>Sub_Area_2</td>\n",
       "      <td>Completed</td>\n",
       "      <td>2.804828e+05</td>\n",
       "      <td>3.003621e+05</td>\n",
       "      <td>Commercial</td>\n",
       "      <td>CCDC 5A</td>\n",
       "      <td>2012-07-11</td>\n",
       "      <td>2015-01-11</td>\n",
       "      <td>2014-08-31</td>\n",
       "    </tr>\n",
       "    <tr>\n",
       "      <th>4</th>\n",
       "      <td>4</td>\n",
       "      <td>Area_3</td>\n",
       "      <td>Sub_Area_3</td>\n",
       "      <td>Completed</td>\n",
       "      <td>2.833996e+06</td>\n",
       "      <td>2.747140e+06</td>\n",
       "      <td>Industrial</td>\n",
       "      <td>CCDC 2</td>\n",
       "      <td>2012-10-03</td>\n",
       "      <td>2013-02-28</td>\n",
       "      <td>2013-07-01</td>\n",
       "    </tr>\n",
       "    <tr>\n",
       "      <th>...</th>\n",
       "      <td>...</td>\n",
       "      <td>...</td>\n",
       "      <td>...</td>\n",
       "      <td>...</td>\n",
       "      <td>...</td>\n",
       "      <td>...</td>\n",
       "      <td>...</td>\n",
       "      <td>...</td>\n",
       "      <td>...</td>\n",
       "      <td>...</td>\n",
       "      <td>...</td>\n",
       "    </tr>\n",
       "    <tr>\n",
       "      <th>2810</th>\n",
       "      <td>2108</td>\n",
       "      <td>Area_16</td>\n",
       "      <td>Sub_Area_14</td>\n",
       "      <td>Completed</td>\n",
       "      <td>8.218626e+06</td>\n",
       "      <td>4.738921e+06</td>\n",
       "      <td>Institutional</td>\n",
       "      <td>Other</td>\n",
       "      <td>NaN</td>\n",
       "      <td>2011-02-10</td>\n",
       "      <td>2010-11-06</td>\n",
       "    </tr>\n",
       "    <tr>\n",
       "      <th>2811</th>\n",
       "      <td>2109</td>\n",
       "      <td>Area_12</td>\n",
       "      <td>Sub_Area_12</td>\n",
       "      <td>Completed</td>\n",
       "      <td>1.298898e+08</td>\n",
       "      <td>1.036424e+08</td>\n",
       "      <td>Residential</td>\n",
       "      <td>CCDC 5A</td>\n",
       "      <td>2008-05-01</td>\n",
       "      <td>2013-03-23</td>\n",
       "      <td>2013-09-18</td>\n",
       "    </tr>\n",
       "    <tr>\n",
       "      <th>2812</th>\n",
       "      <td>2110</td>\n",
       "      <td>Area_12</td>\n",
       "      <td>Sub_Area_12</td>\n",
       "      <td>Completed</td>\n",
       "      <td>1.999900e+08</td>\n",
       "      <td>2.684085e+08</td>\n",
       "      <td>Residential</td>\n",
       "      <td>CCDC 5A</td>\n",
       "      <td>2008-05-15</td>\n",
       "      <td>2013-01-13</td>\n",
       "      <td>2012-11-02</td>\n",
       "    </tr>\n",
       "    <tr>\n",
       "      <th>2813</th>\n",
       "      <td>2111</td>\n",
       "      <td>Area_12</td>\n",
       "      <td>Sub_Area_12</td>\n",
       "      <td>Completed</td>\n",
       "      <td>8.190600e+06</td>\n",
       "      <td>6.272629e+06</td>\n",
       "      <td>Residential</td>\n",
       "      <td>CCDC 5A</td>\n",
       "      <td>2008-06-22</td>\n",
       "      <td>2010-09-11</td>\n",
       "      <td>2010-04-28</td>\n",
       "    </tr>\n",
       "    <tr>\n",
       "      <th>2814</th>\n",
       "      <td>2112</td>\n",
       "      <td>Area_18</td>\n",
       "      <td>Sub_Area_21</td>\n",
       "      <td>Completed</td>\n",
       "      <td>8.218626e+06</td>\n",
       "      <td>1.312894e+07</td>\n",
       "      <td>Industrial</td>\n",
       "      <td>CCA 5</td>\n",
       "      <td>2004-03-04</td>\n",
       "      <td>2005-04-01</td>\n",
       "      <td>2005-05-04</td>\n",
       "    </tr>\n",
       "  </tbody>\n",
       "</table>\n",
       "<p>2815 rows × 11 columns</p>\n",
       "</div>"
      ],
      "text/plain": [
       "     IDProject_    Area_     SubArea_ projectPhase_  OriginalEstimate_  \\\n",
       "0             0   Area_0   Sub_Area_0     Completed       9.519200e+05   \n",
       "1             1   Area_1   Sub_Area_1     Completed       1.478396e+05   \n",
       "2             2   Area_1   Sub_Area_1     Completed       6.070518e+04   \n",
       "3             3   Area_2   Sub_Area_2     Completed       2.804828e+05   \n",
       "4             4   Area_3   Sub_Area_3     Completed       2.833996e+06   \n",
       "...         ...      ...          ...           ...                ...   \n",
       "2810       2108  Area_16  Sub_Area_14     Completed       8.218626e+06   \n",
       "2811       2109  Area_12  Sub_Area_12     Completed       1.298898e+08   \n",
       "2812       2110  Area_12  Sub_Area_12     Completed       1.999900e+08   \n",
       "2813       2111  Area_12  Sub_Area_12     Completed       8.190600e+06   \n",
       "2814       2112  Area_18  Sub_Area_21     Completed       8.218626e+06   \n",
       "\n",
       "       CostToDate_ Project_Category Contract_Type_ Start_Date_  \\\n",
       "0     1.155157e+06    Institutional        CCDC 2   2012-08-15   \n",
       "1     1.334481e+05       Industrial       CCDC 5B   2012-09-01   \n",
       "2     4.245956e+04       Industrial       CCDC 5B   2012-09-01   \n",
       "3     3.003621e+05       Commercial       CCDC 5A   2012-07-11   \n",
       "4     2.747140e+06       Industrial        CCDC 2   2012-10-03   \n",
       "...            ...              ...            ...         ...   \n",
       "2810  4.738921e+06    Institutional          Other         NaN   \n",
       "2811  1.036424e+08      Residential       CCDC 5A   2008-05-01   \n",
       "2812  2.684085e+08      Residential       CCDC 5A   2008-05-15   \n",
       "2813  6.272629e+06      Residential       CCDC 5A   2008-06-22   \n",
       "2814  1.312894e+07       Industrial         CCA 5   2004-03-04   \n",
       "\n",
       "     EstimatedFinalCompletion_ Actual_End_Date_  \n",
       "0                   2012-12-23       2013-04-02  \n",
       "1                   2015-03-04       2015-05-25  \n",
       "2                   2013-01-01       2012-11-12  \n",
       "3                   2015-01-11       2014-08-31  \n",
       "4                   2013-02-28       2013-07-01  \n",
       "...                        ...              ...  \n",
       "2810                2011-02-10       2010-11-06  \n",
       "2811                2013-03-23       2013-09-18  \n",
       "2812                2013-01-13       2012-11-02  \n",
       "2813                2010-09-11       2010-04-28  \n",
       "2814                2005-04-01       2005-05-04  \n",
       "\n",
       "[2815 rows x 11 columns]"
      ]
     },
     "execution_count": 38,
     "metadata": {},
     "output_type": "execute_result"
    }
   ],
   "source": [
    "mod_df"
   ]
  },
  {
   "cell_type": "code",
   "execution_count": 39,
   "id": "bcbccfd6-d7a7-45c6-a7f2-8651c81b10b8",
   "metadata": {
    "tags": []
   },
   "outputs": [
    {
     "data": {
      "text/plain": [
       "84"
      ]
     },
     "execution_count": 39,
     "metadata": {},
     "output_type": "execute_result"
    }
   ],
   "source": [
    "mod_df.OriginalEstimate_.isnull().sum()"
   ]
  },
  {
   "cell_type": "code",
   "execution_count": 40,
   "id": "66a15156-5525-40a1-9eac-321f85bde45a",
   "metadata": {
    "tags": []
   },
   "outputs": [
    {
     "data": {
      "text/plain": [
       "84"
      ]
     },
     "execution_count": 40,
     "metadata": {},
     "output_type": "execute_result"
    }
   ],
   "source": [
    "mod_df.CostToDate_.isnull().sum()"
   ]
  },
  {
   "cell_type": "code",
   "execution_count": 41,
   "id": "9f30ea1c-66f3-45fd-80f9-85a893e65f7d",
   "metadata": {
    "tags": []
   },
   "outputs": [],
   "source": [
    "org_est = mod_df.OriginalEstimate_.to_numpy()\n",
    "org_est_idx = np.argwhere(np.isnan(org_est))\n",
    "cost_dat = mod_df.CostToDate_.to_numpy()\n",
    "cost_dat_idx = np.argwhere(np.isnan(cost_dat))"
   ]
  },
  {
   "cell_type": "code",
   "execution_count": 42,
   "id": "da9d5928-32ee-47b7-8d80-6db04306fe52",
   "metadata": {
    "tags": []
   },
   "outputs": [],
   "source": [
    "from itertools import chain\n",
    "flat_org_est = list(chain(*org_est_idx))\n",
    "flat_cost_dat = list(chain(*cost_dat_idx))"
   ]
  },
  {
   "cell_type": "markdown",
   "id": "e5c97d61-d5f1-4bcb-a4bc-6e27a97f4d0f",
   "metadata": {},
   "source": [
    "### Check if there is any record in which both estimated cost and cost to date are missing"
   ]
  },
  {
   "cell_type": "code",
   "execution_count": 43,
   "id": "6cd8ed1b-2670-4f11-8576-342f25f89757",
   "metadata": {
    "tags": []
   },
   "outputs": [
    {
     "name": "stdout",
     "output_type": "stream",
     "text": [
      "True\n"
     ]
    }
   ],
   "source": [
    "out = any(check in flat_org_est for check in flat_cost_dat)\n",
    " \n",
    "# Checking condition\n",
    "if out:\n",
    "    print(\"True\") \n",
    "else :\n",
    "    print(\"False\")"
   ]
  },
  {
   "cell_type": "code",
   "execution_count": 44,
   "id": "292f17b8-36e3-4227-b546-4b531ae93b2b",
   "metadata": {
    "tags": []
   },
   "outputs": [],
   "source": [
    "def common_elements(list1, list2):\n",
    "    return [element for element in list1 if element in list2]"
   ]
  },
  {
   "cell_type": "code",
   "execution_count": 45,
   "id": "2a2e89c5-ed4b-4c44-9067-b1d3bc9aec39",
   "metadata": {
    "tags": []
   },
   "outputs": [
    {
     "name": "stdout",
     "output_type": "stream",
     "text": [
      "[191, 327]\n"
     ]
    }
   ],
   "source": [
    "com_ele = common_elements(flat_org_est, flat_cost_dat)\n",
    "print(com_ele)"
   ]
  },
  {
   "cell_type": "markdown",
   "id": "dbcccf34-42fe-46e7-9b0e-f9c469d9eff4",
   "metadata": {},
   "source": [
    "# Drop the common missing values within the two lists"
   ]
  },
  {
   "cell_type": "code",
   "execution_count": 46,
   "id": "6575ac84-f300-4f48-8011-41d63532dc66",
   "metadata": {
    "tags": []
   },
   "outputs": [],
   "source": [
    "mod_df.drop([191, 327], axis = 0, inplace= True)"
   ]
  },
  {
   "cell_type": "code",
   "execution_count": 47,
   "id": "ae869b40-acbd-4818-ad7e-ca3e35be9973",
   "metadata": {
    "tags": []
   },
   "outputs": [
    {
     "data": {
      "text/plain": [
       "185    8218625.68\n",
       "186    8218625.68\n",
       "187    8218625.68\n",
       "188    8218625.68\n",
       "189    8218625.68\n",
       "190    8218625.68\n",
       "192    8218625.68\n",
       "193    8218625.68\n",
       "194    8218625.68\n",
       "195    8218625.68\n",
       "Name: OriginalEstimate_, dtype: float64"
      ]
     },
     "execution_count": 47,
     "metadata": {},
     "output_type": "execute_result"
    }
   ],
   "source": [
    "mod_df.OriginalEstimate_[185:195]"
   ]
  },
  {
   "cell_type": "code",
   "execution_count": 48,
   "id": "4e95e342-8e0f-480f-993b-f8a08519b152",
   "metadata": {
    "tags": []
   },
   "outputs": [],
   "source": [
    "mod_df.reset_index(inplace = True)\n",
    "mod_df.drop(['index'], axis =1, inplace = True)"
   ]
  },
  {
   "cell_type": "code",
   "execution_count": 49,
   "id": "b36172ab-5e69-45c1-ae21-93865eb91ca0",
   "metadata": {
    "tags": []
   },
   "outputs": [],
   "source": [
    "def find_nan(s):\n",
    "    s_arr = s.to_numpy()\n",
    "    index_list = np.argwhere(np.isnan(s_arr))\n",
    "    \n",
    "    return index_list"
   ]
  },
  {
   "cell_type": "code",
   "execution_count": 50,
   "id": "b5e8eeca-2490-49aa-b4ec-4410ddff59c0",
   "metadata": {
    "tags": []
   },
   "outputs": [],
   "source": [
    "org_est = mod_df.OriginalEstimate_.to_numpy()\n",
    "org_est_idx = np.argwhere(np.isnan(org_est))\n",
    "cost_dat = mod_df.CostToDate_.to_numpy()\n",
    "cost_dat_idx = np.argwhere(np.isnan(cost_dat))"
   ]
  },
  {
   "cell_type": "code",
   "execution_count": 51,
   "id": "0f80a054-c9f4-492d-9f3a-6f900b9db8d0",
   "metadata": {
    "tags": []
   },
   "outputs": [
    {
     "data": {
      "text/plain": [
       "pandas.core.series.Series"
      ]
     },
     "execution_count": 51,
     "metadata": {},
     "output_type": "execute_result"
    }
   ],
   "source": [
    "type(mod_df.OriginalEstimate_)"
   ]
  },
  {
   "cell_type": "code",
   "execution_count": 52,
   "id": "ba99f00c-145d-433f-bac8-67edf26e6278",
   "metadata": {
    "tags": []
   },
   "outputs": [],
   "source": [
    "from itertools import chain\n",
    "flat_org_est = list(chain(*org_est_idx))\n",
    "flat_cost_dat = list(chain(*cost_dat_idx))"
   ]
  },
  {
   "cell_type": "code",
   "execution_count": 53,
   "id": "18eaaa7c-ea88-48e1-b5e6-21ba4d1ff153",
   "metadata": {
    "tags": []
   },
   "outputs": [
    {
     "data": {
      "text/plain": [
       "82"
      ]
     },
     "execution_count": 53,
     "metadata": {},
     "output_type": "execute_result"
    }
   ],
   "source": [
    "mod_df.OriginalEstimate_.isnull().sum()"
   ]
  },
  {
   "cell_type": "code",
   "execution_count": 54,
   "id": "45cff2e5-02fe-4053-93e2-b235f84909bc",
   "metadata": {
    "tags": []
   },
   "outputs": [
    {
     "data": {
      "text/plain": [
       "82"
      ]
     },
     "execution_count": 54,
     "metadata": {},
     "output_type": "execute_result"
    }
   ],
   "source": [
    "mod_df.CostToDate_.isnull().sum()"
   ]
  },
  {
   "cell_type": "code",
   "execution_count": 55,
   "id": "1e6045fa-6c20-437c-b14e-ddf76a314675",
   "metadata": {
    "tags": []
   },
   "outputs": [],
   "source": [
    "flat_org_est2 = [x for x in flat_org_est if x not in com_ele]\n",
    "flat_cost_dat2 = [y for y in flat_cost_dat if y not in com_ele]"
   ]
  },
  {
   "cell_type": "code",
   "execution_count": 56,
   "id": "a90efd44-d689-4ca6-a659-08c626204ddd",
   "metadata": {
    "tags": []
   },
   "outputs": [],
   "source": [
    "total_missing_costs = np.concatenate((flat_org_est2, flat_cost_dat2))"
   ]
  },
  {
   "cell_type": "code",
   "execution_count": 57,
   "id": "4ebfdbe9-9678-4587-be53-4e10f35d0912",
   "metadata": {
    "tags": []
   },
   "outputs": [
    {
     "data": {
      "text/plain": [
       "array([  56,   69,   82,  170,  233,  245,  257,  265,  284,  311,  314,\n",
       "        347,  357,  367,  490,  549,  559,  581,  640,  645,  706,  707,\n",
       "        708,  727,  772,  825,  850,  896,  938,  939,  955, 1001, 1003,\n",
       "       1142, 1221, 1234, 1272, 1326, 1334, 1379, 1382, 1383, 1479, 1514,\n",
       "       1557, 1613, 1617, 1629, 1655, 1699, 1707, 1733, 1754, 1774, 1790,\n",
       "       1795, 1827, 1856, 1943, 2042, 2050, 2097, 2132, 2134, 2159, 2178,\n",
       "       2185, 2239, 2251, 2302, 2444, 2454, 2467, 2524, 2548, 2560, 2577,\n",
       "       2650, 2663, 2664, 2688, 2767,   44,   79,  109,  176,  220,  269,\n",
       "        360,  374,  376,  380,  439,  476,  563,  647,  652,  686,  703,\n",
       "        762,  779,  830,  840,  842,  866,  888,  890,  926,  931,  956,\n",
       "        985, 1040, 1042, 1056, 1114, 1171, 1173, 1182, 1208, 1227, 1279,\n",
       "       1312, 1316, 1333, 1353, 1355, 1435, 1438, 1443, 1528, 1541, 1565,\n",
       "       1606, 1628, 1661, 1716, 1765, 1846, 1906, 1988, 1991, 2008, 2021,\n",
       "       2022, 2044, 2083, 2096, 2116, 2151, 2154, 2269, 2334, 2352, 2428,\n",
       "       2477, 2540, 2579, 2611, 2675, 2678, 2717, 2732, 2743, 2757],\n",
       "      dtype=int64)"
      ]
     },
     "execution_count": 57,
     "metadata": {},
     "output_type": "execute_result"
    }
   ],
   "source": [
    "total_missing_costs"
   ]
  },
  {
   "cell_type": "code",
   "execution_count": 58,
   "id": "a0649e34-5c73-4fe2-b2a4-095d0a12e551",
   "metadata": {
    "tags": []
   },
   "outputs": [],
   "source": [
    "total_missing_costs_l = total_missing_costs.tolist()"
   ]
  },
  {
   "cell_type": "markdown",
   "id": "b972cab4-ca6d-4d63-ad7d-2e19b10a3ecb",
   "metadata": {},
   "source": [
    "### Temporarily removing total missinge record indices from the data frame"
   ]
  },
  {
   "cell_type": "code",
   "execution_count": 59,
   "id": "850ef4d7-8082-473e-a6eb-c39c2cb93bb9",
   "metadata": {
    "tags": []
   },
   "outputs": [
    {
     "data": {
      "text/html": [
       "<div>\n",
       "<style scoped>\n",
       "    .dataframe tbody tr th:only-of-type {\n",
       "        vertical-align: middle;\n",
       "    }\n",
       "\n",
       "    .dataframe tbody tr th {\n",
       "        vertical-align: top;\n",
       "    }\n",
       "\n",
       "    .dataframe thead th {\n",
       "        text-align: right;\n",
       "    }\n",
       "</style>\n",
       "<table border=\"1\" class=\"dataframe\">\n",
       "  <thead>\n",
       "    <tr style=\"text-align: right;\">\n",
       "      <th></th>\n",
       "      <th>IDProject_</th>\n",
       "      <th>Area_</th>\n",
       "      <th>SubArea_</th>\n",
       "      <th>projectPhase_</th>\n",
       "      <th>OriginalEstimate_</th>\n",
       "      <th>CostToDate_</th>\n",
       "      <th>Project_Category</th>\n",
       "      <th>Contract_Type_</th>\n",
       "      <th>Start_Date_</th>\n",
       "      <th>EstimatedFinalCompletion_</th>\n",
       "      <th>Actual_End_Date_</th>\n",
       "    </tr>\n",
       "  </thead>\n",
       "  <tbody>\n",
       "    <tr>\n",
       "      <th>0</th>\n",
       "      <td>0</td>\n",
       "      <td>Area_0</td>\n",
       "      <td>Sub_Area_0</td>\n",
       "      <td>Completed</td>\n",
       "      <td>9.519200e+05</td>\n",
       "      <td>1.155157e+06</td>\n",
       "      <td>Institutional</td>\n",
       "      <td>CCDC 2</td>\n",
       "      <td>2012-08-15</td>\n",
       "      <td>2012-12-23</td>\n",
       "      <td>2013-04-02</td>\n",
       "    </tr>\n",
       "    <tr>\n",
       "      <th>1</th>\n",
       "      <td>1</td>\n",
       "      <td>Area_1</td>\n",
       "      <td>Sub_Area_1</td>\n",
       "      <td>Completed</td>\n",
       "      <td>1.478396e+05</td>\n",
       "      <td>1.334481e+05</td>\n",
       "      <td>Industrial</td>\n",
       "      <td>CCDC 5B</td>\n",
       "      <td>2012-09-01</td>\n",
       "      <td>2015-03-04</td>\n",
       "      <td>2015-05-25</td>\n",
       "    </tr>\n",
       "    <tr>\n",
       "      <th>2</th>\n",
       "      <td>2</td>\n",
       "      <td>Area_1</td>\n",
       "      <td>Sub_Area_1</td>\n",
       "      <td>Completed</td>\n",
       "      <td>6.070518e+04</td>\n",
       "      <td>4.245956e+04</td>\n",
       "      <td>Industrial</td>\n",
       "      <td>CCDC 5B</td>\n",
       "      <td>2012-09-01</td>\n",
       "      <td>2013-01-01</td>\n",
       "      <td>2012-11-12</td>\n",
       "    </tr>\n",
       "    <tr>\n",
       "      <th>3</th>\n",
       "      <td>3</td>\n",
       "      <td>Area_2</td>\n",
       "      <td>Sub_Area_2</td>\n",
       "      <td>Completed</td>\n",
       "      <td>2.804828e+05</td>\n",
       "      <td>3.003621e+05</td>\n",
       "      <td>Commercial</td>\n",
       "      <td>CCDC 5A</td>\n",
       "      <td>2012-07-11</td>\n",
       "      <td>2015-01-11</td>\n",
       "      <td>2014-08-31</td>\n",
       "    </tr>\n",
       "    <tr>\n",
       "      <th>4</th>\n",
       "      <td>4</td>\n",
       "      <td>Area_3</td>\n",
       "      <td>Sub_Area_3</td>\n",
       "      <td>Completed</td>\n",
       "      <td>2.833996e+06</td>\n",
       "      <td>2.747140e+06</td>\n",
       "      <td>Industrial</td>\n",
       "      <td>CCDC 2</td>\n",
       "      <td>2012-10-03</td>\n",
       "      <td>2013-02-28</td>\n",
       "      <td>2013-07-01</td>\n",
       "    </tr>\n",
       "    <tr>\n",
       "      <th>...</th>\n",
       "      <td>...</td>\n",
       "      <td>...</td>\n",
       "      <td>...</td>\n",
       "      <td>...</td>\n",
       "      <td>...</td>\n",
       "      <td>...</td>\n",
       "      <td>...</td>\n",
       "      <td>...</td>\n",
       "      <td>...</td>\n",
       "      <td>...</td>\n",
       "      <td>...</td>\n",
       "    </tr>\n",
       "    <tr>\n",
       "      <th>2808</th>\n",
       "      <td>2108</td>\n",
       "      <td>Area_16</td>\n",
       "      <td>Sub_Area_14</td>\n",
       "      <td>Completed</td>\n",
       "      <td>8.218626e+06</td>\n",
       "      <td>4.738921e+06</td>\n",
       "      <td>Institutional</td>\n",
       "      <td>Other</td>\n",
       "      <td>NaN</td>\n",
       "      <td>2011-02-10</td>\n",
       "      <td>2010-11-06</td>\n",
       "    </tr>\n",
       "    <tr>\n",
       "      <th>2809</th>\n",
       "      <td>2109</td>\n",
       "      <td>Area_12</td>\n",
       "      <td>Sub_Area_12</td>\n",
       "      <td>Completed</td>\n",
       "      <td>1.298898e+08</td>\n",
       "      <td>1.036424e+08</td>\n",
       "      <td>Residential</td>\n",
       "      <td>CCDC 5A</td>\n",
       "      <td>2008-05-01</td>\n",
       "      <td>2013-03-23</td>\n",
       "      <td>2013-09-18</td>\n",
       "    </tr>\n",
       "    <tr>\n",
       "      <th>2810</th>\n",
       "      <td>2110</td>\n",
       "      <td>Area_12</td>\n",
       "      <td>Sub_Area_12</td>\n",
       "      <td>Completed</td>\n",
       "      <td>1.999900e+08</td>\n",
       "      <td>2.684085e+08</td>\n",
       "      <td>Residential</td>\n",
       "      <td>CCDC 5A</td>\n",
       "      <td>2008-05-15</td>\n",
       "      <td>2013-01-13</td>\n",
       "      <td>2012-11-02</td>\n",
       "    </tr>\n",
       "    <tr>\n",
       "      <th>2811</th>\n",
       "      <td>2111</td>\n",
       "      <td>Area_12</td>\n",
       "      <td>Sub_Area_12</td>\n",
       "      <td>Completed</td>\n",
       "      <td>8.190600e+06</td>\n",
       "      <td>6.272629e+06</td>\n",
       "      <td>Residential</td>\n",
       "      <td>CCDC 5A</td>\n",
       "      <td>2008-06-22</td>\n",
       "      <td>2010-09-11</td>\n",
       "      <td>2010-04-28</td>\n",
       "    </tr>\n",
       "    <tr>\n",
       "      <th>2812</th>\n",
       "      <td>2112</td>\n",
       "      <td>Area_18</td>\n",
       "      <td>Sub_Area_21</td>\n",
       "      <td>Completed</td>\n",
       "      <td>8.218626e+06</td>\n",
       "      <td>1.312894e+07</td>\n",
       "      <td>Industrial</td>\n",
       "      <td>CCA 5</td>\n",
       "      <td>2004-03-04</td>\n",
       "      <td>2005-04-01</td>\n",
       "      <td>2005-05-04</td>\n",
       "    </tr>\n",
       "  </tbody>\n",
       "</table>\n",
       "<p>2649 rows × 11 columns</p>\n",
       "</div>"
      ],
      "text/plain": [
       "     IDProject_    Area_     SubArea_ projectPhase_  OriginalEstimate_  \\\n",
       "0             0   Area_0   Sub_Area_0     Completed       9.519200e+05   \n",
       "1             1   Area_1   Sub_Area_1     Completed       1.478396e+05   \n",
       "2             2   Area_1   Sub_Area_1     Completed       6.070518e+04   \n",
       "3             3   Area_2   Sub_Area_2     Completed       2.804828e+05   \n",
       "4             4   Area_3   Sub_Area_3     Completed       2.833996e+06   \n",
       "...         ...      ...          ...           ...                ...   \n",
       "2808       2108  Area_16  Sub_Area_14     Completed       8.218626e+06   \n",
       "2809       2109  Area_12  Sub_Area_12     Completed       1.298898e+08   \n",
       "2810       2110  Area_12  Sub_Area_12     Completed       1.999900e+08   \n",
       "2811       2111  Area_12  Sub_Area_12     Completed       8.190600e+06   \n",
       "2812       2112  Area_18  Sub_Area_21     Completed       8.218626e+06   \n",
       "\n",
       "       CostToDate_ Project_Category Contract_Type_ Start_Date_  \\\n",
       "0     1.155157e+06    Institutional        CCDC 2   2012-08-15   \n",
       "1     1.334481e+05       Industrial       CCDC 5B   2012-09-01   \n",
       "2     4.245956e+04       Industrial       CCDC 5B   2012-09-01   \n",
       "3     3.003621e+05       Commercial       CCDC 5A   2012-07-11   \n",
       "4     2.747140e+06       Industrial        CCDC 2   2012-10-03   \n",
       "...            ...              ...            ...         ...   \n",
       "2808  4.738921e+06    Institutional          Other         NaN   \n",
       "2809  1.036424e+08      Residential       CCDC 5A   2008-05-01   \n",
       "2810  2.684085e+08      Residential       CCDC 5A   2008-05-15   \n",
       "2811  6.272629e+06      Residential       CCDC 5A   2008-06-22   \n",
       "2812  1.312894e+07       Industrial         CCA 5   2004-03-04   \n",
       "\n",
       "     EstimatedFinalCompletion_ Actual_End_Date_  \n",
       "0                   2012-12-23       2013-04-02  \n",
       "1                   2015-03-04       2015-05-25  \n",
       "2                   2013-01-01       2012-11-12  \n",
       "3                   2015-01-11       2014-08-31  \n",
       "4                   2013-02-28       2013-07-01  \n",
       "...                        ...              ...  \n",
       "2808                2011-02-10       2010-11-06  \n",
       "2809                2013-03-23       2013-09-18  \n",
       "2810                2013-01-13       2012-11-02  \n",
       "2811                2010-09-11       2010-04-28  \n",
       "2812                2005-04-01       2005-05-04  \n",
       "\n",
       "[2649 rows x 11 columns]"
      ]
     },
     "execution_count": 59,
     "metadata": {},
     "output_type": "execute_result"
    }
   ],
   "source": [
    "mod_df_copy = mod_df.copy()\n",
    "mod_df_copy.drop(total_missing_costs_l, axis=0, inplace = True)\n",
    "mod_df_copy"
   ]
  },
  {
   "cell_type": "code",
   "execution_count": 60,
   "id": "de0c2e35-7033-44d2-9355-cb7f94ab0610",
   "metadata": {
    "tags": []
   },
   "outputs": [
    {
     "data": {
      "text/plain": [
       "0"
      ]
     },
     "execution_count": 60,
     "metadata": {},
     "output_type": "execute_result"
    }
   ],
   "source": [
    "mod_df_copy.OriginalEstimate_.isnull().sum()"
   ]
  },
  {
   "cell_type": "code",
   "execution_count": 61,
   "id": "4a2537b4-db07-4964-88ad-374a2bbe270b",
   "metadata": {
    "tags": []
   },
   "outputs": [
    {
     "name": "stdout",
     "output_type": "stream",
     "text": [
      "[0.82406123 1.10784357 1.42971764 ... 0.74509551 1.30576834 0.62599318]\n"
     ]
    }
   ],
   "source": [
    "ratio_arr = mod_df_copy.OriginalEstimate_.to_numpy() / mod_df_copy.CostToDate_.to_numpy()\n",
    "print(ratio_arr)"
   ]
  },
  {
   "cell_type": "code",
   "execution_count": 62,
   "id": "fdc89ae6-6c96-42f8-aa5b-9bb726dc662e",
   "metadata": {
    "tags": []
   },
   "outputs": [
    {
     "data": {
      "image/png": "[encoded data removed]",
      "text/plain": [
       "<Figure size 640x480 with 1 Axes>"
      ]
     },
     "metadata": {},
     "output_type": "display_data"
    }
   ],
   "source": [
    "plt.plot(ratio_arr)\n",
    "plt.show()"
   ]
  },
  {
   "cell_type": "code",
   "execution_count": 63,
   "id": "c9b0557b-1334-49a6-b54b-0cecb83fddc4",
   "metadata": {
    "tags": []
   },
   "outputs": [
    {
     "name": "stdout",
     "output_type": "stream",
     "text": [
      "1.1385344713404282\n"
     ]
    }
   ],
   "source": [
    "avg = np.mean(ratio_arr)\n",
    "print(avg)"
   ]
  },
  {
   "cell_type": "markdown",
   "id": "17722067-62a7-4931-a41a-09b24c3adecc",
   "metadata": {},
   "source": [
    "# Replace the NaN values with the corresponding value calculated with the ratio\n"
   ]
  },
  {
   "cell_type": "code",
   "execution_count": 64,
   "id": "ede2126c-dc95-4489-901b-94a9d9da80b6",
   "metadata": {
    "tags": []
   },
   "outputs": [],
   "source": [
    "mod_df_copy2 = mod_df.copy()"
   ]
  },
  {
   "cell_type": "code",
   "execution_count": 65,
   "id": "6da53cd1-b55d-4fd3-964a-42740179c20e",
   "metadata": {
    "tags": []
   },
   "outputs": [
    {
     "name": "stdout",
     "output_type": "stream",
     "text": [
      "56      7.914804e+06\n",
      "69      2.072184e+06\n",
      "82      1.252298e+06\n",
      "170     4.492862e+06\n",
      "233     9.879938e+06\n",
      "            ...     \n",
      "2650    2.962779e+05\n",
      "2663    5.476638e+05\n",
      "2664    5.297515e+05\n",
      "2688    4.511583e+06\n",
      "2767    5.937053e+06\n",
      "Name: CostToDate_, Length: 82, dtype: float64 44      9.312700e+05\n",
      "79      1.150608e+07\n",
      "109     1.980125e+05\n",
      "176     1.150608e+07\n",
      "220     1.150608e+07\n",
      "            ...     \n",
      "2678    5.615890e+04\n",
      "2717    2.538541e+06\n",
      "2732    6.980260e+04\n",
      "2743    1.187000e+07\n",
      "2757    1.150608e+07\n",
      "Name: OriginalEstimate_, Length: 82, dtype: float64\n"
     ]
    }
   ],
   "source": [
    "temp = mod_df_copy2.CostToDate_[flat_org_est2]/1.4\n",
    "temp_prime = mod_df_copy2.OriginalEstimate_[flat_cost_dat]*1.4\n",
    "print(temp, temp_prime)"
   ]
  },
  {
   "cell_type": "code",
   "execution_count": 66,
   "id": "61386aa6-6555-41ba-af99-403c1c0ac2ce",
   "metadata": {
    "tags": []
   },
   "outputs": [
    {
     "data": {
      "text/plain": [
       "665192.88"
      ]
     },
     "execution_count": 66,
     "metadata": {},
     "output_type": "execute_result"
    }
   ],
   "source": [
    "mod_df_copy2.OriginalEstimate_[44]"
   ]
  },
  {
   "cell_type": "markdown",
   "id": "809f5413-ee49-4ef2-8d33-53685ad43f34",
   "metadata": {},
   "source": [
    "# Filling the NaN values with the calculated values"
   ]
  },
  {
   "cell_type": "code",
   "execution_count": 67,
   "id": "16f35441-a818-42e2-9cf7-186437fdc686",
   "metadata": {
    "tags": []
   },
   "outputs": [],
   "source": [
    "for k in flat_org_est2:\n",
    "    mod_df_copy2.at[k, 'OriginalEstimate_'] = temp[k]\n",
    "\n",
    "for kp in flat_cost_dat2:\n",
    "    mod_df_copy2.at[kp, 'CostToDate_'] = temp_prime[kp]    "
   ]
  },
  {
   "cell_type": "markdown",
   "id": "0976873f-21f6-464e-8101-1f40032ab5c6",
   "metadata": {
    "tags": []
   },
   "source": [
    "# Testing\n",
    "    "
   ]
  },
  {
   "cell_type": "code",
   "execution_count": 68,
   "id": "cb445226-94dd-4463-a5ba-6fae50a2029c",
   "metadata": {
    "tags": []
   },
   "outputs": [
    {
     "data": {
      "text/plain": [
       "11080725.084781757"
      ]
     },
     "execution_count": 68,
     "metadata": {},
     "output_type": "execute_result"
    }
   ],
   "source": [
    "mod_df_copy2.CostToDate_[56]"
   ]
  },
  {
   "cell_type": "code",
   "execution_count": 69,
   "id": "facca3e8-64e7-4196-93b5-b839e07ae49a",
   "metadata": {
    "tags": []
   },
   "outputs": [
    {
     "data": {
      "text/plain": [
       "44      9.312700e+05\n",
       "79      1.150608e+07\n",
       "109     1.980125e+05\n",
       "176     1.150608e+07\n",
       "220     1.150608e+07\n",
       "            ...     \n",
       "2678    5.615890e+04\n",
       "2717    2.538541e+06\n",
       "2732    6.980260e+04\n",
       "2743    1.187000e+07\n",
       "2757    1.150608e+07\n",
       "Name: OriginalEstimate_, Length: 82, dtype: float64"
      ]
     },
     "execution_count": 69,
     "metadata": {},
     "output_type": "execute_result"
    }
   ],
   "source": [
    "temp_prime"
   ]
  },
  {
   "cell_type": "code",
   "execution_count": 70,
   "id": "4d55d15d-a122-44f5-a2e5-2067152bad8a",
   "metadata": {
    "tags": []
   },
   "outputs": [
    {
     "data": {
      "text/plain": [
       "931270.0319999999"
      ]
     },
     "execution_count": 70,
     "metadata": {},
     "output_type": "execute_result"
    }
   ],
   "source": [
    "mod_df_copy2.CostToDate_[44]"
   ]
  },
  {
   "cell_type": "code",
   "execution_count": 71,
   "id": "fba8f559-0332-47e3-bda2-87069dd24215",
   "metadata": {
    "tags": []
   },
   "outputs": [
    {
     "data": {
      "text/plain": [
       "665192.88"
      ]
     },
     "execution_count": 71,
     "metadata": {},
     "output_type": "execute_result"
    }
   ],
   "source": [
    "mod_df_copy2.OriginalEstimate_[44]"
   ]
  },
  {
   "cell_type": "code",
   "execution_count": 72,
   "id": "1fa1041c-a8fb-4af2-a09c-175ced821cc3",
   "metadata": {
    "tags": []
   },
   "outputs": [
    {
     "data": {
      "text/plain": [
       "0"
      ]
     },
     "execution_count": 72,
     "metadata": {},
     "output_type": "execute_result"
    }
   ],
   "source": [
    "mod_df_copy2.CostToDate_.isnull().sum()"
   ]
  },
  {
   "cell_type": "code",
   "execution_count": 73,
   "id": "72e18c96-5365-4514-854a-c0f1cbee3b79",
   "metadata": {
    "tags": []
   },
   "outputs": [
    {
     "data": {
      "text/plain": [
       "0"
      ]
     },
     "execution_count": 73,
     "metadata": {},
     "output_type": "execute_result"
    }
   ],
   "source": [
    "mod_df_copy2.OriginalEstimate_.isnull().sum()"
   ]
  },
  {
   "cell_type": "markdown",
   "id": "53ff1516-f267-4598-a8e5-e3bbccd3cedc",
   "metadata": {},
   "source": [
    "# Date and Time"
   ]
  },
  {
   "cell_type": "markdown",
   "id": "fce76418-1cf5-49b2-af75-e729a8e6d48f",
   "metadata": {},
   "source": [
    "## Find the missing values in the date and time fields"
   ]
  },
  {
   "cell_type": "code",
   "execution_count": 74,
   "id": "1cc9e6e2-757b-41c8-b74e-4e6771b32a4d",
   "metadata": {},
   "outputs": [
    {
     "data": {
      "text/plain": [
       "85"
      ]
     },
     "execution_count": 74,
     "metadata": {},
     "output_type": "execute_result"
    }
   ],
   "source": [
    "mod_df_copy2.Start_Date_.isnull().sum()"
   ]
  },
  {
   "cell_type": "code",
   "execution_count": 75,
   "id": "942e62a1-733b-49df-80c2-77e85d5f9734",
   "metadata": {},
   "outputs": [
    {
     "data": {
      "text/plain": [
       "85"
      ]
     },
     "execution_count": 75,
     "metadata": {},
     "output_type": "execute_result"
    }
   ],
   "source": [
    "mod_df_copy2.EstimatedFinalCompletion_.isnull().sum()"
   ]
  },
  {
   "cell_type": "code",
   "execution_count": 76,
   "id": "3ca67fed-7a82-489f-869a-7e3a7a7ad800",
   "metadata": {
    "tags": []
   },
   "outputs": [
    {
     "data": {
      "text/plain": [
       "81"
      ]
     },
     "execution_count": 76,
     "metadata": {},
     "output_type": "execute_result"
    }
   ],
   "source": [
    "mod_df_copy2.Actual_End_Date_.isnull().sum()"
   ]
  },
  {
   "cell_type": "code",
   "execution_count": 77,
   "id": "7398dc70-5900-4f58-aad1-d1449b8201bd",
   "metadata": {
    "tags": []
   },
   "outputs": [
    {
     "data": {
      "text/plain": [
       "0       False\n",
       "1       False\n",
       "2       False\n",
       "3       False\n",
       "4       False\n",
       "        ...  \n",
       "2808    False\n",
       "2809    False\n",
       "2810    False\n",
       "2811    False\n",
       "2812    False\n",
       "Name: Start_Date_, Length: 2813, dtype: bool"
      ]
     },
     "execution_count": 77,
     "metadata": {},
     "output_type": "execute_result"
    }
   ],
   "source": [
    "np.isnan(mod_df_copy2.Start_Date_ == True)"
   ]
  },
  {
   "cell_type": "code",
   "execution_count": 78,
   "id": "57eea58c-8305-4d92-a8ac-f9310a1e7e76",
   "metadata": {
    "tags": []
   },
   "outputs": [],
   "source": [
    "st_dat = mod_df_copy2.Start_Date_\n",
    "est_f_dat = mod_df_copy2.EstimatedFinalCompletion_\n",
    "end_dat = mod_df_copy2.Actual_End_Date_"
   ]
  },
  {
   "cell_type": "code",
   "execution_count": 79,
   "id": "35804b6d-0e3b-4d44-a282-b8a35a80945a",
   "metadata": {
    "tags": []
   },
   "outputs": [],
   "source": [
    "st_dat_isna  = st_dat.isna()\n",
    "est_f_dat_isna = est_f_dat.isna()\n",
    "end_dat_isna = end_dat.isna()\n"
   ]
  },
  {
   "cell_type": "code",
   "execution_count": 80,
   "id": "aad6a28d-fc22-46f7-9ceb-630760c9b459",
   "metadata": {
    "tags": []
   },
   "outputs": [],
   "source": [
    "def dat_idx(s):\n",
    "    return [i for i in s.index if s[i]]"
   ]
  },
  {
   "cell_type": "code",
   "execution_count": 81,
   "id": "de78ad00-00e9-416e-aa94-bedbe18b8a1c",
   "metadata": {
    "tags": []
   },
   "outputs": [],
   "source": [
    "st_dat_na = dat_idx(st_dat_isna)\n",
    "est_f_dat_na = dat_idx(est_f_dat_isna)\n",
    "end_dat_na = dat_idx(end_dat_isna)"
   ]
  },
  {
   "cell_type": "code",
   "execution_count": 82,
   "id": "cdcf8e3e-a9ea-48dd-b260-db5d49b73a85",
   "metadata": {
    "tags": []
   },
   "outputs": [
    {
     "name": "stdout",
     "output_type": "stream",
     "text": [
      "85 85 81\n"
     ]
    }
   ],
   "source": [
    "print(len(st_dat_na),len(est_f_dat_na), len(end_dat_na))"
   ]
  },
  {
   "cell_type": "code",
   "execution_count": 83,
   "id": "d75439df-cfc4-4ac8-ab6a-d38515ac5ec4",
   "metadata": {
    "tags": []
   },
   "outputs": [],
   "source": [
    "st_est_com = common_elements(st_dat_na, est_f_dat_na)\n",
    "est_end_com = common_elements(est_f_dat_na, end_dat_na)\n",
    "st_end_com = common_elements(st_dat_na, end_dat_na)\n"
   ]
  },
  {
   "cell_type": "code",
   "execution_count": 84,
   "id": "cdfb05b9-70cd-436a-97ed-a692fd44ddaa",
   "metadata": {
    "tags": []
   },
   "outputs": [
    {
     "name": "stdout",
     "output_type": "stream",
     "text": [
      "[17, 2147]\n",
      "[1641, 2765]\n",
      "[1498, 1807, 2754]\n",
      "[17, 2147, 1641, 2765, 1498, 1807, 2754]\n"
     ]
    }
   ],
   "source": [
    "print(st_est_com)\n",
    "print(est_end_com)\n",
    "print(st_end_com)\n",
    "\n",
    "com_na = st_est_com + est_end_com + st_end_com\n",
    "print(com_na)"
   ]
  },
  {
   "cell_type": "markdown",
   "id": "2d18a606-7ea4-4548-bffd-0e89e9f21723",
   "metadata": {},
   "source": [
    "## Remove the records where two date fields are empty (NaN)"
   ]
  },
  {
   "cell_type": "code",
   "execution_count": 85,
   "id": "f3aaf5a5-b7fd-4885-8b23-0a5d922d36db",
   "metadata": {
    "tags": []
   },
   "outputs": [],
   "source": [
    "mod_df_copy2.drop(com_na, axis = 0, inplace = True)"
   ]
  },
  {
   "cell_type": "code",
   "execution_count": 86,
   "id": "ab43fd2b-c5ec-4307-9f51-34816c432362",
   "metadata": {
    "tags": []
   },
   "outputs": [],
   "source": [
    "mod_df_copy2.reset_index(inplace = True)"
   ]
  },
  {
   "cell_type": "code",
   "execution_count": 87,
   "id": "be39be1a-cc7a-4a10-9481-499408e39b02",
   "metadata": {
    "tags": []
   },
   "outputs": [],
   "source": [
    "mod_df_copy2.drop('index', axis = 1, inplace = True)"
   ]
  },
  {
   "cell_type": "markdown",
   "id": "e581b199-96e7-46d7-83a0-98f2cb15251a",
   "metadata": {
    "tags": []
   },
   "source": [
    "## Checking for NaN values"
   ]
  },
  {
   "cell_type": "code",
   "execution_count": 88,
   "id": "e1604b18-a972-4208-ae3a-43c81f919338",
   "metadata": {
    "tags": []
   },
   "outputs": [
    {
     "name": "stdout",
     "output_type": "stream",
     "text": [
      "2012-09-19 2014-01-31\n"
     ]
    }
   ],
   "source": [
    "print(mod_df_copy2.Start_Date_[17], mod_df_copy2.EstimatedFinalCompletion_[17])"
   ]
  },
  {
   "cell_type": "markdown",
   "id": "831c730d-c72b-4861-aede-1d8d9607314f",
   "metadata": {},
   "source": [
    "# Analyzing not NaN values"
   ]
  },
  {
   "cell_type": "code",
   "execution_count": 89,
   "id": "0502a20b-98c0-42af-9736-c07f5a4babf0",
   "metadata": {
    "tags": []
   },
   "outputs": [],
   "source": [
    "df3 = mod_df_copy2.copy()"
   ]
  },
  {
   "cell_type": "code",
   "execution_count": 90,
   "id": "2cc825d5-7c91-497c-896b-b70f2e8fbc59",
   "metadata": {
    "tags": []
   },
   "outputs": [],
   "source": [
    "def not_common_elements(list1, list2):\n",
    "    return [element for element in list1 if element not in list2]"
   ]
  },
  {
   "cell_type": "code",
   "execution_count": 91,
   "id": "9bc7d080-5694-4d6a-b40f-667144857546",
   "metadata": {
    "tags": []
   },
   "outputs": [],
   "source": [
    "tatal_dat_nans = st_dat_na + est_f_dat_na + end_dat_na"
   ]
  },
  {
   "cell_type": "code",
   "execution_count": 92,
   "id": "7af52b87-6f47-4f3d-b840-339ff078c0cd",
   "metadata": {
    "tags": []
   },
   "outputs": [],
   "source": [
    "current_nans = not_common_elements(tatal_dat_nans, com_na)"
   ]
  },
  {
   "cell_type": "code",
   "execution_count": 93,
   "id": "d3509b5f-b3e3-4660-b99a-697091b4bae9",
   "metadata": {
    "tags": []
   },
   "outputs": [],
   "source": [
    "not_nan_st = df3[df3['Start_Date_'].notnull()]\n",
    "not_nan_est = df3[df3['EstimatedFinalCompletion_'].notnull()]\n",
    "not_nan_end = df3[df3['Actual_End_Date_'].notnull()]"
   ]
  },
  {
   "cell_type": "code",
   "execution_count": 94,
   "id": "36901a76-4345-4b21-aeab-9def58cef1a2",
   "metadata": {
    "tags": []
   },
   "outputs": [],
   "source": [
    "nn_st_idx = not_nan_st.Start_Date_.index\n",
    "nn_est_idx = not_nan_est.EstimatedFinalCompletion_.index\n",
    "nn_end_idx = not_nan_end.Actual_End_Date_.index\n",
    "\n",
    "## Fininding common not NaN values between the dates\n",
    "st_est_com_idx = common_elements(nn_st_idx, nn_est_idx)\n",
    "end_other_com_idx = common_elements(st_est_com_idx, nn_end_idx )"
   ]
  },
  {
   "cell_type": "code",
   "execution_count": 95,
   "id": "f63213f7-9483-4bed-9c09-088b020739fc",
   "metadata": {
    "tags": []
   },
   "outputs": [],
   "source": [
    "df4 = df3.loc[end_other_com_idx, ['Start_Date_', 'EstimatedFinalCompletion_', 'Actual_End_Date_']]"
   ]
  },
  {
   "cell_type": "code",
   "execution_count": 96,
   "id": "2e57bb76-50bb-49ce-9d77-14da3300b1d2",
   "metadata": {
    "tags": []
   },
   "outputs": [],
   "source": [
    "def create_time_obj(str_dat):\n",
    "    time_obj = datetime.strptime(str_dat,'%Y-%m-%d')\n",
    "    return time_obj"
   ]
  },
  {
   "cell_type": "code",
   "execution_count": 97,
   "id": "050bc784-e472-4b57-8e47-47fde02c42e1",
   "metadata": {
    "tags": []
   },
   "outputs": [],
   "source": [
    "st_l = []\n",
    "est_l = []\n",
    "end_l = []\n",
    "\n",
    "for t in end_other_com_idx:\n",
    "    st_l.append(create_time_obj(df3.Start_Date_[t]))\n",
    "    est_l.append(create_time_obj(df3.EstimatedFinalCompletion_[t]))\n",
    "    end_l.append(create_time_obj(df3.Actual_End_Date_[t]))\n",
    "  "
   ]
  },
  {
   "cell_type": "code",
   "execution_count": 98,
   "id": "133b8882-c467-4c31-b2d4-99a609dfef00",
   "metadata": {
    "tags": []
   },
   "outputs": [
    {
     "name": "stdout",
     "output_type": "stream",
     "text": [
      "2569 2569 2569\n"
     ]
    }
   ],
   "source": [
    "print(len(st_l), len(est_l), len(end_l))"
   ]
  },
  {
   "cell_type": "code",
   "execution_count": 99,
   "id": "6f89de91-cda7-419a-a549-7cb8b3258bb5",
   "metadata": {
    "tags": []
   },
   "outputs": [],
   "source": [
    "st_t_l = []\n",
    "est_t_l = []\n",
    "end_t_l = []\n",
    "\n",
    "for i in range(len(st_l)):\n",
    "    st_t = (st_l[i].year, st_l[i].month)\n",
    "    st_t_l.append(st_t)\n",
    "    est_t = (est_l[i].year, est_l[i].month)\n",
    "    est_t_l.append(est_t)\n",
    "    end_t = (end_l[i].year, end_l[i].month)\n",
    "    end_t_l.append(end_t)\n",
    "    \n",
    "#print(st_t_l, est_t_l, end_t_l)    "
   ]
  },
  {
   "cell_type": "code",
   "execution_count": 100,
   "id": "9214ed32-c36c-43c4-836c-1725b9c02cba",
   "metadata": {
    "tags": []
   },
   "outputs": [],
   "source": [
    "def delta(d1, d2):\n",
    "    col_d = []\n",
    "    for tx in range(len(d1)):\n",
    "        d = (d2[tx][0] - d1[tx][0])*12 + d2[tx][1] - d1[tx][1]\n",
    "        col_d.append(d)\n",
    "    return col_d\n",
    "    "
   ]
  },
  {
   "cell_type": "code",
   "execution_count": 101,
   "id": "54bc1a6f-8661-4eb6-8898-3c21172fd824",
   "metadata": {
    "tags": []
   },
   "outputs": [],
   "source": [
    "colect_d1 = delta(st_t_l, est_t_l)\n",
    "colect_d2 = delta(est_t_l, end_t_l)"
   ]
  },
  {
   "cell_type": "markdown",
   "id": "f5c9e104-0681-4b7e-8b7a-191f985c556d",
   "metadata": {},
   "source": [
    "## Find the records in which the estimated date is earlier than the start date"
   ]
  },
  {
   "cell_type": "code",
   "execution_count": 102,
   "id": "7f323019-0fc6-48ee-bb35-749f3bd2a283",
   "metadata": {
    "tags": []
   },
   "outputs": [
    {
     "name": "stdout",
     "output_type": "stream",
     "text": [
      "[(995, -2), (1705, -6), (1717, -1), (1762, -13), (1764, -2), (1990, -20), (2194, -2)] [995, 1705, 1717, 1762, 1764, 1990, 2194]\n"
     ]
    }
   ],
   "source": [
    "remove_list = []\n",
    "remove_idx = []\n",
    "for x in range(len(colect_d1)):\n",
    "    if colect_d1[x] < 0:\n",
    "        remove_list.append((x, colect_d1[x]))\n",
    "        remove_idx.append(x)\n",
    "print(remove_list, remove_idx)"
   ]
  },
  {
   "cell_type": "code",
   "execution_count": 103,
   "id": "0d135bf9-0445-40c2-b511-582713e1f7f7",
   "metadata": {
    "tags": []
   },
   "outputs": [
    {
     "data": {
      "text/plain": [
       "IDProject_                              878\n",
       "Area_                                Area_0\n",
       "SubArea_                         Sub_Area_0\n",
       "projectPhase_                     Completed\n",
       "OriginalEstimate_                2064926.18\n",
       "CostToDate_                  1937178.327512\n",
       "Project_Category                 Commercial\n",
       "Contract_Type_                        Other\n",
       "Start_Date_                      2011-02-08\n",
       "EstimatedFinalCompletion_        2011-11-26\n",
       "Actual_End_Date_                 2011-06-21\n",
       "Name: 995, dtype: object"
      ]
     },
     "execution_count": 103,
     "metadata": {},
     "output_type": "execute_result"
    }
   ],
   "source": [
    "df3.iloc[995, :]"
   ]
  },
  {
   "cell_type": "code",
   "execution_count": 104,
   "id": "b5bebe04-5440-4602-9897-0ea47bf0b15e",
   "metadata": {
    "tags": []
   },
   "outputs": [
    {
     "name": "stdout",
     "output_type": "stream",
     "text": [
      "(2006, 8) (2006, 6) [995, 1705, 1717, 1762, 1764, 1990, 2194]\n"
     ]
    }
   ],
   "source": [
    "print(st_t_l[995], est_t_l[995], remove_idx)"
   ]
  },
  {
   "cell_type": "code",
   "execution_count": 105,
   "id": "e9c22dcb-6000-46d5-bdd4-57371de6ca79",
   "metadata": {
    "tags": []
   },
   "outputs": [
    {
     "name": "stdout",
     "output_type": "stream",
     "text": [
      "(2006, 8) (2006, 6)\n"
     ]
    }
   ],
   "source": [
    "# This record is invalid and should be removed from the dataset\n",
    "print(st_t_l[995], est_t_l[995])"
   ]
  },
  {
   "cell_type": "markdown",
   "id": "bc89efed-d769-46dd-901c-4c61f9378118",
   "metadata": {},
   "source": [
    "## The whole remove_idx list is invalid and should be removed from the data set\n",
    "### remove_idx = [995, 1705, 1717, 1762, 1764, 1990, 2194]"
   ]
  },
  {
   "cell_type": "code",
   "execution_count": 106,
   "id": "632694ae-af55-4a5f-9b01-7aa61b0e233f",
   "metadata": {
    "tags": []
   },
   "outputs": [],
   "source": [
    "tobe_removed_list = df4.iloc[remove_idx, :]"
   ]
  },
  {
   "cell_type": "code",
   "execution_count": 107,
   "id": "dc1f8423-30b8-45d9-a12b-80f8c4ede3d1",
   "metadata": {
    "tags": []
   },
   "outputs": [
    {
     "data": {
      "text/html": [
       "<div>\n",
       "<style scoped>\n",
       "    .dataframe tbody tr th:only-of-type {\n",
       "        vertical-align: middle;\n",
       "    }\n",
       "\n",
       "    .dataframe tbody tr th {\n",
       "        vertical-align: top;\n",
       "    }\n",
       "\n",
       "    .dataframe thead th {\n",
       "        text-align: right;\n",
       "    }\n",
       "</style>\n",
       "<table border=\"1\" class=\"dataframe\">\n",
       "  <thead>\n",
       "    <tr style=\"text-align: right;\">\n",
       "      <th></th>\n",
       "      <th>Start_Date_</th>\n",
       "      <th>EstimatedFinalCompletion_</th>\n",
       "      <th>Actual_End_Date_</th>\n",
       "    </tr>\n",
       "  </thead>\n",
       "  <tbody>\n",
       "    <tr>\n",
       "      <th>1085</th>\n",
       "      <td>2006-08-09</td>\n",
       "      <td>2006-06-08</td>\n",
       "      <td>2006-10-02</td>\n",
       "    </tr>\n",
       "    <tr>\n",
       "      <th>1861</th>\n",
       "      <td>2006-08-05</td>\n",
       "      <td>2006-02-26</td>\n",
       "      <td>2006-05-27</td>\n",
       "    </tr>\n",
       "    <tr>\n",
       "      <th>1875</th>\n",
       "      <td>2006-05-30</td>\n",
       "      <td>2006-04-01</td>\n",
       "      <td>2005-11-28</td>\n",
       "    </tr>\n",
       "    <tr>\n",
       "      <th>1925</th>\n",
       "      <td>2008-11-15</td>\n",
       "      <td>2007-10-30</td>\n",
       "      <td>2007-05-29</td>\n",
       "    </tr>\n",
       "    <tr>\n",
       "      <th>1927</th>\n",
       "      <td>2007-11-06</td>\n",
       "      <td>2007-09-29</td>\n",
       "      <td>2008-01-04</td>\n",
       "    </tr>\n",
       "    <tr>\n",
       "      <th>2175</th>\n",
       "      <td>2013-02-27</td>\n",
       "      <td>2011-06-24</td>\n",
       "      <td>2011-02-26</td>\n",
       "    </tr>\n",
       "    <tr>\n",
       "      <th>2404</th>\n",
       "      <td>2013-02-28</td>\n",
       "      <td>2012-12-15</td>\n",
       "      <td>2012-07-04</td>\n",
       "    </tr>\n",
       "  </tbody>\n",
       "</table>\n",
       "</div>"
      ],
      "text/plain": [
       "     Start_Date_ EstimatedFinalCompletion_ Actual_End_Date_\n",
       "1085  2006-08-09                2006-06-08       2006-10-02\n",
       "1861  2006-08-05                2006-02-26       2006-05-27\n",
       "1875  2006-05-30                2006-04-01       2005-11-28\n",
       "1925  2008-11-15                2007-10-30       2007-05-29\n",
       "1927  2007-11-06                2007-09-29       2008-01-04\n",
       "2175  2013-02-27                2011-06-24       2011-02-26\n",
       "2404  2013-02-28                2012-12-15       2012-07-04"
      ]
     },
     "execution_count": 107,
     "metadata": {},
     "output_type": "execute_result"
    }
   ],
   "source": [
    "tobe_removed_list"
   ]
  },
  {
   "cell_type": "code",
   "execution_count": 108,
   "id": "2bf973c5-d5cb-4759-aeaf-51ea97e44f64",
   "metadata": {
    "tags": []
   },
   "outputs": [
    {
     "data": {
      "text/html": [
       "<div>\n",
       "<style scoped>\n",
       "    .dataframe tbody tr th:only-of-type {\n",
       "        vertical-align: middle;\n",
       "    }\n",
       "\n",
       "    .dataframe tbody tr th {\n",
       "        vertical-align: top;\n",
       "    }\n",
       "\n",
       "    .dataframe thead th {\n",
       "        text-align: right;\n",
       "    }\n",
       "</style>\n",
       "<table border=\"1\" class=\"dataframe\">\n",
       "  <thead>\n",
       "    <tr style=\"text-align: right;\">\n",
       "      <th></th>\n",
       "      <th>IDProject_</th>\n",
       "      <th>Area_</th>\n",
       "      <th>SubArea_</th>\n",
       "      <th>projectPhase_</th>\n",
       "      <th>OriginalEstimate_</th>\n",
       "      <th>CostToDate_</th>\n",
       "      <th>Project_Category</th>\n",
       "      <th>Contract_Type_</th>\n",
       "      <th>Start_Date_</th>\n",
       "      <th>EstimatedFinalCompletion_</th>\n",
       "      <th>Actual_End_Date_</th>\n",
       "    </tr>\n",
       "  </thead>\n",
       "  <tbody>\n",
       "    <tr>\n",
       "      <th>1080</th>\n",
       "      <td>940</td>\n",
       "      <td>Area_12</td>\n",
       "      <td>Sub_Area_12</td>\n",
       "      <td>NaN</td>\n",
       "      <td>8218625.68</td>\n",
       "      <td>9.158943e+06</td>\n",
       "      <td>Transportation</td>\n",
       "      <td>NaN</td>\n",
       "      <td>2005-05-01</td>\n",
       "      <td>2007-11-01</td>\n",
       "      <td>2007-09-08</td>\n",
       "    </tr>\n",
       "    <tr>\n",
       "      <th>1081</th>\n",
       "      <td>941</td>\n",
       "      <td>Area_12</td>\n",
       "      <td>Sub_Area_35</td>\n",
       "      <td>Completed</td>\n",
       "      <td>8218625.68</td>\n",
       "      <td>1.154387e+07</td>\n",
       "      <td>Transportation</td>\n",
       "      <td>Other</td>\n",
       "      <td>2005-05-26</td>\n",
       "      <td>2005-07-31</td>\n",
       "      <td>2005-10-30</td>\n",
       "    </tr>\n",
       "    <tr>\n",
       "      <th>1082</th>\n",
       "      <td>942</td>\n",
       "      <td>Area_12</td>\n",
       "      <td>Sub_Area_12</td>\n",
       "      <td>Completed</td>\n",
       "      <td>8218625.68</td>\n",
       "      <td>7.446737e+06</td>\n",
       "      <td>Institutional</td>\n",
       "      <td>NaN</td>\n",
       "      <td>2005-10-14</td>\n",
       "      <td>2005-12-18</td>\n",
       "      <td>NaN</td>\n",
       "    </tr>\n",
       "    <tr>\n",
       "      <th>1083</th>\n",
       "      <td>943</td>\n",
       "      <td>Area_12</td>\n",
       "      <td>Sub_Area_12</td>\n",
       "      <td>Completed</td>\n",
       "      <td>449676.93</td>\n",
       "      <td>4.722202e+05</td>\n",
       "      <td>Institutional</td>\n",
       "      <td>NaN</td>\n",
       "      <td>2006-02-18</td>\n",
       "      <td>2008-08-20</td>\n",
       "      <td>NaN</td>\n",
       "    </tr>\n",
       "    <tr>\n",
       "      <th>1084</th>\n",
       "      <td>944</td>\n",
       "      <td>Area_12</td>\n",
       "      <td>Sub_Area_12</td>\n",
       "      <td>Completed</td>\n",
       "      <td>8218625.68</td>\n",
       "      <td>5.819270e+06</td>\n",
       "      <td>Institutional</td>\n",
       "      <td>NaN</td>\n",
       "      <td>2005-12-23</td>\n",
       "      <td>2008-06-24</td>\n",
       "      <td>2008-03-12</td>\n",
       "    </tr>\n",
       "    <tr>\n",
       "      <th>1085</th>\n",
       "      <td>945</td>\n",
       "      <td>Area_12</td>\n",
       "      <td>Sub_Area_12</td>\n",
       "      <td>Completed</td>\n",
       "      <td>14563973.77</td>\n",
       "      <td>1.551705e+07</td>\n",
       "      <td>Institutional</td>\n",
       "      <td>Other</td>\n",
       "      <td>2006-08-09</td>\n",
       "      <td>2006-06-08</td>\n",
       "      <td>2006-10-02</td>\n",
       "    </tr>\n",
       "    <tr>\n",
       "      <th>1086</th>\n",
       "      <td>946</td>\n",
       "      <td>Area_12</td>\n",
       "      <td>Sub_Area_12</td>\n",
       "      <td>Completed</td>\n",
       "      <td>8218625.68</td>\n",
       "      <td>8.179951e+06</td>\n",
       "      <td>Commercial</td>\n",
       "      <td>Other</td>\n",
       "      <td>2006-07-15</td>\n",
       "      <td>2009-01-14</td>\n",
       "      <td>2009-05-05</td>\n",
       "    </tr>\n",
       "    <tr>\n",
       "      <th>1087</th>\n",
       "      <td>947</td>\n",
       "      <td>Area_12</td>\n",
       "      <td>Sub_Area_12</td>\n",
       "      <td>Completed</td>\n",
       "      <td>8218625.68</td>\n",
       "      <td>4.858620e+06</td>\n",
       "      <td>NaN</td>\n",
       "      <td>Other</td>\n",
       "      <td>2006-08-24</td>\n",
       "      <td>2009-02-23</td>\n",
       "      <td>2008-12-16</td>\n",
       "    </tr>\n",
       "    <tr>\n",
       "      <th>1088</th>\n",
       "      <td>948</td>\n",
       "      <td>Area_15</td>\n",
       "      <td>Sub_Area_12</td>\n",
       "      <td>NaN</td>\n",
       "      <td>206567.37</td>\n",
       "      <td>1.784194e+05</td>\n",
       "      <td>NaN</td>\n",
       "      <td>CCDC 5B</td>\n",
       "      <td>2006-11-14</td>\n",
       "      <td>2007-03-01</td>\n",
       "      <td>2007-05-14</td>\n",
       "    </tr>\n",
       "    <tr>\n",
       "      <th>1089</th>\n",
       "      <td>949</td>\n",
       "      <td>Area_12</td>\n",
       "      <td>Sub_Area_12</td>\n",
       "      <td>Completed</td>\n",
       "      <td>8218625.68</td>\n",
       "      <td>4.233244e+06</td>\n",
       "      <td>Institutional</td>\n",
       "      <td>CCDC 5B</td>\n",
       "      <td>2006-12-15</td>\n",
       "      <td>2009-06-16</td>\n",
       "      <td>2009-06-28</td>\n",
       "    </tr>\n",
       "  </tbody>\n",
       "</table>\n",
       "</div>"
      ],
      "text/plain": [
       "     IDProject_    Area_     SubArea_ projectPhase_  OriginalEstimate_  \\\n",
       "1080        940  Area_12  Sub_Area_12           NaN         8218625.68   \n",
       "1081        941  Area_12  Sub_Area_35     Completed         8218625.68   \n",
       "1082        942  Area_12  Sub_Area_12     Completed         8218625.68   \n",
       "1083        943  Area_12  Sub_Area_12     Completed          449676.93   \n",
       "1084        944  Area_12  Sub_Area_12     Completed         8218625.68   \n",
       "1085        945  Area_12  Sub_Area_12     Completed        14563973.77   \n",
       "1086        946  Area_12  Sub_Area_12     Completed         8218625.68   \n",
       "1087        947  Area_12  Sub_Area_12     Completed         8218625.68   \n",
       "1088        948  Area_15  Sub_Area_12           NaN          206567.37   \n",
       "1089        949  Area_12  Sub_Area_12     Completed         8218625.68   \n",
       "\n",
       "       CostToDate_ Project_Category Contract_Type_ Start_Date_  \\\n",
       "1080  9.158943e+06   Transportation            NaN  2005-05-01   \n",
       "1081  1.154387e+07   Transportation          Other  2005-05-26   \n",
       "1082  7.446737e+06    Institutional            NaN  2005-10-14   \n",
       "1083  4.722202e+05    Institutional            NaN  2006-02-18   \n",
       "1084  5.819270e+06    Institutional            NaN  2005-12-23   \n",
       "1085  1.551705e+07    Institutional          Other  2006-08-09   \n",
       "1086  8.179951e+06       Commercial          Other  2006-07-15   \n",
       "1087  4.858620e+06              NaN          Other  2006-08-24   \n",
       "1088  1.784194e+05              NaN       CCDC 5B   2006-11-14   \n",
       "1089  4.233244e+06    Institutional       CCDC 5B   2006-12-15   \n",
       "\n",
       "     EstimatedFinalCompletion_ Actual_End_Date_  \n",
       "1080                2007-11-01       2007-09-08  \n",
       "1081                2005-07-31       2005-10-30  \n",
       "1082                2005-12-18              NaN  \n",
       "1083                2008-08-20              NaN  \n",
       "1084                2008-06-24       2008-03-12  \n",
       "1085                2006-06-08       2006-10-02  \n",
       "1086                2009-01-14       2009-05-05  \n",
       "1087                2009-02-23       2008-12-16  \n",
       "1088                2007-03-01       2007-05-14  \n",
       "1089                2009-06-16       2009-06-28  "
      ]
     },
     "execution_count": 108,
     "metadata": {},
     "output_type": "execute_result"
    }
   ],
   "source": [
    "df3.iloc[1080:1090, :]"
   ]
  },
  {
   "cell_type": "code",
   "execution_count": 109,
   "id": "328a80dd-25b5-4e73-a325-dc65005c9726",
   "metadata": {
    "tags": []
   },
   "outputs": [],
   "source": [
    "df3.drop([1085, 1861, 1875, 1925, 1927, 2175, 2404], axis = 0, inplace = True)"
   ]
  },
  {
   "cell_type": "code",
   "execution_count": 110,
   "id": "abf9a86d-f731-4ceb-bc8e-71c67d52cfe6",
   "metadata": {
    "tags": []
   },
   "outputs": [
    {
     "data": {
      "text/plain": [
       "[<matplotlib.lines.Line2D at 0x2cbf4db3b90>]"
      ]
     },
     "execution_count": 110,
     "metadata": {},
     "output_type": "execute_result"
    },
    {
     "data": {
      "image/png": "[encoded data removed]",
      "text/plain": [
       "<Figure size 640x480 with 1 Axes>"
      ]
     },
     "metadata": {},
     "output_type": "display_data"
    }
   ],
   "source": [
    "plt.plot(colect_d1)"
   ]
  },
  {
   "cell_type": "code",
   "execution_count": 111,
   "id": "3d7897e1-7353-4137-8fe8-ebeeb0216086",
   "metadata": {
    "tags": []
   },
   "outputs": [],
   "source": [
    "#colect_d1"
   ]
  },
  {
   "cell_type": "code",
   "execution_count": 112,
   "id": "b70f75e4-efe7-40e5-81f7-99f23ab0b601",
   "metadata": {
    "tags": []
   },
   "outputs": [],
   "source": [
    "mean_cd1 = np.mean(colect_d1)\n",
    "mean_cd2 = np.mean(colect_d2)"
   ]
  },
  {
   "cell_type": "markdown",
   "id": "bdf464e2-504d-451f-b9a2-2ad9dc510264",
   "metadata": {},
   "source": [
    "## Average difference between start date of the project and the estimated date to finish, and the estimated date and the real end date"
   ]
  },
  {
   "cell_type": "code",
   "execution_count": 113,
   "id": "63759f12-19a4-4923-b158-9a38c7565715",
   "metadata": {
    "tags": []
   },
   "outputs": [
    {
     "name": "stdout",
     "output_type": "stream",
     "text": [
      "26.393538341767226 -0.02491241728298949\n"
     ]
    }
   ],
   "source": [
    "print(mean_cd1, mean_cd2)"
   ]
  },
  {
   "cell_type": "markdown",
   "id": "dd8ed260-b0d4-4511-a1d7-6784726e5f01",
   "metadata": {},
   "source": [
    "## Filling the missing dates"
   ]
  },
  {
   "cell_type": "code",
   "execution_count": 114,
   "id": "e244fa7c-db5c-4489-9d97-7b0ee4020460",
   "metadata": {
    "tags": []
   },
   "outputs": [],
   "source": [
    "def dat_isna(s):\n",
    "    return [i for i in s.index if s[i]]"
   ]
  },
  {
   "cell_type": "code",
   "execution_count": 115,
   "id": "8d559256-e75d-4874-8fe6-071ca106417d",
   "metadata": {
    "tags": []
   },
   "outputs": [],
   "source": [
    "st_dat_na2 = dat_isna(df3.Start_Date_.isna())\n",
    "est_f_dat_na2 = dat_isna(df3.EstimatedFinalCompletion_.isna())\n",
    "end_dat_na2 = dat_isna(df3.Actual_End_Date_.isna())"
   ]
  },
  {
   "cell_type": "code",
   "execution_count": 116,
   "id": "cbb8fa3f-12b4-4835-bd2a-04adbdc0d0e7",
   "metadata": {
    "tags": []
   },
   "outputs": [
    {
     "data": {
      "text/html": [
       "<div>\n",
       "<style scoped>\n",
       "    .dataframe tbody tr th:only-of-type {\n",
       "        vertical-align: middle;\n",
       "    }\n",
       "\n",
       "    .dataframe tbody tr th {\n",
       "        vertical-align: top;\n",
       "    }\n",
       "\n",
       "    .dataframe thead th {\n",
       "        text-align: right;\n",
       "    }\n",
       "</style>\n",
       "<table border=\"1\" class=\"dataframe\">\n",
       "  <thead>\n",
       "    <tr style=\"text-align: right;\">\n",
       "      <th></th>\n",
       "      <th>Start_Date_</th>\n",
       "      <th>EstimatedFinalCompletion_</th>\n",
       "    </tr>\n",
       "  </thead>\n",
       "  <tbody>\n",
       "    <tr>\n",
       "      <th>40</th>\n",
       "      <td>2013-02-15</td>\n",
       "      <td>2017-07-26</td>\n",
       "    </tr>\n",
       "    <tr>\n",
       "      <th>41</th>\n",
       "      <td>NaN</td>\n",
       "      <td>2017-07-06</td>\n",
       "    </tr>\n",
       "    <tr>\n",
       "      <th>42</th>\n",
       "      <td>2012-09-27</td>\n",
       "      <td>2015-03-30</td>\n",
       "    </tr>\n",
       "    <tr>\n",
       "      <th>43</th>\n",
       "      <td>2012-10-12</td>\n",
       "      <td>2013-10-27</td>\n",
       "    </tr>\n",
       "    <tr>\n",
       "      <th>44</th>\n",
       "      <td>2012-09-30</td>\n",
       "      <td>NaN</td>\n",
       "    </tr>\n",
       "    <tr>\n",
       "      <th>...</th>\n",
       "      <td>...</td>\n",
       "      <td>...</td>\n",
       "    </tr>\n",
       "    <tr>\n",
       "      <th>236</th>\n",
       "      <td>2006-03-29</td>\n",
       "      <td>2008-09-28</td>\n",
       "    </tr>\n",
       "    <tr>\n",
       "      <th>237</th>\n",
       "      <td>2006-02-11</td>\n",
       "      <td>2010-12-15</td>\n",
       "    </tr>\n",
       "    <tr>\n",
       "      <th>238</th>\n",
       "      <td>2006-02-11</td>\n",
       "      <td>2010-12-15</td>\n",
       "    </tr>\n",
       "    <tr>\n",
       "      <th>239</th>\n",
       "      <td>2006-02-11</td>\n",
       "      <td>2010-12-15</td>\n",
       "    </tr>\n",
       "    <tr>\n",
       "      <th>240</th>\n",
       "      <td>2006-03-01</td>\n",
       "      <td>2008-08-31</td>\n",
       "    </tr>\n",
       "  </tbody>\n",
       "</table>\n",
       "<p>201 rows × 2 columns</p>\n",
       "</div>"
      ],
      "text/plain": [
       "    Start_Date_ EstimatedFinalCompletion_\n",
       "40   2013-02-15                2017-07-26\n",
       "41          NaN                2017-07-06\n",
       "42   2012-09-27                2015-03-30\n",
       "43   2012-10-12                2013-10-27\n",
       "44   2012-09-30                       NaN\n",
       "..          ...                       ...\n",
       "236  2006-03-29                2008-09-28\n",
       "237  2006-02-11                2010-12-15\n",
       "238  2006-02-11                2010-12-15\n",
       "239  2006-02-11                2010-12-15\n",
       "240  2006-03-01                2008-08-31\n",
       "\n",
       "[201 rows x 2 columns]"
      ]
     },
     "execution_count": 116,
     "metadata": {},
     "output_type": "execute_result"
    }
   ],
   "source": [
    "df3.loc[40:240, ['Start_Date_', 'EstimatedFinalCompletion_']]"
   ]
  },
  {
   "cell_type": "code",
   "execution_count": 258,
   "id": "4fc96903-d760-4381-8bb4-6ef34cbdf24f",
   "metadata": {
    "tags": []
   },
   "outputs": [],
   "source": [
    "def return_start_date(d2, l1):\n",
    "    '''\n",
    "    The date when the project has been started is being estimated according to the mean value of the differences between the whole start dates and estimated \n",
    "    end dates of the whole poplulation to fill the missing dates.\n",
    "    '''\n",
    "    d1_l = []\n",
    "    #d1_l_totime = []\n",
    "    for d in (l1):\n",
    "        d2_t_obj = create_time_obj(d2[d])\n",
    "        if d2_t_obj.month <= 2:\n",
    "            \n",
    "            d1 = f'{d2_t_obj.year - 2}-{d2_t_obj.month}-{d2_t_obj.day}'\n",
    "            #d1 = (d2_t_obj.year - 2, d2_t_obj.month, d2_t_obj.day)\n",
    "        else:\n",
    "            d1 = f'{d2_t_obj.year - 2}-{d2_t_obj.month - 2}-{d2_t_obj.day}'\n",
    "            #d1 = (d2_t_obj.year - 2, d2_t_obj.month - 2, d2_t_obj.day)\n",
    "            \n",
    "        d1_l.append(d1)\n",
    "        #d1_l_totime.append(datetime(*d1))\n",
    "    return d1_l"
   ]
  },
  {
   "cell_type": "code",
   "execution_count": 259,
   "id": "5fac4ccb-0f59-4b31-8f01-4d758e732c46",
   "metadata": {
    "tags": []
   },
   "outputs": [],
   "source": [
    "fill_dats = return_start_date(df3.EstimatedFinalCompletion_, st_dat_na2)"
   ]
  },
  {
   "cell_type": "code",
   "execution_count": 260,
   "id": "572f60e1-95ac-4152-aeab-bc60a2fe9dc7",
   "metadata": {
    "tags": []
   },
   "outputs": [
    {
     "name": "stdout",
     "output_type": "stream",
     "text": [
      "['2015-5-6', '2012-1-23', '2013-5-4', '2004-9-10', '2003-7-30', '2006-10-1', '2005-7-1', '2006-6-31', '2006-6-31', '2007-6-31', '2007-6-31', '2009-9-6', '2009-10-7', '2010-1-24', '2010-10-19', '2005-7-15', '2007-7-2', '2009-2-27', '2008-1-30', '2007-6-30', '2007-5-15', '2007-4-21', '2010-4-4', '2012-1-26', '2012-1-26', '2012-9-13', '2008-3-4', '2009-5-23', '2010-8-1', '2007-1-29', '2011-4-16', '2010-8-27', '2011-2-23', '2012-2-26', '2011-4-30', '2008-5-31', '2011-3-28', '2012-4-2', '2012-9-1', '2005-8-2', '2005-9-1', '2006-2-1', '2006-9-1', '2006-10-7', '2008-6-7', '2007-1-11', '2005-2-3', '2005-5-13', '2003-7-30', '2004-9-17', '2004-2-30', '2006-8-1', '2006-10-1', '2011-9-10', '2009-10-20', '2009-2-27', '2008-8-30', '2014-1-14', '2010-7-3', '2010-1-14', '2010-4-22', '2011-4-12', '2011-4-17', '2011-7-23', '2011-9-9', '2011-10-1', '2010-6-17', '2011-10-31', '2006-4-14', '2011-2-28', '2010-10-23', '2008-4-1', '2008-9-13', '2010-7-23', '2010-1-1', '2009-6-30', '2010-1-25', '2011-1-31', '2005-7-29', '2009-2-10'] \n",
      " [41, 74, 98, 129, 148, 181, 206, 234, 241, 279, 283, 432, 439, 447, 477, 598, 634, 696, 701, 705, 720, 799, 822, 848, 851, 946, 983, 1051, 1071, 1225, 1255, 1326, 1327, 1380, 1389, 1421, 1447, 1515, 1520, 1563, 1585, 1589, 1643, 1651, 1710, 1747, 1813, 1815, 1822, 1864, 1872, 1886, 1897, 1922, 1996, 2060, 2067, 2128, 2139, 2152, 2162, 2190, 2194, 2235, 2260, 2267, 2297, 2305, 2334, 2384, 2411, 2462, 2464, 2502, 2556, 2578, 2582, 2729, 2775, 2801]\n"
     ]
    }
   ],
   "source": [
    "print(fill_dats, f'\\n', st_dat_na2)"
   ]
  },
  {
   "cell_type": "code",
   "execution_count": 261,
   "id": "65125b46-4bb9-4107-a4a0-aa0f96368f7b",
   "metadata": {},
   "outputs": [
    {
     "data": {
      "text/plain": [
       "str"
      ]
     },
     "execution_count": 261,
     "metadata": {},
     "output_type": "execute_result"
    }
   ],
   "source": [
    "type(fill_dats[0][0])"
   ]
  },
  {
   "cell_type": "code",
   "execution_count": 263,
   "id": "4ce48b07-86b8-4759-b697-408de784c023",
   "metadata": {
    "tags": []
   },
   "outputs": [
    {
     "data": {
      "text/html": [
       "<div>\n",
       "<style scoped>\n",
       "    .dataframe tbody tr th:only-of-type {\n",
       "        vertical-align: middle;\n",
       "    }\n",
       "\n",
       "    .dataframe tbody tr th {\n",
       "        vertical-align: top;\n",
       "    }\n",
       "\n",
       "    .dataframe thead th {\n",
       "        text-align: right;\n",
       "    }\n",
       "</style>\n",
       "<table border=\"1\" class=\"dataframe\">\n",
       "  <thead>\n",
       "    <tr style=\"text-align: right;\">\n",
       "      <th></th>\n",
       "      <th>Start_Date_</th>\n",
       "      <th>EstimatedFinalCompletion_</th>\n",
       "    </tr>\n",
       "  </thead>\n",
       "  <tbody>\n",
       "    <tr>\n",
       "      <th>41</th>\n",
       "      <td>(2015, 5, 6)</td>\n",
       "      <td>2017-07-06</td>\n",
       "    </tr>\n",
       "    <tr>\n",
       "      <th>74</th>\n",
       "      <td>(2012, 1, 23)</td>\n",
       "      <td>2014-03-23</td>\n",
       "    </tr>\n",
       "    <tr>\n",
       "      <th>98</th>\n",
       "      <td>(2013, 5, 4)</td>\n",
       "      <td>2015-07-04</td>\n",
       "    </tr>\n",
       "    <tr>\n",
       "      <th>129</th>\n",
       "      <td>(2004, 9, 10)</td>\n",
       "      <td>2006-11-10</td>\n",
       "    </tr>\n",
       "    <tr>\n",
       "      <th>148</th>\n",
       "      <td>(2003, 7, 30)</td>\n",
       "      <td>2005-09-30</td>\n",
       "    </tr>\n",
       "    <tr>\n",
       "      <th>181</th>\n",
       "      <td>(2006, 10, 1)</td>\n",
       "      <td>2008-12-01</td>\n",
       "    </tr>\n",
       "    <tr>\n",
       "      <th>206</th>\n",
       "      <td>(2005, 7, 1)</td>\n",
       "      <td>2007-09-01</td>\n",
       "    </tr>\n",
       "    <tr>\n",
       "      <th>234</th>\n",
       "      <td>(2006, 6, 31)</td>\n",
       "      <td>2008-08-31</td>\n",
       "    </tr>\n",
       "    <tr>\n",
       "      <th>241</th>\n",
       "      <td>(2006, 6, 31)</td>\n",
       "      <td>2008-08-31</td>\n",
       "    </tr>\n",
       "    <tr>\n",
       "      <th>279</th>\n",
       "      <td>(2007, 6, 31)</td>\n",
       "      <td>2009-08-31</td>\n",
       "    </tr>\n",
       "    <tr>\n",
       "      <th>283</th>\n",
       "      <td>(2007, 6, 31)</td>\n",
       "      <td>2009-08-31</td>\n",
       "    </tr>\n",
       "    <tr>\n",
       "      <th>432</th>\n",
       "      <td>(2009, 9, 6)</td>\n",
       "      <td>2011-11-06</td>\n",
       "    </tr>\n",
       "  </tbody>\n",
       "</table>\n",
       "</div>"
      ],
      "text/plain": [
       "       Start_Date_ EstimatedFinalCompletion_\n",
       "41    (2015, 5, 6)                2017-07-06\n",
       "74   (2012, 1, 23)                2014-03-23\n",
       "98    (2013, 5, 4)                2015-07-04\n",
       "129  (2004, 9, 10)                2006-11-10\n",
       "148  (2003, 7, 30)                2005-09-30\n",
       "181  (2006, 10, 1)                2008-12-01\n",
       "206   (2005, 7, 1)                2007-09-01\n",
       "234  (2006, 6, 31)                2008-08-31\n",
       "241  (2006, 6, 31)                2008-08-31\n",
       "279  (2007, 6, 31)                2009-08-31\n",
       "283  (2007, 6, 31)                2009-08-31\n",
       "432   (2009, 9, 6)                2011-11-06"
      ]
     },
     "execution_count": 263,
     "metadata": {},
     "output_type": "execute_result"
    }
   ],
   "source": [
    "df3.loc[[41, 74, 98, 129, 148, 181, 206, 234, 241, 279, 283, 432], ['Start_Date_', 'EstimatedFinalCompletion_']]"
   ]
  },
  {
   "cell_type": "markdown",
   "id": "61946f04-4287-4ce7-896b-fcb76cfdabc4",
   "metadata": {},
   "source": [
    "# Filling the NaN values of the Start Date column"
   ]
  },
  {
   "cell_type": "code",
   "execution_count": 264,
   "id": "52c2d2e8-9b02-45fa-9f0f-f26a78a891fd",
   "metadata": {
    "tags": []
   },
   "outputs": [],
   "source": [
    "for l in range(len(st_dat_na2)):\n",
    "    df3.at[st_dat_na2[l], 'Start_Date_'] = fill_dats[l]"
   ]
  },
  {
   "cell_type": "code",
   "execution_count": 265,
   "id": "54cd1596-45c3-4554-a9ae-7a6624c4b843",
   "metadata": {
    "tags": []
   },
   "outputs": [
    {
     "data": {
      "text/html": [
       "<div>\n",
       "<style scoped>\n",
       "    .dataframe tbody tr th:only-of-type {\n",
       "        vertical-align: middle;\n",
       "    }\n",
       "\n",
       "    .dataframe tbody tr th {\n",
       "        vertical-align: top;\n",
       "    }\n",
       "\n",
       "    .dataframe thead th {\n",
       "        text-align: right;\n",
       "    }\n",
       "</style>\n",
       "<table border=\"1\" class=\"dataframe\">\n",
       "  <thead>\n",
       "    <tr style=\"text-align: right;\">\n",
       "      <th></th>\n",
       "      <th>Start_Date_</th>\n",
       "      <th>EstimatedFinalCompletion_</th>\n",
       "    </tr>\n",
       "  </thead>\n",
       "  <tbody>\n",
       "    <tr>\n",
       "      <th>41</th>\n",
       "      <td>2015-5-6</td>\n",
       "      <td>2017-07-06</td>\n",
       "    </tr>\n",
       "    <tr>\n",
       "      <th>74</th>\n",
       "      <td>2012-1-23</td>\n",
       "      <td>2014-03-23</td>\n",
       "    </tr>\n",
       "    <tr>\n",
       "      <th>98</th>\n",
       "      <td>2013-5-4</td>\n",
       "      <td>2015-07-04</td>\n",
       "    </tr>\n",
       "    <tr>\n",
       "      <th>129</th>\n",
       "      <td>2004-9-10</td>\n",
       "      <td>2006-11-10</td>\n",
       "    </tr>\n",
       "    <tr>\n",
       "      <th>148</th>\n",
       "      <td>2003-7-30</td>\n",
       "      <td>2005-09-30</td>\n",
       "    </tr>\n",
       "    <tr>\n",
       "      <th>181</th>\n",
       "      <td>2006-10-1</td>\n",
       "      <td>2008-12-01</td>\n",
       "    </tr>\n",
       "    <tr>\n",
       "      <th>206</th>\n",
       "      <td>2005-7-1</td>\n",
       "      <td>2007-09-01</td>\n",
       "    </tr>\n",
       "    <tr>\n",
       "      <th>234</th>\n",
       "      <td>2006-6-31</td>\n",
       "      <td>2008-08-31</td>\n",
       "    </tr>\n",
       "    <tr>\n",
       "      <th>241</th>\n",
       "      <td>2006-6-31</td>\n",
       "      <td>2008-08-31</td>\n",
       "    </tr>\n",
       "    <tr>\n",
       "      <th>279</th>\n",
       "      <td>2007-6-31</td>\n",
       "      <td>2009-08-31</td>\n",
       "    </tr>\n",
       "    <tr>\n",
       "      <th>283</th>\n",
       "      <td>2007-6-31</td>\n",
       "      <td>2009-08-31</td>\n",
       "    </tr>\n",
       "    <tr>\n",
       "      <th>432</th>\n",
       "      <td>2009-9-6</td>\n",
       "      <td>2011-11-06</td>\n",
       "    </tr>\n",
       "  </tbody>\n",
       "</table>\n",
       "</div>"
      ],
      "text/plain": [
       "    Start_Date_ EstimatedFinalCompletion_\n",
       "41     2015-5-6                2017-07-06\n",
       "74    2012-1-23                2014-03-23\n",
       "98     2013-5-4                2015-07-04\n",
       "129   2004-9-10                2006-11-10\n",
       "148   2003-7-30                2005-09-30\n",
       "181   2006-10-1                2008-12-01\n",
       "206    2005-7-1                2007-09-01\n",
       "234   2006-6-31                2008-08-31\n",
       "241   2006-6-31                2008-08-31\n",
       "279   2007-6-31                2009-08-31\n",
       "283   2007-6-31                2009-08-31\n",
       "432    2009-9-6                2011-11-06"
      ]
     },
     "execution_count": 265,
     "metadata": {},
     "output_type": "execute_result"
    }
   ],
   "source": [
    "df3.loc[[41, 74, 98, 129, 148, 181, 206, 234, 241, 279, 283, 432], ['Start_Date_', 'EstimatedFinalCompletion_']]"
   ]
  },
  {
   "cell_type": "code",
   "execution_count": 266,
   "id": "4e191734-f7d7-4b4a-a6fb-d905998841cd",
   "metadata": {
    "tags": []
   },
   "outputs": [
    {
     "data": {
      "text/plain": [
       "0"
      ]
     },
     "execution_count": 266,
     "metadata": {},
     "output_type": "execute_result"
    }
   ],
   "source": [
    "df3.Start_Date_.isna().sum()"
   ]
  },
  {
   "cell_type": "code",
   "execution_count": 267,
   "id": "3b1a7671-011a-43ca-beae-ff7a930df06e",
   "metadata": {
    "tags": []
   },
   "outputs": [
    {
     "data": {
      "text/html": [
       "<div>\n",
       "<style scoped>\n",
       "    .dataframe tbody tr th:only-of-type {\n",
       "        vertical-align: middle;\n",
       "    }\n",
       "\n",
       "    .dataframe tbody tr th {\n",
       "        vertical-align: top;\n",
       "    }\n",
       "\n",
       "    .dataframe thead th {\n",
       "        text-align: right;\n",
       "    }\n",
       "</style>\n",
       "<table border=\"1\" class=\"dataframe\">\n",
       "  <thead>\n",
       "    <tr style=\"text-align: right;\">\n",
       "      <th></th>\n",
       "      <th>EstimatedFinalCompletion_</th>\n",
       "      <th>Actual_End_Date_</th>\n",
       "    </tr>\n",
       "  </thead>\n",
       "  <tbody>\n",
       "    <tr>\n",
       "      <th>44</th>\n",
       "      <td>(2015, 3, 17)</td>\n",
       "      <td>2015-03-16</td>\n",
       "    </tr>\n",
       "    <tr>\n",
       "      <th>62</th>\n",
       "      <td>(2012, 12, 8)</td>\n",
       "      <td>2012-12-07</td>\n",
       "    </tr>\n",
       "    <tr>\n",
       "      <th>72</th>\n",
       "      <td>(2015, 5, 22)</td>\n",
       "      <td>2015-05-21</td>\n",
       "    </tr>\n",
       "    <tr>\n",
       "      <th>76</th>\n",
       "      <td>(2013, 7, 9)</td>\n",
       "      <td>2013-07-08</td>\n",
       "    </tr>\n",
       "    <tr>\n",
       "      <th>184</th>\n",
       "      <td>(2007, 8, 30)</td>\n",
       "      <td>2007-08-30</td>\n",
       "    </tr>\n",
       "    <tr>\n",
       "      <th>...</th>\n",
       "      <td>...</td>\n",
       "      <td>...</td>\n",
       "    </tr>\n",
       "    <tr>\n",
       "      <th>2531</th>\n",
       "      <td>(2015, 6, 12)</td>\n",
       "      <td>2015-06-11</td>\n",
       "    </tr>\n",
       "    <tr>\n",
       "      <th>2609</th>\n",
       "      <td>(2012, 9, 22)</td>\n",
       "      <td>2012-09-21</td>\n",
       "    </tr>\n",
       "    <tr>\n",
       "      <th>2642</th>\n",
       "      <td>(2008, 2, 7)</td>\n",
       "      <td>2008-02-06</td>\n",
       "    </tr>\n",
       "    <tr>\n",
       "      <th>2644</th>\n",
       "      <td>(2010, 9, 20)</td>\n",
       "      <td>2010-09-19</td>\n",
       "    </tr>\n",
       "    <tr>\n",
       "      <th>2706</th>\n",
       "      <td>(2013, 9, 12)</td>\n",
       "      <td>2013-09-11</td>\n",
       "    </tr>\n",
       "  </tbody>\n",
       "</table>\n",
       "<p>81 rows × 2 columns</p>\n",
       "</div>"
      ],
      "text/plain": [
       "     EstimatedFinalCompletion_ Actual_End_Date_\n",
       "44               (2015, 3, 17)       2015-03-16\n",
       "62               (2012, 12, 8)       2012-12-07\n",
       "72               (2015, 5, 22)       2015-05-21\n",
       "76                (2013, 7, 9)       2013-07-08\n",
       "184              (2007, 8, 30)       2007-08-30\n",
       "...                        ...              ...\n",
       "2531             (2015, 6, 12)       2015-06-11\n",
       "2609             (2012, 9, 22)       2012-09-21\n",
       "2642              (2008, 2, 7)       2008-02-06\n",
       "2644             (2010, 9, 20)       2010-09-19\n",
       "2706             (2013, 9, 12)       2013-09-11\n",
       "\n",
       "[81 rows x 2 columns]"
      ]
     },
     "execution_count": 267,
     "metadata": {},
     "output_type": "execute_result"
    }
   ],
   "source": [
    "df3.loc[est_f_dat_na2, ['EstimatedFinalCompletion_','Actual_End_Date_' ]]"
   ]
  },
  {
   "cell_type": "code",
   "execution_count": 268,
   "id": "9b1c5e96-9e0c-47dc-bf55-e31ac9f68da0",
   "metadata": {
    "tags": []
   },
   "outputs": [],
   "source": [
    "def return_est_date(d3, l2):\n",
    "    '''\n",
    "    The estimated final date is calculated based on the average difference betwwen the estimated final date and the actual end dates; -0.024 month\n",
    "    which means that the projcts end dates where apporiximately 30% earlier than estimated which is alomost 1 day\n",
    "    '''\n",
    "    d2_l = []\n",
    "    \n",
    "    for dt in (l2):\n",
    "        d3_t_obj = create_time_obj(d3[dt])\n",
    "        if d3_t_obj.day >= 28:\n",
    "            d2 = f'{d3_t_obj.year}-{d3_t_obj.month}-{d3_t_obj.day}'\n",
    "            #d2 = (d3_t_obj.year, d3_t_obj.month, d3_t_obj.day)\n",
    "        else:\n",
    "            d2 = f'{d3_t_obj.year}-{d3_t_obj.month}-{d3_t_obj.day + 1}'\n",
    "            #d2 = (d3_t_obj.year, d3_t_obj.month, d3_t_obj.day + 1)\n",
    "        d2_l.append(d2)\n",
    "        \n",
    "    return d2_l"
   ]
  },
  {
   "cell_type": "code",
   "execution_count": 269,
   "id": "2b7b2abf-aef5-4aef-8234-4e2f92616095",
   "metadata": {
    "tags": []
   },
   "outputs": [],
   "source": [
    "fill_dat2 = return_est_date(df3.Actual_End_Date_, est_f_dat_na2)"
   ]
  },
  {
   "cell_type": "code",
   "execution_count": 270,
   "id": "237f642a-b92b-489f-b98b-643ba111f35f",
   "metadata": {
    "tags": []
   },
   "outputs": [
    {
     "data": {
      "text/plain": [
       "44      2015-03-16\n",
       "62      2012-12-07\n",
       "72      2015-05-21\n",
       "76      2013-07-08\n",
       "184     2007-08-30\n",
       "           ...    \n",
       "2531    2015-06-11\n",
       "2609    2012-09-21\n",
       "2642    2008-02-06\n",
       "2644    2010-09-19\n",
       "2706    2013-09-11\n",
       "Name: Actual_End_Date_, Length: 81, dtype: object"
      ]
     },
     "execution_count": 270,
     "metadata": {},
     "output_type": "execute_result"
    }
   ],
   "source": [
    "df3.Actual_End_Date_[est_f_dat_na2]"
   ]
  },
  {
   "cell_type": "markdown",
   "id": "13c66737-8564-4812-92dc-e12067e760f9",
   "metadata": {},
   "source": [
    "## Filling the missing estimated date values acoording to the final dates of the project"
   ]
  },
  {
   "cell_type": "code",
   "execution_count": 271,
   "id": "12741535-00cf-45ce-80de-91898c989c28",
   "metadata": {
    "tags": []
   },
   "outputs": [],
   "source": [
    "for l in range(len(est_f_dat_na2)):\n",
    "    df3.at[est_f_dat_na2[l], 'EstimatedFinalCompletion_'] = fill_dat2[l]"
   ]
  },
  {
   "cell_type": "code",
   "execution_count": 272,
   "id": "48618b36-69bf-45cb-bd0a-5c6dafc14fde",
   "metadata": {
    "tags": []
   },
   "outputs": [
    {
     "data": {
      "text/html": [
       "<div>\n",
       "<style scoped>\n",
       "    .dataframe tbody tr th:only-of-type {\n",
       "        vertical-align: middle;\n",
       "    }\n",
       "\n",
       "    .dataframe tbody tr th {\n",
       "        vertical-align: top;\n",
       "    }\n",
       "\n",
       "    .dataframe thead th {\n",
       "        text-align: right;\n",
       "    }\n",
       "</style>\n",
       "<table border=\"1\" class=\"dataframe\">\n",
       "  <thead>\n",
       "    <tr style=\"text-align: right;\">\n",
       "      <th></th>\n",
       "      <th>EstimatedFinalCompletion_</th>\n",
       "      <th>Actual_End_Date_</th>\n",
       "    </tr>\n",
       "  </thead>\n",
       "  <tbody>\n",
       "    <tr>\n",
       "      <th>44</th>\n",
       "      <td>2015-3-17</td>\n",
       "      <td>2015-03-16</td>\n",
       "    </tr>\n",
       "    <tr>\n",
       "      <th>62</th>\n",
       "      <td>2012-12-8</td>\n",
       "      <td>2012-12-07</td>\n",
       "    </tr>\n",
       "    <tr>\n",
       "      <th>72</th>\n",
       "      <td>2015-5-22</td>\n",
       "      <td>2015-05-21</td>\n",
       "    </tr>\n",
       "    <tr>\n",
       "      <th>76</th>\n",
       "      <td>2013-7-9</td>\n",
       "      <td>2013-07-08</td>\n",
       "    </tr>\n",
       "    <tr>\n",
       "      <th>184</th>\n",
       "      <td>2007-8-30</td>\n",
       "      <td>2007-08-30</td>\n",
       "    </tr>\n",
       "    <tr>\n",
       "      <th>...</th>\n",
       "      <td>...</td>\n",
       "      <td>...</td>\n",
       "    </tr>\n",
       "    <tr>\n",
       "      <th>2531</th>\n",
       "      <td>2015-6-12</td>\n",
       "      <td>2015-06-11</td>\n",
       "    </tr>\n",
       "    <tr>\n",
       "      <th>2609</th>\n",
       "      <td>2012-9-22</td>\n",
       "      <td>2012-09-21</td>\n",
       "    </tr>\n",
       "    <tr>\n",
       "      <th>2642</th>\n",
       "      <td>2008-2-7</td>\n",
       "      <td>2008-02-06</td>\n",
       "    </tr>\n",
       "    <tr>\n",
       "      <th>2644</th>\n",
       "      <td>2010-9-20</td>\n",
       "      <td>2010-09-19</td>\n",
       "    </tr>\n",
       "    <tr>\n",
       "      <th>2706</th>\n",
       "      <td>2013-9-12</td>\n",
       "      <td>2013-09-11</td>\n",
       "    </tr>\n",
       "  </tbody>\n",
       "</table>\n",
       "<p>81 rows × 2 columns</p>\n",
       "</div>"
      ],
      "text/plain": [
       "     EstimatedFinalCompletion_ Actual_End_Date_\n",
       "44                   2015-3-17       2015-03-16\n",
       "62                   2012-12-8       2012-12-07\n",
       "72                   2015-5-22       2015-05-21\n",
       "76                    2013-7-9       2013-07-08\n",
       "184                  2007-8-30       2007-08-30\n",
       "...                        ...              ...\n",
       "2531                 2015-6-12       2015-06-11\n",
       "2609                 2012-9-22       2012-09-21\n",
       "2642                  2008-2-7       2008-02-06\n",
       "2644                 2010-9-20       2010-09-19\n",
       "2706                 2013-9-12       2013-09-11\n",
       "\n",
       "[81 rows x 2 columns]"
      ]
     },
     "execution_count": 272,
     "metadata": {},
     "output_type": "execute_result"
    }
   ],
   "source": [
    "df3.loc[est_f_dat_na2, ['EstimatedFinalCompletion_','Actual_End_Date_' ]]"
   ]
  },
  {
   "cell_type": "code",
   "execution_count": 273,
   "id": "bed1275c-aa00-44a5-8ec6-39e18b42d616",
   "metadata": {
    "tags": []
   },
   "outputs": [
    {
     "data": {
      "text/plain": [
       "0"
      ]
     },
     "execution_count": 273,
     "metadata": {},
     "output_type": "execute_result"
    }
   ],
   "source": [
    "df3.EstimatedFinalCompletion_.isna().sum()"
   ]
  },
  {
   "cell_type": "markdown",
   "id": "60ffa99f-5b37-4a0a-8e58-9a24402da24f",
   "metadata": {},
   "source": [
    "# Filling missing values of the final dates"
   ]
  },
  {
   "cell_type": "code",
   "execution_count": 274,
   "id": "aba57b1f-d3e3-4455-a656-8fac9ca46c36",
   "metadata": {
    "tags": []
   },
   "outputs": [],
   "source": [
    "def return_end_date(d2, l3):\n",
    "    '''\n",
    "    The final date is calculated based on the average difference betwwen the estimated final date and the actual end dates; 0.024 month\n",
    "    which means that the projcts end dates where apporiximately 30% earlier than estimated which is alomost 1 day\n",
    "    '''\n",
    "    d3_l = []\n",
    "    \n",
    "    for dtt in (l3):\n",
    "        d2_t_obj = create_time_obj(d2[dtt])\n",
    "        if d2_t_obj.day <= 1:\n",
    "            d3 = f'{d2_t_obj.year}-{d2_t_obj.month}-{d2_t_obj.day}'\n",
    "            #d3 = (d2_t_obj.year, d2_t_obj.month, d2_t_obj.day)\n",
    "        else:\n",
    "            d3 = f'{d2_t_obj.year}-{d2_t_obj.month}-{d2_t_obj.day - 1}'\n",
    "            #d3 = (d2_t_obj.year, d2_t_obj.month, d2_t_obj.day - 1)\n",
    "        d3_l.append(d3)\n",
    "        \n",
    "    return d3_l"
   ]
  },
  {
   "cell_type": "code",
   "execution_count": 275,
   "id": "edf85845-7309-47b8-ad83-7b012c1380e9",
   "metadata": {
    "tags": []
   },
   "outputs": [],
   "source": [
    "fill_dat3 = return_end_date(df3.EstimatedFinalCompletion_, end_dat_na2)"
   ]
  },
  {
   "cell_type": "code",
   "execution_count": 276,
   "id": "27479430-cb0b-4636-a3af-93c713c6e8a1",
   "metadata": {
    "tags": []
   },
   "outputs": [
    {
     "data": {
      "text/plain": [
       "21      2015-01-07\n",
       "43      2013-10-27\n",
       "52      2016-08-03\n",
       "65      2013-05-08\n",
       "96      2015-04-01\n",
       "           ...    \n",
       "2568    2012-06-24\n",
       "2685    2012-07-08\n",
       "2704    2013-10-12\n",
       "2733    2014-06-09\n",
       "2736    2014-06-09\n",
       "Name: EstimatedFinalCompletion_, Length: 76, dtype: object"
      ]
     },
     "execution_count": 276,
     "metadata": {},
     "output_type": "execute_result"
    }
   ],
   "source": [
    "df3.loc[end_dat_na2, 'EstimatedFinalCompletion_']"
   ]
  },
  {
   "cell_type": "code",
   "execution_count": 277,
   "id": "8d751064-58d0-4159-8f54-23355f849068",
   "metadata": {
    "tags": []
   },
   "outputs": [],
   "source": [
    "for ll in range(len(end_dat_na2)):\n",
    "    df3.at[end_dat_na2[ll], 'Actual_End_Date_'] = fill_dat3[ll]"
   ]
  },
  {
   "cell_type": "code",
   "execution_count": 278,
   "id": "82745039-78b6-4470-950f-3f1479e928cb",
   "metadata": {
    "tags": []
   },
   "outputs": [
    {
     "data": {
      "text/html": [
       "<div>\n",
       "<style scoped>\n",
       "    .dataframe tbody tr th:only-of-type {\n",
       "        vertical-align: middle;\n",
       "    }\n",
       "\n",
       "    .dataframe tbody tr th {\n",
       "        vertical-align: top;\n",
       "    }\n",
       "\n",
       "    .dataframe thead th {\n",
       "        text-align: right;\n",
       "    }\n",
       "</style>\n",
       "<table border=\"1\" class=\"dataframe\">\n",
       "  <thead>\n",
       "    <tr style=\"text-align: right;\">\n",
       "      <th></th>\n",
       "      <th>EstimatedFinalCompletion_</th>\n",
       "      <th>Actual_End_Date_</th>\n",
       "    </tr>\n",
       "  </thead>\n",
       "  <tbody>\n",
       "    <tr>\n",
       "      <th>21</th>\n",
       "      <td>2015-01-07</td>\n",
       "      <td>2015-1-6</td>\n",
       "    </tr>\n",
       "    <tr>\n",
       "      <th>43</th>\n",
       "      <td>2013-10-27</td>\n",
       "      <td>2013-10-26</td>\n",
       "    </tr>\n",
       "    <tr>\n",
       "      <th>52</th>\n",
       "      <td>2016-08-03</td>\n",
       "      <td>2016-8-2</td>\n",
       "    </tr>\n",
       "    <tr>\n",
       "      <th>65</th>\n",
       "      <td>2013-05-08</td>\n",
       "      <td>2013-5-7</td>\n",
       "    </tr>\n",
       "    <tr>\n",
       "      <th>96</th>\n",
       "      <td>2015-04-01</td>\n",
       "      <td>2015-4-1</td>\n",
       "    </tr>\n",
       "    <tr>\n",
       "      <th>...</th>\n",
       "      <td>...</td>\n",
       "      <td>...</td>\n",
       "    </tr>\n",
       "    <tr>\n",
       "      <th>2568</th>\n",
       "      <td>2012-06-24</td>\n",
       "      <td>2012-6-23</td>\n",
       "    </tr>\n",
       "    <tr>\n",
       "      <th>2685</th>\n",
       "      <td>2012-07-08</td>\n",
       "      <td>2012-7-7</td>\n",
       "    </tr>\n",
       "    <tr>\n",
       "      <th>2704</th>\n",
       "      <td>2013-10-12</td>\n",
       "      <td>2013-10-11</td>\n",
       "    </tr>\n",
       "    <tr>\n",
       "      <th>2733</th>\n",
       "      <td>2014-06-09</td>\n",
       "      <td>2014-6-8</td>\n",
       "    </tr>\n",
       "    <tr>\n",
       "      <th>2736</th>\n",
       "      <td>2014-06-09</td>\n",
       "      <td>2014-6-8</td>\n",
       "    </tr>\n",
       "  </tbody>\n",
       "</table>\n",
       "<p>76 rows × 2 columns</p>\n",
       "</div>"
      ],
      "text/plain": [
       "     EstimatedFinalCompletion_ Actual_End_Date_\n",
       "21                  2015-01-07         2015-1-6\n",
       "43                  2013-10-27       2013-10-26\n",
       "52                  2016-08-03         2016-8-2\n",
       "65                  2013-05-08         2013-5-7\n",
       "96                  2015-04-01         2015-4-1\n",
       "...                        ...              ...\n",
       "2568                2012-06-24        2012-6-23\n",
       "2685                2012-07-08         2012-7-7\n",
       "2704                2013-10-12       2013-10-11\n",
       "2733                2014-06-09         2014-6-8\n",
       "2736                2014-06-09         2014-6-8\n",
       "\n",
       "[76 rows x 2 columns]"
      ]
     },
     "execution_count": 278,
     "metadata": {},
     "output_type": "execute_result"
    }
   ],
   "source": [
    "df3.loc[end_dat_na2, ['EstimatedFinalCompletion_','Actual_End_Date_' ]]"
   ]
  },
  {
   "cell_type": "code",
   "execution_count": 279,
   "id": "802dd185-44a4-4de8-a718-b42e822e7d7a",
   "metadata": {
    "tags": []
   },
   "outputs": [
    {
     "data": {
      "text/plain": [
       "0"
      ]
     },
     "execution_count": 279,
     "metadata": {},
     "output_type": "execute_result"
    }
   ],
   "source": [
    "df3.Actual_End_Date_.isna().sum()"
   ]
  },
  {
   "cell_type": "code",
   "execution_count": 280,
   "id": "7ae79c45-f80a-455f-9721-687b7efdd2ba",
   "metadata": {
    "tags": []
   },
   "outputs": [
    {
     "data": {
      "text/html": [
       "<div>\n",
       "<style scoped>\n",
       "    .dataframe tbody tr th:only-of-type {\n",
       "        vertical-align: middle;\n",
       "    }\n",
       "\n",
       "    .dataframe tbody tr th {\n",
       "        vertical-align: top;\n",
       "    }\n",
       "\n",
       "    .dataframe thead th {\n",
       "        text-align: right;\n",
       "    }\n",
       "</style>\n",
       "<table border=\"1\" class=\"dataframe\">\n",
       "  <thead>\n",
       "    <tr style=\"text-align: right;\">\n",
       "      <th></th>\n",
       "      <th>IDProject_</th>\n",
       "      <th>Area_</th>\n",
       "      <th>SubArea_</th>\n",
       "      <th>projectPhase_</th>\n",
       "      <th>OriginalEstimate_</th>\n",
       "      <th>CostToDate_</th>\n",
       "      <th>Project_Category</th>\n",
       "      <th>Contract_Type_</th>\n",
       "      <th>Start_Date_</th>\n",
       "      <th>EstimatedFinalCompletion_</th>\n",
       "      <th>Actual_End_Date_</th>\n",
       "    </tr>\n",
       "  </thead>\n",
       "  <tbody>\n",
       "    <tr>\n",
       "      <th>0</th>\n",
       "      <td>0</td>\n",
       "      <td>Area_0</td>\n",
       "      <td>Sub_Area_0</td>\n",
       "      <td>Completed</td>\n",
       "      <td>9.519200e+05</td>\n",
       "      <td>1.155157e+06</td>\n",
       "      <td>Institutional</td>\n",
       "      <td>CCDC 2</td>\n",
       "      <td>2012-08-15</td>\n",
       "      <td>2012-12-23</td>\n",
       "      <td>2013-04-02</td>\n",
       "    </tr>\n",
       "    <tr>\n",
       "      <th>1</th>\n",
       "      <td>1</td>\n",
       "      <td>Area_1</td>\n",
       "      <td>Sub_Area_1</td>\n",
       "      <td>Completed</td>\n",
       "      <td>1.478396e+05</td>\n",
       "      <td>1.334481e+05</td>\n",
       "      <td>Industrial</td>\n",
       "      <td>CCDC 5B</td>\n",
       "      <td>2012-09-01</td>\n",
       "      <td>2015-03-04</td>\n",
       "      <td>2015-05-25</td>\n",
       "    </tr>\n",
       "    <tr>\n",
       "      <th>2</th>\n",
       "      <td>2</td>\n",
       "      <td>Area_1</td>\n",
       "      <td>Sub_Area_1</td>\n",
       "      <td>Completed</td>\n",
       "      <td>6.070518e+04</td>\n",
       "      <td>4.245956e+04</td>\n",
       "      <td>Industrial</td>\n",
       "      <td>CCDC 5B</td>\n",
       "      <td>2012-09-01</td>\n",
       "      <td>2013-01-01</td>\n",
       "      <td>2012-11-12</td>\n",
       "    </tr>\n",
       "    <tr>\n",
       "      <th>3</th>\n",
       "      <td>3</td>\n",
       "      <td>Area_2</td>\n",
       "      <td>Sub_Area_2</td>\n",
       "      <td>Completed</td>\n",
       "      <td>2.804828e+05</td>\n",
       "      <td>3.003621e+05</td>\n",
       "      <td>Commercial</td>\n",
       "      <td>CCDC 5A</td>\n",
       "      <td>2012-07-11</td>\n",
       "      <td>2015-01-11</td>\n",
       "      <td>2014-08-31</td>\n",
       "    </tr>\n",
       "    <tr>\n",
       "      <th>4</th>\n",
       "      <td>4</td>\n",
       "      <td>Area_3</td>\n",
       "      <td>Sub_Area_3</td>\n",
       "      <td>Completed</td>\n",
       "      <td>2.833996e+06</td>\n",
       "      <td>2.747140e+06</td>\n",
       "      <td>Industrial</td>\n",
       "      <td>CCDC 2</td>\n",
       "      <td>2012-10-03</td>\n",
       "      <td>2013-02-28</td>\n",
       "      <td>2013-07-01</td>\n",
       "    </tr>\n",
       "    <tr>\n",
       "      <th>...</th>\n",
       "      <td>...</td>\n",
       "      <td>...</td>\n",
       "      <td>...</td>\n",
       "      <td>...</td>\n",
       "      <td>...</td>\n",
       "      <td>...</td>\n",
       "      <td>...</td>\n",
       "      <td>...</td>\n",
       "      <td>...</td>\n",
       "      <td>...</td>\n",
       "      <td>...</td>\n",
       "    </tr>\n",
       "    <tr>\n",
       "      <th>2801</th>\n",
       "      <td>2108</td>\n",
       "      <td>Area_16</td>\n",
       "      <td>Sub_Area_14</td>\n",
       "      <td>Completed</td>\n",
       "      <td>8.218626e+06</td>\n",
       "      <td>4.738921e+06</td>\n",
       "      <td>Institutional</td>\n",
       "      <td>Other</td>\n",
       "      <td>2009-2-10</td>\n",
       "      <td>2011-02-10</td>\n",
       "      <td>2010-11-06</td>\n",
       "    </tr>\n",
       "    <tr>\n",
       "      <th>2802</th>\n",
       "      <td>2109</td>\n",
       "      <td>Area_12</td>\n",
       "      <td>Sub_Area_12</td>\n",
       "      <td>Completed</td>\n",
       "      <td>1.298898e+08</td>\n",
       "      <td>1.036424e+08</td>\n",
       "      <td>Residential</td>\n",
       "      <td>CCDC 5A</td>\n",
       "      <td>2008-05-01</td>\n",
       "      <td>2013-03-23</td>\n",
       "      <td>2013-09-18</td>\n",
       "    </tr>\n",
       "    <tr>\n",
       "      <th>2803</th>\n",
       "      <td>2110</td>\n",
       "      <td>Area_12</td>\n",
       "      <td>Sub_Area_12</td>\n",
       "      <td>Completed</td>\n",
       "      <td>1.999900e+08</td>\n",
       "      <td>2.684085e+08</td>\n",
       "      <td>Residential</td>\n",
       "      <td>CCDC 5A</td>\n",
       "      <td>2008-05-15</td>\n",
       "      <td>2013-01-13</td>\n",
       "      <td>2012-11-02</td>\n",
       "    </tr>\n",
       "    <tr>\n",
       "      <th>2804</th>\n",
       "      <td>2111</td>\n",
       "      <td>Area_12</td>\n",
       "      <td>Sub_Area_12</td>\n",
       "      <td>Completed</td>\n",
       "      <td>8.190600e+06</td>\n",
       "      <td>6.272629e+06</td>\n",
       "      <td>Residential</td>\n",
       "      <td>CCDC 5A</td>\n",
       "      <td>2008-06-22</td>\n",
       "      <td>2010-09-11</td>\n",
       "      <td>2010-04-28</td>\n",
       "    </tr>\n",
       "    <tr>\n",
       "      <th>2805</th>\n",
       "      <td>2112</td>\n",
       "      <td>Area_18</td>\n",
       "      <td>Sub_Area_21</td>\n",
       "      <td>Completed</td>\n",
       "      <td>8.218626e+06</td>\n",
       "      <td>1.312894e+07</td>\n",
       "      <td>Industrial</td>\n",
       "      <td>CCA 5</td>\n",
       "      <td>2004-03-04</td>\n",
       "      <td>2005-04-01</td>\n",
       "      <td>2005-05-04</td>\n",
       "    </tr>\n",
       "  </tbody>\n",
       "</table>\n",
       "<p>2799 rows × 11 columns</p>\n",
       "</div>"
      ],
      "text/plain": [
       "     IDProject_    Area_     SubArea_ projectPhase_  OriginalEstimate_  \\\n",
       "0             0   Area_0   Sub_Area_0     Completed       9.519200e+05   \n",
       "1             1   Area_1   Sub_Area_1     Completed       1.478396e+05   \n",
       "2             2   Area_1   Sub_Area_1     Completed       6.070518e+04   \n",
       "3             3   Area_2   Sub_Area_2     Completed       2.804828e+05   \n",
       "4             4   Area_3   Sub_Area_3     Completed       2.833996e+06   \n",
       "...         ...      ...          ...           ...                ...   \n",
       "2801       2108  Area_16  Sub_Area_14     Completed       8.218626e+06   \n",
       "2802       2109  Area_12  Sub_Area_12     Completed       1.298898e+08   \n",
       "2803       2110  Area_12  Sub_Area_12     Completed       1.999900e+08   \n",
       "2804       2111  Area_12  Sub_Area_12     Completed       8.190600e+06   \n",
       "2805       2112  Area_18  Sub_Area_21     Completed       8.218626e+06   \n",
       "\n",
       "       CostToDate_ Project_Category Contract_Type_ Start_Date_  \\\n",
       "0     1.155157e+06    Institutional        CCDC 2   2012-08-15   \n",
       "1     1.334481e+05       Industrial       CCDC 5B   2012-09-01   \n",
       "2     4.245956e+04       Industrial       CCDC 5B   2012-09-01   \n",
       "3     3.003621e+05       Commercial       CCDC 5A   2012-07-11   \n",
       "4     2.747140e+06       Industrial        CCDC 2   2012-10-03   \n",
       "...            ...              ...            ...         ...   \n",
       "2801  4.738921e+06    Institutional          Other   2009-2-10   \n",
       "2802  1.036424e+08      Residential       CCDC 5A   2008-05-01   \n",
       "2803  2.684085e+08      Residential       CCDC 5A   2008-05-15   \n",
       "2804  6.272629e+06      Residential       CCDC 5A   2008-06-22   \n",
       "2805  1.312894e+07       Industrial         CCA 5   2004-03-04   \n",
       "\n",
       "     EstimatedFinalCompletion_ Actual_End_Date_  \n",
       "0                   2012-12-23       2013-04-02  \n",
       "1                   2015-03-04       2015-05-25  \n",
       "2                   2013-01-01       2012-11-12  \n",
       "3                   2015-01-11       2014-08-31  \n",
       "4                   2013-02-28       2013-07-01  \n",
       "...                        ...              ...  \n",
       "2801                2011-02-10       2010-11-06  \n",
       "2802                2013-03-23       2013-09-18  \n",
       "2803                2013-01-13       2012-11-02  \n",
       "2804                2010-09-11       2010-04-28  \n",
       "2805                2005-04-01       2005-05-04  \n",
       "\n",
       "[2799 rows x 11 columns]"
      ]
     },
     "execution_count": 280,
     "metadata": {},
     "output_type": "execute_result"
    }
   ],
   "source": [
    "df3"
   ]
  },
  {
   "cell_type": "code",
   "execution_count": 281,
   "id": "4a595b75-d667-4fae-9df2-3cb8a9725a82",
   "metadata": {
    "tags": []
   },
   "outputs": [],
   "source": [
    "df3.to_csv('df_final.csv', sep=',')"
   ]
  },
  {
   "cell_type": "markdown",
   "id": "e1528bab-dade-4b2c-8009-d7a557ec5993",
   "metadata": {},
   "source": [
    "# Dealing with categorical data"
   ]
  },
  {
   "cell_type": "code",
   "execution_count": 282,
   "id": "550bafbf-d5b0-40fe-ae90-ffbe24028556",
   "metadata": {
    "tags": []
   },
   "outputs": [],
   "source": [
    "df_temp = pd.read_csv(\"df_final.csv\", sep= ',')"
   ]
  },
  {
   "cell_type": "code",
   "execution_count": 283,
   "id": "02fed2e6-79e4-400c-b905-7873efd046bd",
   "metadata": {
    "tags": []
   },
   "outputs": [
    {
     "data": {
      "text/plain": [
       "84"
      ]
     },
     "execution_count": 283,
     "metadata": {},
     "output_type": "execute_result"
    }
   ],
   "source": [
    "df_temp.Area_.isna().sum()"
   ]
  },
  {
   "cell_type": "code",
   "execution_count": 284,
   "id": "d81fd309-32b0-4921-a018-6230ee99e552",
   "metadata": {
    "tags": []
   },
   "outputs": [],
   "source": [
    "area_nan = df_temp.Area_.isna()\n",
    "suba_nan = df_temp.SubArea_.isna()"
   ]
  },
  {
   "cell_type": "code",
   "execution_count": 285,
   "id": "4b30268d-b091-4071-96a7-d4fed5e157f2",
   "metadata": {
    "tags": []
   },
   "outputs": [],
   "source": [
    "area_nan_idx = dat_idx(area_nan)\n",
    "suba_nan_idx = dat_idx(suba_nan)"
   ]
  },
  {
   "cell_type": "code",
   "execution_count": 286,
   "id": "5d1a674e-b232-4827-ae8f-3e9d349c6e5b",
   "metadata": {
    "tags": []
   },
   "outputs": [],
   "source": [
    "reps_a_l = [i-1 for i in area_nan_idx]\n",
    "reps_sa_l = [j-1 for j in suba_nan_idx]\n",
    "\n",
    "for i in range(len(area_nan_idx)):\n",
    "    df_temp.at[area_nan_idx[i], 'Area_'] = df_temp.Area_[reps_a_l[i]]\n",
    "    \n",
    "for j in range(len(suba_nan_idx)):\n",
    "    df_temp.at[suba_nan_idx[j], 'SubArea_'] = df_temp.SubArea_[reps_sa_l[j]] \n",
    "    \n",
    "    "
   ]
  },
  {
   "cell_type": "code",
   "execution_count": 287,
   "id": "60f72050-49da-4db7-9f19-96958c0b1ab4",
   "metadata": {
    "tags": []
   },
   "outputs": [
    {
     "data": {
      "text/plain": [
       "0"
      ]
     },
     "execution_count": 287,
     "metadata": {},
     "output_type": "execute_result"
    }
   ],
   "source": [
    "df_temp.Area_.isna().sum()"
   ]
  },
  {
   "cell_type": "code",
   "execution_count": 288,
   "id": "9b9dd139-2c10-466d-8ef3-3bfb9f924e4f",
   "metadata": {
    "tags": []
   },
   "outputs": [
    {
     "data": {
      "text/plain": [
       "0"
      ]
     },
     "execution_count": 288,
     "metadata": {},
     "output_type": "execute_result"
    }
   ],
   "source": [
    "df_temp.SubArea_.isna().sum()"
   ]
  },
  {
   "cell_type": "markdown",
   "id": "91c888ec-25f2-4f6e-8d85-fc16edd08e5a",
   "metadata": {},
   "source": [
    "# Train and test splits"
   ]
  },
  {
   "cell_type": "code",
   "execution_count": 289,
   "id": "29cb56f1-185e-440a-9645-e47c2184f5f8",
   "metadata": {
    "tags": []
   },
   "outputs": [],
   "source": [
    "from sklearn.compose import ColumnTransformer\n",
    "from sklearn.pipeline import Pipeline\n",
    "from sklearn.impute import SimpleImputer\n",
    "from sklearn.preprocessing import StandardScaler, OneHotEncoder\n",
    "import random"
   ]
  },
  {
   "cell_type": "code",
   "execution_count": 290,
   "id": "a8157a81-0518-4526-82da-d391a8a485e6",
   "metadata": {
    "tags": []
   },
   "outputs": [],
   "source": [
    "df5 = df_temp.copy()"
   ]
  },
  {
   "cell_type": "code",
   "execution_count": 291,
   "id": "8bcac1ab-cb10-402f-a07a-b5af3f1e729e",
   "metadata": {
    "tags": []
   },
   "outputs": [],
   "source": [
    "df_for_train = df5.loc[:,['IDProject_', 'Area_', 'SubArea_', 'OriginalEstimate_', 'CostToDate_','Start_Date_', 'EstimatedFinalCompletion_', 'Actual_End_Date_']]"
   ]
  },
  {
   "cell_type": "code",
   "execution_count": 292,
   "id": "d090690b-4d23-41df-bf53-1a72f08791ba",
   "metadata": {
    "tags": []
   },
   "outputs": [
    {
     "data": {
      "text/html": [
       "<div>\n",
       "<style scoped>\n",
       "    .dataframe tbody tr th:only-of-type {\n",
       "        vertical-align: middle;\n",
       "    }\n",
       "\n",
       "    .dataframe tbody tr th {\n",
       "        vertical-align: top;\n",
       "    }\n",
       "\n",
       "    .dataframe thead th {\n",
       "        text-align: right;\n",
       "    }\n",
       "</style>\n",
       "<table border=\"1\" class=\"dataframe\">\n",
       "  <thead>\n",
       "    <tr style=\"text-align: right;\">\n",
       "      <th></th>\n",
       "      <th>IDProject_</th>\n",
       "      <th>Area_</th>\n",
       "      <th>SubArea_</th>\n",
       "      <th>OriginalEstimate_</th>\n",
       "      <th>CostToDate_</th>\n",
       "      <th>Start_Date_</th>\n",
       "      <th>EstimatedFinalCompletion_</th>\n",
       "      <th>Actual_End_Date_</th>\n",
       "    </tr>\n",
       "  </thead>\n",
       "  <tbody>\n",
       "    <tr>\n",
       "      <th>0</th>\n",
       "      <td>0</td>\n",
       "      <td>Area_0</td>\n",
       "      <td>Sub_Area_0</td>\n",
       "      <td>9.519200e+05</td>\n",
       "      <td>1.155157e+06</td>\n",
       "      <td>2012-08-15</td>\n",
       "      <td>2012-12-23</td>\n",
       "      <td>2013-04-02</td>\n",
       "    </tr>\n",
       "    <tr>\n",
       "      <th>1</th>\n",
       "      <td>1</td>\n",
       "      <td>Area_1</td>\n",
       "      <td>Sub_Area_1</td>\n",
       "      <td>1.478396e+05</td>\n",
       "      <td>1.334481e+05</td>\n",
       "      <td>2012-09-01</td>\n",
       "      <td>2015-03-04</td>\n",
       "      <td>2015-05-25</td>\n",
       "    </tr>\n",
       "    <tr>\n",
       "      <th>2</th>\n",
       "      <td>2</td>\n",
       "      <td>Area_1</td>\n",
       "      <td>Sub_Area_1</td>\n",
       "      <td>6.070518e+04</td>\n",
       "      <td>4.245956e+04</td>\n",
       "      <td>2012-09-01</td>\n",
       "      <td>2013-01-01</td>\n",
       "      <td>2012-11-12</td>\n",
       "    </tr>\n",
       "    <tr>\n",
       "      <th>3</th>\n",
       "      <td>3</td>\n",
       "      <td>Area_2</td>\n",
       "      <td>Sub_Area_2</td>\n",
       "      <td>2.804828e+05</td>\n",
       "      <td>3.003621e+05</td>\n",
       "      <td>2012-07-11</td>\n",
       "      <td>2015-01-11</td>\n",
       "      <td>2014-08-31</td>\n",
       "    </tr>\n",
       "    <tr>\n",
       "      <th>4</th>\n",
       "      <td>4</td>\n",
       "      <td>Area_3</td>\n",
       "      <td>Sub_Area_3</td>\n",
       "      <td>2.833996e+06</td>\n",
       "      <td>2.747140e+06</td>\n",
       "      <td>2012-10-03</td>\n",
       "      <td>2013-02-28</td>\n",
       "      <td>2013-07-01</td>\n",
       "    </tr>\n",
       "    <tr>\n",
       "      <th>...</th>\n",
       "      <td>...</td>\n",
       "      <td>...</td>\n",
       "      <td>...</td>\n",
       "      <td>...</td>\n",
       "      <td>...</td>\n",
       "      <td>...</td>\n",
       "      <td>...</td>\n",
       "      <td>...</td>\n",
       "    </tr>\n",
       "    <tr>\n",
       "      <th>2794</th>\n",
       "      <td>2108</td>\n",
       "      <td>Area_16</td>\n",
       "      <td>Sub_Area_14</td>\n",
       "      <td>8.218626e+06</td>\n",
       "      <td>4.738921e+06</td>\n",
       "      <td>2009-2-10</td>\n",
       "      <td>2011-02-10</td>\n",
       "      <td>2010-11-06</td>\n",
       "    </tr>\n",
       "    <tr>\n",
       "      <th>2795</th>\n",
       "      <td>2109</td>\n",
       "      <td>Area_12</td>\n",
       "      <td>Sub_Area_12</td>\n",
       "      <td>1.298898e+08</td>\n",
       "      <td>1.036424e+08</td>\n",
       "      <td>2008-05-01</td>\n",
       "      <td>2013-03-23</td>\n",
       "      <td>2013-09-18</td>\n",
       "    </tr>\n",
       "    <tr>\n",
       "      <th>2796</th>\n",
       "      <td>2110</td>\n",
       "      <td>Area_12</td>\n",
       "      <td>Sub_Area_12</td>\n",
       "      <td>1.999900e+08</td>\n",
       "      <td>2.684085e+08</td>\n",
       "      <td>2008-05-15</td>\n",
       "      <td>2013-01-13</td>\n",
       "      <td>2012-11-02</td>\n",
       "    </tr>\n",
       "    <tr>\n",
       "      <th>2797</th>\n",
       "      <td>2111</td>\n",
       "      <td>Area_12</td>\n",
       "      <td>Sub_Area_12</td>\n",
       "      <td>8.190600e+06</td>\n",
       "      <td>6.272629e+06</td>\n",
       "      <td>2008-06-22</td>\n",
       "      <td>2010-09-11</td>\n",
       "      <td>2010-04-28</td>\n",
       "    </tr>\n",
       "    <tr>\n",
       "      <th>2798</th>\n",
       "      <td>2112</td>\n",
       "      <td>Area_18</td>\n",
       "      <td>Sub_Area_21</td>\n",
       "      <td>8.218626e+06</td>\n",
       "      <td>1.312894e+07</td>\n",
       "      <td>2004-03-04</td>\n",
       "      <td>2005-04-01</td>\n",
       "      <td>2005-05-04</td>\n",
       "    </tr>\n",
       "  </tbody>\n",
       "</table>\n",
       "<p>2799 rows × 8 columns</p>\n",
       "</div>"
      ],
      "text/plain": [
       "      IDProject_    Area_     SubArea_  OriginalEstimate_   CostToDate_  \\\n",
       "0              0   Area_0   Sub_Area_0       9.519200e+05  1.155157e+06   \n",
       "1              1   Area_1   Sub_Area_1       1.478396e+05  1.334481e+05   \n",
       "2              2   Area_1   Sub_Area_1       6.070518e+04  4.245956e+04   \n",
       "3              3   Area_2   Sub_Area_2       2.804828e+05  3.003621e+05   \n",
       "4              4   Area_3   Sub_Area_3       2.833996e+06  2.747140e+06   \n",
       "...          ...      ...          ...                ...           ...   \n",
       "2794        2108  Area_16  Sub_Area_14       8.218626e+06  4.738921e+06   \n",
       "2795        2109  Area_12  Sub_Area_12       1.298898e+08  1.036424e+08   \n",
       "2796        2110  Area_12  Sub_Area_12       1.999900e+08  2.684085e+08   \n",
       "2797        2111  Area_12  Sub_Area_12       8.190600e+06  6.272629e+06   \n",
       "2798        2112  Area_18  Sub_Area_21       8.218626e+06  1.312894e+07   \n",
       "\n",
       "     Start_Date_ EstimatedFinalCompletion_ Actual_End_Date_  \n",
       "0     2012-08-15                2012-12-23       2013-04-02  \n",
       "1     2012-09-01                2015-03-04       2015-05-25  \n",
       "2     2012-09-01                2013-01-01       2012-11-12  \n",
       "3     2012-07-11                2015-01-11       2014-08-31  \n",
       "4     2012-10-03                2013-02-28       2013-07-01  \n",
       "...          ...                       ...              ...  \n",
       "2794   2009-2-10                2011-02-10       2010-11-06  \n",
       "2795  2008-05-01                2013-03-23       2013-09-18  \n",
       "2796  2008-05-15                2013-01-13       2012-11-02  \n",
       "2797  2008-06-22                2010-09-11       2010-04-28  \n",
       "2798  2004-03-04                2005-04-01       2005-05-04  \n",
       "\n",
       "[2799 rows x 8 columns]"
      ]
     },
     "execution_count": 292,
     "metadata": {},
     "output_type": "execute_result"
    }
   ],
   "source": [
    "df_for_train"
   ]
  },
  {
   "cell_type": "markdown",
   "id": "d1609189-c4b1-43a8-909c-4adbbeaf4919",
   "metadata": {},
   "source": [
    "# Laling the data based on the level of risk; High risk, Medium risk, Low risk, and Very low risk"
   ]
  },
  {
   "cell_type": "markdown",
   "id": "a20d5130-35ef-4083-9f87-90bf802d7403",
   "metadata": {},
   "source": [
    "## Here are my assumptions for calculating the risk factor and classification of the data. The definitions of these criteria are highly depend on the company\n",
    "### High risk ----> When the actual cost > estimated cost, and actual end time > estimated end time\n",
    "### Medium risk ----> When the actual cost > estimated cost and actual end time < estimated end time\n",
    "### Low risk ----> When the actual cost < estimated cost and actual end time > estimated end time\n",
    "### Very low risk ----> When the actual cost < estimated cost and actual end time < estimated end time"
   ]
  },
  {
   "cell_type": "code",
   "execution_count": 293,
   "id": "7521d702-dbe4-4064-867b-0183cc85b36d",
   "metadata": {
    "tags": []
   },
   "outputs": [],
   "source": [
    "high_risk = []\n",
    "high_risk_l = []\n",
    "mid_risk = []\n",
    "mid_risk_l = []\n",
    "low_risk = []\n",
    "low_risk_l = []\n",
    "very_low_risk = []\n",
    "very_low_risk_l = []\n",
    "\n",
    "for i in range(df_for_train.shape[0]):\n",
    "    if (df_for_train.CostToDate_[i] > df_for_train.OriginalEstimate_[i]) and (df_for_train.Actual_End_Date_[i]> df_for_train.EstimatedFinalCompletion_[i]):\n",
    "        \n",
    "        #pd.concat([df_high_risk, df_for_train.iloc[i,:]], axis = 0, ignore_index=True, sort=False)\n",
    "        high_risk_l.append('High risk')\n",
    "        high_risk.append(df_for_train.iloc[i,:])\n",
    "    \n",
    "    elif (df_for_train.CostToDate_[i] > df_for_train.OriginalEstimate_[i]) and (df_for_train.Actual_End_Date_[i]< df_for_train.EstimatedFinalCompletion_[i]):\n",
    "        mid_risk.append(df_for_train.iloc[i,:])\n",
    "        mid_risk_l.append('Mid risk')\n",
    "    \n",
    "    elif (df_for_train.CostToDate_[i] < df_for_train.OriginalEstimate_[i]) and (df_for_train.Actual_End_Date_[i]> df_for_train.EstimatedFinalCompletion_[i]):\n",
    "        low_risk.append(df_for_train.iloc[i,:])\n",
    "        low_risk_l.append('Low risk')\n",
    "    \n",
    "    else:\n",
    "        very_low_risk.append(df_for_train.iloc[i,:])\n",
    "        very_low_risk_l.append('Very low risk')\n",
    "        "
   ]
  },
  {
   "cell_type": "code",
   "execution_count": 294,
   "id": "fc8ef534-b0f8-4662-8b7f-778db0a73200",
   "metadata": {
    "tags": []
   },
   "outputs": [],
   "source": [
    "df_high_risk = pd.DataFrame(high_risk)\n",
    "df_high_risk['Risk'] = high_risk_l \n",
    "df_mid_risk = pd.DataFrame(mid_risk)\n",
    "df_mid_risk['Risk'] = mid_risk_l\n",
    "df_low_risk = pd.DataFrame(low_risk)\n",
    "df_low_risk['Risk'] = low_risk_l\n",
    "df_very_low_risk = pd.DataFrame(very_low_risk)\n",
    "df_very_low_risk['Risk'] = very_low_risk_l"
   ]
  },
  {
   "cell_type": "code",
   "execution_count": 295,
   "id": "48ab316e-645e-4ea8-bce8-dbe7f9cc989a",
   "metadata": {
    "tags": []
   },
   "outputs": [
    {
     "data": {
      "text/html": [
       "<div>\n",
       "<style scoped>\n",
       "    .dataframe tbody tr th:only-of-type {\n",
       "        vertical-align: middle;\n",
       "    }\n",
       "\n",
       "    .dataframe tbody tr th {\n",
       "        vertical-align: top;\n",
       "    }\n",
       "\n",
       "    .dataframe thead th {\n",
       "        text-align: right;\n",
       "    }\n",
       "</style>\n",
       "<table border=\"1\" class=\"dataframe\">\n",
       "  <thead>\n",
       "    <tr style=\"text-align: right;\">\n",
       "      <th></th>\n",
       "      <th>IDProject_</th>\n",
       "      <th>Area_</th>\n",
       "      <th>SubArea_</th>\n",
       "      <th>OriginalEstimate_</th>\n",
       "      <th>CostToDate_</th>\n",
       "      <th>Start_Date_</th>\n",
       "      <th>EstimatedFinalCompletion_</th>\n",
       "      <th>Actual_End_Date_</th>\n",
       "      <th>Risk</th>\n",
       "    </tr>\n",
       "  </thead>\n",
       "  <tbody>\n",
       "    <tr>\n",
       "      <th>1</th>\n",
       "      <td>1</td>\n",
       "      <td>Area_1</td>\n",
       "      <td>Sub_Area_1</td>\n",
       "      <td>1.478396e+05</td>\n",
       "      <td>1.334481e+05</td>\n",
       "      <td>2012-09-01</td>\n",
       "      <td>2015-03-04</td>\n",
       "      <td>2015-05-25</td>\n",
       "      <td>Low risk</td>\n",
       "    </tr>\n",
       "    <tr>\n",
       "      <th>4</th>\n",
       "      <td>4</td>\n",
       "      <td>Area_3</td>\n",
       "      <td>Sub_Area_3</td>\n",
       "      <td>2.833996e+06</td>\n",
       "      <td>2.747140e+06</td>\n",
       "      <td>2012-10-03</td>\n",
       "      <td>2013-02-28</td>\n",
       "      <td>2013-07-01</td>\n",
       "      <td>Low risk</td>\n",
       "    </tr>\n",
       "    <tr>\n",
       "      <th>5</th>\n",
       "      <td>4</td>\n",
       "      <td>Area_3</td>\n",
       "      <td>Sub_Area_3</td>\n",
       "      <td>2.833996e+06</td>\n",
       "      <td>1.863670e+06</td>\n",
       "      <td>2012-10-03</td>\n",
       "      <td>2013-02-28</td>\n",
       "      <td>2013-08-10</td>\n",
       "      <td>Low risk</td>\n",
       "    </tr>\n",
       "    <tr>\n",
       "      <th>13</th>\n",
       "      <td>11</td>\n",
       "      <td>Area_8</td>\n",
       "      <td>Sub_Area_8</td>\n",
       "      <td>8.218626e+06</td>\n",
       "      <td>6.932146e+06</td>\n",
       "      <td>2012-08-23</td>\n",
       "      <td>2013-01-31</td>\n",
       "      <td>2013-07-13</td>\n",
       "      <td>Low risk</td>\n",
       "    </tr>\n",
       "    <tr>\n",
       "      <th>14</th>\n",
       "      <td>11</td>\n",
       "      <td>Area_8</td>\n",
       "      <td>Sub_Area_8</td>\n",
       "      <td>8.218626e+06</td>\n",
       "      <td>7.176280e+06</td>\n",
       "      <td>2012-08-23</td>\n",
       "      <td>2013-01-31</td>\n",
       "      <td>2013-02-06</td>\n",
       "      <td>Low risk</td>\n",
       "    </tr>\n",
       "    <tr>\n",
       "      <th>...</th>\n",
       "      <td>...</td>\n",
       "      <td>...</td>\n",
       "      <td>...</td>\n",
       "      <td>...</td>\n",
       "      <td>...</td>\n",
       "      <td>...</td>\n",
       "      <td>...</td>\n",
       "      <td>...</td>\n",
       "      <td>...</td>\n",
       "    </tr>\n",
       "    <tr>\n",
       "      <th>2772</th>\n",
       "      <td>2086</td>\n",
       "      <td>Area_14</td>\n",
       "      <td>Sub_Area_11</td>\n",
       "      <td>8.218626e+06</td>\n",
       "      <td>5.074220e+06</td>\n",
       "      <td>2007-10-31</td>\n",
       "      <td>2008-03-30</td>\n",
       "      <td>2008-08-15</td>\n",
       "      <td>Low risk</td>\n",
       "    </tr>\n",
       "    <tr>\n",
       "      <th>2775</th>\n",
       "      <td>2089</td>\n",
       "      <td>Area_14</td>\n",
       "      <td>Sub_Area_11</td>\n",
       "      <td>8.218626e+06</td>\n",
       "      <td>5.488553e+06</td>\n",
       "      <td>2008-05-01</td>\n",
       "      <td>2009-02-28</td>\n",
       "      <td>2009-04-29</td>\n",
       "      <td>Low risk</td>\n",
       "    </tr>\n",
       "    <tr>\n",
       "      <th>2777</th>\n",
       "      <td>2091</td>\n",
       "      <td>Area_14</td>\n",
       "      <td>Sub_Area_11</td>\n",
       "      <td>8.218626e+06</td>\n",
       "      <td>7.967936e+06</td>\n",
       "      <td>2008-10-18</td>\n",
       "      <td>2009-10-31</td>\n",
       "      <td>2010-01-18</td>\n",
       "      <td>Low risk</td>\n",
       "    </tr>\n",
       "    <tr>\n",
       "      <th>2792</th>\n",
       "      <td>2106</td>\n",
       "      <td>Area_17</td>\n",
       "      <td>Sub_Area_17</td>\n",
       "      <td>8.218626e+06</td>\n",
       "      <td>5.312386e+06</td>\n",
       "      <td>2005-01-16</td>\n",
       "      <td>2007-07-19</td>\n",
       "      <td>2007-08-16</td>\n",
       "      <td>Low risk</td>\n",
       "    </tr>\n",
       "    <tr>\n",
       "      <th>2795</th>\n",
       "      <td>2109</td>\n",
       "      <td>Area_12</td>\n",
       "      <td>Sub_Area_12</td>\n",
       "      <td>1.298898e+08</td>\n",
       "      <td>1.036424e+08</td>\n",
       "      <td>2008-05-01</td>\n",
       "      <td>2013-03-23</td>\n",
       "      <td>2013-09-18</td>\n",
       "      <td>Low risk</td>\n",
       "    </tr>\n",
       "  </tbody>\n",
       "</table>\n",
       "<p>679 rows × 9 columns</p>\n",
       "</div>"
      ],
      "text/plain": [
       "      IDProject_    Area_     SubArea_  OriginalEstimate_   CostToDate_  \\\n",
       "1              1   Area_1   Sub_Area_1       1.478396e+05  1.334481e+05   \n",
       "4              4   Area_3   Sub_Area_3       2.833996e+06  2.747140e+06   \n",
       "5              4   Area_3   Sub_Area_3       2.833996e+06  1.863670e+06   \n",
       "13            11   Area_8   Sub_Area_8       8.218626e+06  6.932146e+06   \n",
       "14            11   Area_8   Sub_Area_8       8.218626e+06  7.176280e+06   \n",
       "...          ...      ...          ...                ...           ...   \n",
       "2772        2086  Area_14  Sub_Area_11       8.218626e+06  5.074220e+06   \n",
       "2775        2089  Area_14  Sub_Area_11       8.218626e+06  5.488553e+06   \n",
       "2777        2091  Area_14  Sub_Area_11       8.218626e+06  7.967936e+06   \n",
       "2792        2106  Area_17  Sub_Area_17       8.218626e+06  5.312386e+06   \n",
       "2795        2109  Area_12  Sub_Area_12       1.298898e+08  1.036424e+08   \n",
       "\n",
       "     Start_Date_ EstimatedFinalCompletion_ Actual_End_Date_      Risk  \n",
       "1     2012-09-01                2015-03-04       2015-05-25  Low risk  \n",
       "4     2012-10-03                2013-02-28       2013-07-01  Low risk  \n",
       "5     2012-10-03                2013-02-28       2013-08-10  Low risk  \n",
       "13    2012-08-23                2013-01-31       2013-07-13  Low risk  \n",
       "14    2012-08-23                2013-01-31       2013-02-06  Low risk  \n",
       "...          ...                       ...              ...       ...  \n",
       "2772  2007-10-31                2008-03-30       2008-08-15  Low risk  \n",
       "2775  2008-05-01                2009-02-28       2009-04-29  Low risk  \n",
       "2777  2008-10-18                2009-10-31       2010-01-18  Low risk  \n",
       "2792  2005-01-16                2007-07-19       2007-08-16  Low risk  \n",
       "2795  2008-05-01                2013-03-23       2013-09-18  Low risk  \n",
       "\n",
       "[679 rows x 9 columns]"
      ]
     },
     "execution_count": 295,
     "metadata": {},
     "output_type": "execute_result"
    }
   ],
   "source": [
    "df_low_risk"
   ]
  },
  {
   "cell_type": "code",
   "execution_count": 296,
   "id": "799c7af9-f2f6-4604-af9b-5f52aa4bf5c4",
   "metadata": {
    "tags": []
   },
   "outputs": [],
   "source": [
    "df_total = pd.concat([df_high_risk, df_mid_risk, df_low_risk, df_very_low_risk], axis = 0, ignore_index=True)"
   ]
  },
  {
   "cell_type": "code",
   "execution_count": 297,
   "id": "74f92824-7241-4e61-ac6d-c5b261178894",
   "metadata": {
    "tags": []
   },
   "outputs": [
    {
     "data": {
      "text/html": [
       "<div>\n",
       "<style scoped>\n",
       "    .dataframe tbody tr th:only-of-type {\n",
       "        vertical-align: middle;\n",
       "    }\n",
       "\n",
       "    .dataframe tbody tr th {\n",
       "        vertical-align: top;\n",
       "    }\n",
       "\n",
       "    .dataframe thead th {\n",
       "        text-align: right;\n",
       "    }\n",
       "</style>\n",
       "<table border=\"1\" class=\"dataframe\">\n",
       "  <thead>\n",
       "    <tr style=\"text-align: right;\">\n",
       "      <th></th>\n",
       "      <th>IDProject_</th>\n",
       "      <th>Area_</th>\n",
       "      <th>SubArea_</th>\n",
       "      <th>OriginalEstimate_</th>\n",
       "      <th>CostToDate_</th>\n",
       "      <th>Start_Date_</th>\n",
       "      <th>EstimatedFinalCompletion_</th>\n",
       "      <th>Actual_End_Date_</th>\n",
       "      <th>Risk</th>\n",
       "    </tr>\n",
       "  </thead>\n",
       "  <tbody>\n",
       "    <tr>\n",
       "      <th>0</th>\n",
       "      <td>0</td>\n",
       "      <td>Area_0</td>\n",
       "      <td>Sub_Area_0</td>\n",
       "      <td>951920.00</td>\n",
       "      <td>1.155157e+06</td>\n",
       "      <td>2012-08-15</td>\n",
       "      <td>2012-12-23</td>\n",
       "      <td>2013-04-02</td>\n",
       "      <td>High risk</td>\n",
       "    </tr>\n",
       "    <tr>\n",
       "      <th>1</th>\n",
       "      <td>6</td>\n",
       "      <td>Area_5</td>\n",
       "      <td>Sub_Area_5</td>\n",
       "      <td>3015325.59</td>\n",
       "      <td>4.318494e+06</td>\n",
       "      <td>2012-09-01</td>\n",
       "      <td>2013-01-31</td>\n",
       "      <td>2013-03-24</td>\n",
       "      <td>High risk</td>\n",
       "    </tr>\n",
       "    <tr>\n",
       "      <th>2</th>\n",
       "      <td>15</td>\n",
       "      <td>Area_9</td>\n",
       "      <td>Sub_Area_8</td>\n",
       "      <td>113296.00</td>\n",
       "      <td>1.351211e+05</td>\n",
       "      <td>2012-07-07</td>\n",
       "      <td>2015-01-07</td>\n",
       "      <td>2015-1-6</td>\n",
       "      <td>High risk</td>\n",
       "    </tr>\n",
       "    <tr>\n",
       "      <th>3</th>\n",
       "      <td>17</td>\n",
       "      <td>Area_10</td>\n",
       "      <td>Sub_Area_10</td>\n",
       "      <td>20997245.50</td>\n",
       "      <td>2.585863e+07</td>\n",
       "      <td>2012-09-15</td>\n",
       "      <td>2014-06-01</td>\n",
       "      <td>2014-10-19</td>\n",
       "      <td>High risk</td>\n",
       "    </tr>\n",
       "    <tr>\n",
       "      <th>4</th>\n",
       "      <td>17</td>\n",
       "      <td>Area_10</td>\n",
       "      <td>Sub_Area_10</td>\n",
       "      <td>20997245.50</td>\n",
       "      <td>2.566823e+07</td>\n",
       "      <td>2012-09-15</td>\n",
       "      <td>2014-06-01</td>\n",
       "      <td>2014-06-19</td>\n",
       "      <td>High risk</td>\n",
       "    </tr>\n",
       "    <tr>\n",
       "      <th>...</th>\n",
       "      <td>...</td>\n",
       "      <td>...</td>\n",
       "      <td>...</td>\n",
       "      <td>...</td>\n",
       "      <td>...</td>\n",
       "      <td>...</td>\n",
       "      <td>...</td>\n",
       "      <td>...</td>\n",
       "      <td>...</td>\n",
       "    </tr>\n",
       "    <tr>\n",
       "      <th>2794</th>\n",
       "      <td>2104</td>\n",
       "      <td>Area_17</td>\n",
       "      <td>Sub_Area_17</td>\n",
       "      <td>8218625.68</td>\n",
       "      <td>2.866189e+06</td>\n",
       "      <td>2004-11-21</td>\n",
       "      <td>2007-05-24</td>\n",
       "      <td>2006-12-13</td>\n",
       "      <td>Very low risk</td>\n",
       "    </tr>\n",
       "    <tr>\n",
       "      <th>2795</th>\n",
       "      <td>2105</td>\n",
       "      <td>Area_17</td>\n",
       "      <td>Sub_Area_17</td>\n",
       "      <td>8218625.68</td>\n",
       "      <td>3.341920e+06</td>\n",
       "      <td>2004-12-15</td>\n",
       "      <td>2007-06-17</td>\n",
       "      <td>2007-03-24</td>\n",
       "      <td>Very low risk</td>\n",
       "    </tr>\n",
       "    <tr>\n",
       "      <th>2796</th>\n",
       "      <td>2107</td>\n",
       "      <td>Area_17</td>\n",
       "      <td>Sub_Area_17</td>\n",
       "      <td>1449911.15</td>\n",
       "      <td>8.497328e+05</td>\n",
       "      <td>2005-10-19</td>\n",
       "      <td>2008-04-20</td>\n",
       "      <td>2008-03-01</td>\n",
       "      <td>Very low risk</td>\n",
       "    </tr>\n",
       "    <tr>\n",
       "      <th>2797</th>\n",
       "      <td>2108</td>\n",
       "      <td>Area_16</td>\n",
       "      <td>Sub_Area_14</td>\n",
       "      <td>8218625.68</td>\n",
       "      <td>4.738921e+06</td>\n",
       "      <td>2009-2-10</td>\n",
       "      <td>2011-02-10</td>\n",
       "      <td>2010-11-06</td>\n",
       "      <td>Very low risk</td>\n",
       "    </tr>\n",
       "    <tr>\n",
       "      <th>2798</th>\n",
       "      <td>2111</td>\n",
       "      <td>Area_12</td>\n",
       "      <td>Sub_Area_12</td>\n",
       "      <td>8190600.00</td>\n",
       "      <td>6.272629e+06</td>\n",
       "      <td>2008-06-22</td>\n",
       "      <td>2010-09-11</td>\n",
       "      <td>2010-04-28</td>\n",
       "      <td>Very low risk</td>\n",
       "    </tr>\n",
       "  </tbody>\n",
       "</table>\n",
       "<p>2799 rows × 9 columns</p>\n",
       "</div>"
      ],
      "text/plain": [
       "      IDProject_    Area_     SubArea_  OriginalEstimate_   CostToDate_  \\\n",
       "0              0   Area_0   Sub_Area_0          951920.00  1.155157e+06   \n",
       "1              6   Area_5   Sub_Area_5         3015325.59  4.318494e+06   \n",
       "2             15   Area_9   Sub_Area_8          113296.00  1.351211e+05   \n",
       "3             17  Area_10  Sub_Area_10        20997245.50  2.585863e+07   \n",
       "4             17  Area_10  Sub_Area_10        20997245.50  2.566823e+07   \n",
       "...          ...      ...          ...                ...           ...   \n",
       "2794        2104  Area_17  Sub_Area_17         8218625.68  2.866189e+06   \n",
       "2795        2105  Area_17  Sub_Area_17         8218625.68  3.341920e+06   \n",
       "2796        2107  Area_17  Sub_Area_17         1449911.15  8.497328e+05   \n",
       "2797        2108  Area_16  Sub_Area_14         8218625.68  4.738921e+06   \n",
       "2798        2111  Area_12  Sub_Area_12         8190600.00  6.272629e+06   \n",
       "\n",
       "     Start_Date_ EstimatedFinalCompletion_ Actual_End_Date_           Risk  \n",
       "0     2012-08-15                2012-12-23       2013-04-02      High risk  \n",
       "1     2012-09-01                2013-01-31       2013-03-24      High risk  \n",
       "2     2012-07-07                2015-01-07         2015-1-6      High risk  \n",
       "3     2012-09-15                2014-06-01       2014-10-19      High risk  \n",
       "4     2012-09-15                2014-06-01       2014-06-19      High risk  \n",
       "...          ...                       ...              ...            ...  \n",
       "2794  2004-11-21                2007-05-24       2006-12-13  Very low risk  \n",
       "2795  2004-12-15                2007-06-17       2007-03-24  Very low risk  \n",
       "2796  2005-10-19                2008-04-20       2008-03-01  Very low risk  \n",
       "2797   2009-2-10                2011-02-10       2010-11-06  Very low risk  \n",
       "2798  2008-06-22                2010-09-11       2010-04-28  Very low risk  \n",
       "\n",
       "[2799 rows x 9 columns]"
      ]
     },
     "execution_count": 297,
     "metadata": {},
     "output_type": "execute_result"
    }
   ],
   "source": [
    "df_total"
   ]
  },
  {
   "cell_type": "markdown",
   "id": "951567da-0c44-49e7-8839-24eb442d4577",
   "metadata": {},
   "source": [
    "### Assign random numbers to the IDs to avoid training problems"
   ]
  },
  {
   "cell_type": "code",
   "execution_count": 298,
   "id": "6ae62741-a173-47c8-ad07-673b67d42568",
   "metadata": {
    "tags": []
   },
   "outputs": [],
   "source": [
    "rand_id = random.sample(range(df_total.shape[0]), df_total.shape[0])"
   ]
  },
  {
   "cell_type": "code",
   "execution_count": 299,
   "id": "4efa1e76-140f-4618-bf03-7102e30a33b5",
   "metadata": {
    "tags": []
   },
   "outputs": [],
   "source": [
    "new_rand_l = []\n",
    "for idn in rand_id:\n",
    "    new_rand_i = 'ID_ran_' + str(rand_id[idn])\n",
    "    new_rand_l.append(new_rand_i)\n",
    "\n",
    "id_prj = df_total.IDProject_.values.tolist()    "
   ]
  },
  {
   "cell_type": "code",
   "execution_count": 300,
   "id": "b4eb51f8-c905-475c-821d-dd8da4ef0819",
   "metadata": {
    "tags": []
   },
   "outputs": [],
   "source": [
    "id_table = pd.DataFrame(\n",
    "    { 'id_rand': new_rand_l,\n",
    "      'id_prj': id_prj\n",
    "    })"
   ]
  },
  {
   "cell_type": "code",
   "execution_count": 301,
   "id": "3f71cf95-a392-4ecf-ad89-452bafadb23a",
   "metadata": {
    "tags": []
   },
   "outputs": [
    {
     "data": {
      "text/html": [
       "<div>\n",
       "<style scoped>\n",
       "    .dataframe tbody tr th:only-of-type {\n",
       "        vertical-align: middle;\n",
       "    }\n",
       "\n",
       "    .dataframe tbody tr th {\n",
       "        vertical-align: top;\n",
       "    }\n",
       "\n",
       "    .dataframe thead th {\n",
       "        text-align: right;\n",
       "    }\n",
       "</style>\n",
       "<table border=\"1\" class=\"dataframe\">\n",
       "  <thead>\n",
       "    <tr style=\"text-align: right;\">\n",
       "      <th></th>\n",
       "      <th>id_rand</th>\n",
       "      <th>id_prj</th>\n",
       "    </tr>\n",
       "  </thead>\n",
       "  <tbody>\n",
       "    <tr>\n",
       "      <th>0</th>\n",
       "      <td>ID_ran_1358</td>\n",
       "      <td>0</td>\n",
       "    </tr>\n",
       "    <tr>\n",
       "      <th>1</th>\n",
       "      <td>ID_ran_1314</td>\n",
       "      <td>6</td>\n",
       "    </tr>\n",
       "    <tr>\n",
       "      <th>2</th>\n",
       "      <td>ID_ran_1852</td>\n",
       "      <td>15</td>\n",
       "    </tr>\n",
       "    <tr>\n",
       "      <th>3</th>\n",
       "      <td>ID_ran_2462</td>\n",
       "      <td>17</td>\n",
       "    </tr>\n",
       "    <tr>\n",
       "      <th>4</th>\n",
       "      <td>ID_ran_1415</td>\n",
       "      <td>17</td>\n",
       "    </tr>\n",
       "    <tr>\n",
       "      <th>...</th>\n",
       "      <td>...</td>\n",
       "      <td>...</td>\n",
       "    </tr>\n",
       "    <tr>\n",
       "      <th>2794</th>\n",
       "      <td>ID_ran_52</td>\n",
       "      <td>2104</td>\n",
       "    </tr>\n",
       "    <tr>\n",
       "      <th>2795</th>\n",
       "      <td>ID_ran_2518</td>\n",
       "      <td>2105</td>\n",
       "    </tr>\n",
       "    <tr>\n",
       "      <th>2796</th>\n",
       "      <td>ID_ran_415</td>\n",
       "      <td>2107</td>\n",
       "    </tr>\n",
       "    <tr>\n",
       "      <th>2797</th>\n",
       "      <td>ID_ran_766</td>\n",
       "      <td>2108</td>\n",
       "    </tr>\n",
       "    <tr>\n",
       "      <th>2798</th>\n",
       "      <td>ID_ran_1728</td>\n",
       "      <td>2111</td>\n",
       "    </tr>\n",
       "  </tbody>\n",
       "</table>\n",
       "<p>2799 rows × 2 columns</p>\n",
       "</div>"
      ],
      "text/plain": [
       "          id_rand  id_prj\n",
       "0     ID_ran_1358       0\n",
       "1     ID_ran_1314       6\n",
       "2     ID_ran_1852      15\n",
       "3     ID_ran_2462      17\n",
       "4     ID_ran_1415      17\n",
       "...           ...     ...\n",
       "2794    ID_ran_52    2104\n",
       "2795  ID_ran_2518    2105\n",
       "2796   ID_ran_415    2107\n",
       "2797   ID_ran_766    2108\n",
       "2798  ID_ran_1728    2111\n",
       "\n",
       "[2799 rows x 2 columns]"
      ]
     },
     "execution_count": 301,
     "metadata": {},
     "output_type": "execute_result"
    }
   ],
   "source": [
    "id_table"
   ]
  },
  {
   "cell_type": "code",
   "execution_count": 302,
   "id": "4df01ff7-ffb7-42e9-8f67-20cfa40ad06b",
   "metadata": {
    "tags": []
   },
   "outputs": [],
   "source": [
    "df_total.drop(['IDProject_'], axis =1, inplace = True)"
   ]
  },
  {
   "cell_type": "code",
   "execution_count": 303,
   "id": "b38ca1c3-1cc2-46d4-bb93-2062e186883f",
   "metadata": {
    "tags": []
   },
   "outputs": [],
   "source": [
    "dft = df_total.set_index(id_table.id_rand)"
   ]
  },
  {
   "cell_type": "code",
   "execution_count": 304,
   "id": "0e7caf77-4171-4757-b0b6-3f5dab73b108",
   "metadata": {
    "tags": []
   },
   "outputs": [
    {
     "data": {
      "text/html": [
       "<div>\n",
       "<style scoped>\n",
       "    .dataframe tbody tr th:only-of-type {\n",
       "        vertical-align: middle;\n",
       "    }\n",
       "\n",
       "    .dataframe tbody tr th {\n",
       "        vertical-align: top;\n",
       "    }\n",
       "\n",
       "    .dataframe thead th {\n",
       "        text-align: right;\n",
       "    }\n",
       "</style>\n",
       "<table border=\"1\" class=\"dataframe\">\n",
       "  <thead>\n",
       "    <tr style=\"text-align: right;\">\n",
       "      <th></th>\n",
       "      <th>Area_</th>\n",
       "      <th>SubArea_</th>\n",
       "      <th>OriginalEstimate_</th>\n",
       "      <th>CostToDate_</th>\n",
       "      <th>Start_Date_</th>\n",
       "      <th>EstimatedFinalCompletion_</th>\n",
       "      <th>Actual_End_Date_</th>\n",
       "      <th>Risk</th>\n",
       "    </tr>\n",
       "    <tr>\n",
       "      <th>id_rand</th>\n",
       "      <th></th>\n",
       "      <th></th>\n",
       "      <th></th>\n",
       "      <th></th>\n",
       "      <th></th>\n",
       "      <th></th>\n",
       "      <th></th>\n",
       "      <th></th>\n",
       "    </tr>\n",
       "  </thead>\n",
       "  <tbody>\n",
       "    <tr>\n",
       "      <th>ID_ran_1358</th>\n",
       "      <td>Area_0</td>\n",
       "      <td>Sub_Area_0</td>\n",
       "      <td>951920.00</td>\n",
       "      <td>1.155157e+06</td>\n",
       "      <td>2012-08-15</td>\n",
       "      <td>2012-12-23</td>\n",
       "      <td>2013-04-02</td>\n",
       "      <td>High risk</td>\n",
       "    </tr>\n",
       "    <tr>\n",
       "      <th>ID_ran_1314</th>\n",
       "      <td>Area_5</td>\n",
       "      <td>Sub_Area_5</td>\n",
       "      <td>3015325.59</td>\n",
       "      <td>4.318494e+06</td>\n",
       "      <td>2012-09-01</td>\n",
       "      <td>2013-01-31</td>\n",
       "      <td>2013-03-24</td>\n",
       "      <td>High risk</td>\n",
       "    </tr>\n",
       "    <tr>\n",
       "      <th>ID_ran_1852</th>\n",
       "      <td>Area_9</td>\n",
       "      <td>Sub_Area_8</td>\n",
       "      <td>113296.00</td>\n",
       "      <td>1.351211e+05</td>\n",
       "      <td>2012-07-07</td>\n",
       "      <td>2015-01-07</td>\n",
       "      <td>2015-1-6</td>\n",
       "      <td>High risk</td>\n",
       "    </tr>\n",
       "    <tr>\n",
       "      <th>ID_ran_2462</th>\n",
       "      <td>Area_10</td>\n",
       "      <td>Sub_Area_10</td>\n",
       "      <td>20997245.50</td>\n",
       "      <td>2.585863e+07</td>\n",
       "      <td>2012-09-15</td>\n",
       "      <td>2014-06-01</td>\n",
       "      <td>2014-10-19</td>\n",
       "      <td>High risk</td>\n",
       "    </tr>\n",
       "    <tr>\n",
       "      <th>ID_ran_1415</th>\n",
       "      <td>Area_10</td>\n",
       "      <td>Sub_Area_10</td>\n",
       "      <td>20997245.50</td>\n",
       "      <td>2.566823e+07</td>\n",
       "      <td>2012-09-15</td>\n",
       "      <td>2014-06-01</td>\n",
       "      <td>2014-06-19</td>\n",
       "      <td>High risk</td>\n",
       "    </tr>\n",
       "    <tr>\n",
       "      <th>...</th>\n",
       "      <td>...</td>\n",
       "      <td>...</td>\n",
       "      <td>...</td>\n",
       "      <td>...</td>\n",
       "      <td>...</td>\n",
       "      <td>...</td>\n",
       "      <td>...</td>\n",
       "      <td>...</td>\n",
       "    </tr>\n",
       "    <tr>\n",
       "      <th>ID_ran_52</th>\n",
       "      <td>Area_17</td>\n",
       "      <td>Sub_Area_17</td>\n",
       "      <td>8218625.68</td>\n",
       "      <td>2.866189e+06</td>\n",
       "      <td>2004-11-21</td>\n",
       "      <td>2007-05-24</td>\n",
       "      <td>2006-12-13</td>\n",
       "      <td>Very low risk</td>\n",
       "    </tr>\n",
       "    <tr>\n",
       "      <th>ID_ran_2518</th>\n",
       "      <td>Area_17</td>\n",
       "      <td>Sub_Area_17</td>\n",
       "      <td>8218625.68</td>\n",
       "      <td>3.341920e+06</td>\n",
       "      <td>2004-12-15</td>\n",
       "      <td>2007-06-17</td>\n",
       "      <td>2007-03-24</td>\n",
       "      <td>Very low risk</td>\n",
       "    </tr>\n",
       "    <tr>\n",
       "      <th>ID_ran_415</th>\n",
       "      <td>Area_17</td>\n",
       "      <td>Sub_Area_17</td>\n",
       "      <td>1449911.15</td>\n",
       "      <td>8.497328e+05</td>\n",
       "      <td>2005-10-19</td>\n",
       "      <td>2008-04-20</td>\n",
       "      <td>2008-03-01</td>\n",
       "      <td>Very low risk</td>\n",
       "    </tr>\n",
       "    <tr>\n",
       "      <th>ID_ran_766</th>\n",
       "      <td>Area_16</td>\n",
       "      <td>Sub_Area_14</td>\n",
       "      <td>8218625.68</td>\n",
       "      <td>4.738921e+06</td>\n",
       "      <td>2009-2-10</td>\n",
       "      <td>2011-02-10</td>\n",
       "      <td>2010-11-06</td>\n",
       "      <td>Very low risk</td>\n",
       "    </tr>\n",
       "    <tr>\n",
       "      <th>ID_ran_1728</th>\n",
       "      <td>Area_12</td>\n",
       "      <td>Sub_Area_12</td>\n",
       "      <td>8190600.00</td>\n",
       "      <td>6.272629e+06</td>\n",
       "      <td>2008-06-22</td>\n",
       "      <td>2010-09-11</td>\n",
       "      <td>2010-04-28</td>\n",
       "      <td>Very low risk</td>\n",
       "    </tr>\n",
       "  </tbody>\n",
       "</table>\n",
       "<p>2799 rows × 8 columns</p>\n",
       "</div>"
      ],
      "text/plain": [
       "               Area_     SubArea_  OriginalEstimate_   CostToDate_  \\\n",
       "id_rand                                                              \n",
       "ID_ran_1358   Area_0   Sub_Area_0          951920.00  1.155157e+06   \n",
       "ID_ran_1314   Area_5   Sub_Area_5         3015325.59  4.318494e+06   \n",
       "ID_ran_1852   Area_9   Sub_Area_8          113296.00  1.351211e+05   \n",
       "ID_ran_2462  Area_10  Sub_Area_10        20997245.50  2.585863e+07   \n",
       "ID_ran_1415  Area_10  Sub_Area_10        20997245.50  2.566823e+07   \n",
       "...              ...          ...                ...           ...   \n",
       "ID_ran_52    Area_17  Sub_Area_17         8218625.68  2.866189e+06   \n",
       "ID_ran_2518  Area_17  Sub_Area_17         8218625.68  3.341920e+06   \n",
       "ID_ran_415   Area_17  Sub_Area_17         1449911.15  8.497328e+05   \n",
       "ID_ran_766   Area_16  Sub_Area_14         8218625.68  4.738921e+06   \n",
       "ID_ran_1728  Area_12  Sub_Area_12         8190600.00  6.272629e+06   \n",
       "\n",
       "            Start_Date_ EstimatedFinalCompletion_ Actual_End_Date_  \\\n",
       "id_rand                                                              \n",
       "ID_ran_1358  2012-08-15                2012-12-23       2013-04-02   \n",
       "ID_ran_1314  2012-09-01                2013-01-31       2013-03-24   \n",
       "ID_ran_1852  2012-07-07                2015-01-07         2015-1-6   \n",
       "ID_ran_2462  2012-09-15                2014-06-01       2014-10-19   \n",
       "ID_ran_1415  2012-09-15                2014-06-01       2014-06-19   \n",
       "...                 ...                       ...              ...   \n",
       "ID_ran_52    2004-11-21                2007-05-24       2006-12-13   \n",
       "ID_ran_2518  2004-12-15                2007-06-17       2007-03-24   \n",
       "ID_ran_415   2005-10-19                2008-04-20       2008-03-01   \n",
       "ID_ran_766    2009-2-10                2011-02-10       2010-11-06   \n",
       "ID_ran_1728  2008-06-22                2010-09-11       2010-04-28   \n",
       "\n",
       "                      Risk  \n",
       "id_rand                     \n",
       "ID_ran_1358      High risk  \n",
       "ID_ran_1314      High risk  \n",
       "ID_ran_1852      High risk  \n",
       "ID_ran_2462      High risk  \n",
       "ID_ran_1415      High risk  \n",
       "...                    ...  \n",
       "ID_ran_52    Very low risk  \n",
       "ID_ran_2518  Very low risk  \n",
       "ID_ran_415   Very low risk  \n",
       "ID_ran_766   Very low risk  \n",
       "ID_ran_1728  Very low risk  \n",
       "\n",
       "[2799 rows x 8 columns]"
      ]
     },
     "execution_count": 304,
     "metadata": {},
     "output_type": "execute_result"
    }
   ],
   "source": [
    "dft"
   ]
  },
  {
   "cell_type": "markdown",
   "id": "e972d41f-0219-4e53-8cc3-076a0eabb580",
   "metadata": {},
   "source": [
    "## Converting dates to numerical values to avoid training problems"
   ]
  },
  {
   "cell_type": "code",
   "execution_count": 320,
   "id": "4d692a45-1597-4487-b8ce-62b4b24ee561",
   "metadata": {
    "tags": []
   },
   "outputs": [],
   "source": [
    "def timestamp_to_numeric(timestamp):\n",
    "    epoch = dt.datetime.utcfromtimestamp(0)  \n",
    "    delta = timestamp - epoch  \n",
    "    return delta.total_seconds() \n",
    "\n",
    "t_ex = dt.datetime(2022,1,28)  \n",
    "num_val = timestamp_to_numeric(t_ex)"
   ]
  },
  {
   "cell_type": "code",
   "execution_count": 321,
   "id": "eaf0dd7f-9b4f-4c25-9626-a9056d978f17",
   "metadata": {
    "tags": []
   },
   "outputs": [
    {
     "data": {
      "text/plain": [
       "id_rand\n",
       "ID_ran_1358    2012-08-15\n",
       "ID_ran_1314    2012-09-01\n",
       "ID_ran_1852    2012-07-07\n",
       "ID_ran_2462    2012-09-15\n",
       "ID_ran_1415    2012-09-15\n",
       "                  ...    \n",
       "ID_ran_52      2004-11-21\n",
       "ID_ran_2518    2004-12-15\n",
       "ID_ran_415     2005-10-19\n",
       "ID_ran_766      2009-2-10\n",
       "ID_ran_1728    2008-06-22\n",
       "Name: Start_Date_, Length: 2799, dtype: object"
      ]
     },
     "execution_count": 321,
     "metadata": {},
     "output_type": "execute_result"
    }
   ],
   "source": [
    "dft.Start_Date_"
   ]
  },
  {
   "cell_type": "code",
   "execution_count": 319,
   "id": "c5afb674-0b93-4084-8cad-0d3200a8e29e",
   "metadata": {
    "tags": []
   },
   "outputs": [
    {
     "data": {
      "text/plain": [
       "1643328000.0"
      ]
     },
     "execution_count": 319,
     "metadata": {},
     "output_type": "execute_result"
    }
   ],
   "source": [
    "num_val"
   ]
  },
  {
   "cell_type": "code",
   "execution_count": 323,
   "id": "bc994493-2406-4b2f-8537-912d7c2ad22b",
   "metadata": {
    "tags": []
   },
   "outputs": [],
   "source": [
    "## Find real type of the dates before being an string\n",
    "from ast import literal_eval\n",
    "\n",
    "def str_to_type(s):\n",
    "    try:\n",
    "        k = literal_eval(s)\n",
    "        return type(k)\n",
    "    except:\n",
    "        return type(s)"
   ]
  },
  {
   "cell_type": "code",
   "execution_count": 324,
   "id": "6cfa8383-cdf8-4618-8cfa-09a653bf2114",
   "metadata": {
    "tags": []
   },
   "outputs": [
    {
     "name": "stdout",
     "output_type": "stream",
     "text": [
      "<class 'str'>\n"
     ]
    }
   ],
   "source": [
    "print(str_to_type(dft.Start_Date_[-2]))"
   ]
  },
  {
   "cell_type": "code",
   "execution_count": 325,
   "id": "2b29d3f2-b359-4163-ac3e-381e46cd762d",
   "metadata": {
    "tags": []
   },
   "outputs": [
    {
     "name": "stdout",
     "output_type": "stream",
     "text": [
      "<class 'str'>\n"
     ]
    }
   ],
   "source": [
    "print(type(dft.Start_Date_['ID_ran_2588']))"
   ]
  },
  {
   "cell_type": "code",
   "execution_count": 308,
   "id": "ce2c4f72-2be8-4a53-b575-8e25d012fa9b",
   "metadata": {
    "tags": []
   },
   "outputs": [
    {
     "name": "stdout",
     "output_type": "stream",
     "text": [
      "day is out of range for month\n",
      "day is out of range for month\n",
      "day is out of range for month\n"
     ]
    }
   ],
   "source": [
    "out1_l = []\n",
    "out2_l = []\n",
    "for it in range(1000):\n",
    "    try:\n",
    "        time_obj = datetime.strptime(dft.Start_Date_[it],'%Y-%m-%d')\n",
    "    except:\n",
    "        print(\"day is out of range for month\")\n",
    "        out = timestamp_to_numeric(time_obj)  \n",
    "        out2_l.append(out)"
   ]
  },
  {
   "cell_type": "code",
   "execution_count": 315,
   "id": "7df66bef-32f7-4397-8e43-e89895fe609b",
   "metadata": {
    "tags": []
   },
   "outputs": [],
   "source": [
    "out1_l = []\n",
    "out2_l = []\n",
    "for it in range(10):\n",
    "    typ = str_to_type(dft.Start_Date_[it])\n",
    "    if typ == tuple:\n",
    "        dt_obj_tup = dt.datetime(literal_eval(dft.Start_Date_[it]))\n",
    "        num_val = timestamp_to_numeric(dt_obj_tup)\n",
    "        out1_l.append(num_val)\n",
    "        \n",
    "    elif typ == str:\n",
    "        time_obj = datetime.strptime(dft.Start_Date_[it],'%Y-%m-%d')\n",
    "        out = timestamp_to_numeric(time_obj)  \n",
    "        out2_l.append(out)      "
   ]
  },
  {
   "cell_type": "code",
   "execution_count": 326,
   "id": "a6ab476f-9a80-42e4-97e3-e1c46afab650",
   "metadata": {
    "tags": []
   },
   "outputs": [
    {
     "data": {
      "text/plain": [
       "[1344988800.0,\n",
       " 1346457600.0,\n",
       " 1341619200.0,\n",
       " 1347667200.0,\n",
       " 1347667200.0,\n",
       " 1347408000.0,\n",
       " 1348012800.0,\n",
       " 1348963200.0,\n",
       " 1362096000.0,\n",
       " 1325376000.0]"
      ]
     },
     "execution_count": 326,
     "metadata": {},
     "output_type": "execute_result"
    }
   ],
   "source": [
    "out2_l # Numerical values of some of the dates"
   ]
  },
  {
   "cell_type": "code",
   "execution_count": 44,
   "id": "716a15bf-3107-4c47-9b83-b57423429003",
   "metadata": {
    "tags": []
   },
   "outputs": [
    {
     "data": {
      "text/plain": [
       "'2006-6-31'"
      ]
     },
     "execution_count": 44,
     "metadata": {},
     "output_type": "execute_result"
    }
   ],
   "source": [
    "dft.Start_Date_[t]"
   ]
  },
  {
   "cell_type": "code",
   "execution_count": 334,
   "id": "6a31e841-dae8-4f4a-b0d7-30f2fb20bc68",
   "metadata": {
    "tags": []
   },
   "outputs": [],
   "source": [
    "X = dft.loc[:, ['OriginalEstimate_', 'CostToDate_','Start_Date_', 'EstimatedFinalCompletion_', 'Actual_End_Date_']]\n",
    "y = dft.loc[:, 'Risk']"
   ]
  },
  {
   "cell_type": "code",
   "execution_count": null,
   "id": "9cfde37b-c960-46d5-a7c0-e727b6a36428",
   "metadata": {},
   "outputs": [],
   "source": []
  },
  {
   "cell_type": "code",
   "execution_count": 335,
   "id": "c2151d2b-1d76-4a1c-a67b-fef73fbf2ccc",
   "metadata": {},
   "outputs": [],
   "source": [
    "X_train, X_test, y_train, y_test = train_test_split(X, y, test_size = 0.33, random_state = 42, stratify = dft['Risk'], shuffle= True)"
   ]
  },
  {
   "cell_type": "code",
   "execution_count": 336,
   "id": "95d31028-7ec2-4b68-b259-e533c6a86cb5",
   "metadata": {
    "tags": []
   },
   "outputs": [],
   "source": [
    "dft_cat = dft.loc[:, ['Area_', 'SubArea_']]\n",
    "dft_num = dft.loc[:, ['OriginalEstimate_', 'CostToDate_','Start_Date_', 'EstimatedFinalCompletion_', 'Actual_End_Date_']]"
   ]
  },
  {
   "cell_type": "code",
   "execution_count": 337,
   "id": "8b4a4f90-a3e9-4082-99f5-da7fa17f0200",
   "metadata": {},
   "outputs": [],
   "source": [
    "categorical_transformer = Pipeline(steps=[\n",
    "    ('onehot', OneHotEncoder(handle_unknown='ignore'), dft_cat)])"
   ]
  },
  {
   "cell_type": "code",
   "execution_count": 338,
   "id": "56988502-cd11-47a2-928f-b2f0feb7b78a",
   "metadata": {
    "tags": []
   },
   "outputs": [
    {
     "data": {
      "text/html": [
       "<style>#sk-container-id-1 {color: black;}#sk-container-id-1 pre{padding: 0;}#sk-container-id-1 div.sk-toggleable {background-color: white;}#sk-container-id-1 label.sk-toggleable__label {cursor: pointer;display: block;width: 100%;margin-bottom: 0;padding: 0.3em;box-sizing: border-box;text-align: center;}#sk-container-id-1 label.sk-toggleable__label-arrow:before {content: \"▸\";float: left;margin-right: 0.25em;color: #696969;}#sk-container-id-1 label.sk-toggleable__label-arrow:hover:before {color: black;}#sk-container-id-1 div.sk-estimator:hover label.sk-toggleable__label-arrow:before {color: black;}#sk-container-id-1 div.sk-toggleable__content {max-height: 0;max-width: 0;overflow: hidden;text-align: left;background-color: #f0f8ff;}#sk-container-id-1 div.sk-toggleable__content pre {margin: 0.2em;color: black;border-radius: 0.25em;background-color: #f0f8ff;}#sk-container-id-1 input.sk-toggleable__control:checked~div.sk-toggleable__content {max-height: 200px;max-width: 100%;overflow: auto;}#sk-container-id-1 input.sk-toggleable__control:checked~label.sk-toggleable__label-arrow:before {content: \"▾\";}#sk-container-id-1 div.sk-estimator input.sk-toggleable__control:checked~label.sk-toggleable__label {background-color: #d4ebff;}#sk-container-id-1 div.sk-label input.sk-toggleable__control:checked~label.sk-toggleable__label {background-color: #d4ebff;}#sk-container-id-1 input.sk-hidden--visually {border: 0;clip: rect(1px 1px 1px 1px);clip: rect(1px, 1px, 1px, 1px);height: 1px;margin: -1px;overflow: hidden;padding: 0;position: absolute;width: 1px;}#sk-container-id-1 div.sk-estimator {font-family: monospace;background-color: #f0f8ff;border: 1px dotted black;border-radius: 0.25em;box-sizing: border-box;margin-bottom: 0.5em;}#sk-container-id-1 div.sk-estimator:hover {background-color: #d4ebff;}#sk-container-id-1 div.sk-parallel-item::after {content: \"\";width: 100%;border-bottom: 1px solid gray;flex-grow: 1;}#sk-container-id-1 div.sk-label:hover label.sk-toggleable__label {background-color: #d4ebff;}#sk-container-id-1 div.sk-serial::before {content: \"\";position: absolute;border-left: 1px solid gray;box-sizing: border-box;top: 0;bottom: 0;left: 50%;z-index: 0;}#sk-container-id-1 div.sk-serial {display: flex;flex-direction: column;align-items: center;background-color: white;padding-right: 0.2em;padding-left: 0.2em;position: relative;}#sk-container-id-1 div.sk-item {position: relative;z-index: 1;}#sk-container-id-1 div.sk-parallel {display: flex;align-items: stretch;justify-content: center;background-color: white;position: relative;}#sk-container-id-1 div.sk-item::before, #sk-container-id-1 div.sk-parallel-item::before {content: \"\";position: absolute;border-left: 1px solid gray;box-sizing: border-box;top: 0;bottom: 0;left: 50%;z-index: -1;}#sk-container-id-1 div.sk-parallel-item {display: flex;flex-direction: column;z-index: 1;position: relative;background-color: white;}#sk-container-id-1 div.sk-parallel-item:first-child::after {align-self: flex-end;width: 50%;}#sk-container-id-1 div.sk-parallel-item:last-child::after {align-self: flex-start;width: 50%;}#sk-container-id-1 div.sk-parallel-item:only-child::after {width: 0;}#sk-container-id-1 div.sk-dashed-wrapped {border: 1px dashed gray;margin: 0 0.4em 0.5em 0.4em;box-sizing: border-box;padding-bottom: 0.4em;background-color: white;}#sk-container-id-1 div.sk-label label {font-family: monospace;font-weight: bold;display: inline-block;line-height: 1.2em;}#sk-container-id-1 div.sk-label-container {text-align: center;}#sk-container-id-1 div.sk-container {/* jupyter's `normalize.less` sets `[hidden] { display: none; }` but bootstrap.min.css set `[hidden] { display: none !important; }` so we also need the `!important` here to be able to override the default hidden behavior on the sphinx rendered scikit-learn.org. See: https://github.com/scikit-learn/scikit-learn/issues/21755 */display: inline-block !important;position: relative;}#sk-container-id-1 div.sk-text-repr-fallback {display: none;}</style><div id=\"sk-container-id-1\" class=\"sk-top-container\"><div class=\"sk-text-repr-fallback\"><pre>Pipeline(steps=[(&#x27;onehot&#x27;, OneHotEncoder(handle_unknown=&#x27;ignore&#x27;),\n",
       "                                Area_     SubArea_\n",
       "id_rand                          \n",
       "ID_ran_1358   Area_0   Sub_Area_0\n",
       "ID_ran_1314   Area_5   Sub_Area_5\n",
       "ID_ran_1852   Area_9   Sub_Area_8\n",
       "ID_ran_2462  Area_10  Sub_Area_10\n",
       "ID_ran_1415  Area_10  Sub_Area_10\n",
       "...              ...          ...\n",
       "ID_ran_52    Area_17  Sub_Area_17\n",
       "ID_ran_2518  Area_17  Sub_Area_17\n",
       "ID_ran_415   Area_17  Sub_Area_17\n",
       "ID_ran_766   Area_16  Sub_Area_14\n",
       "ID_ran_1728  Area_12  Sub_Area_12\n",
       "\n",
       "[2799 rows x 2 columns])])</pre><b>In a Jupyter environment, please rerun this cell to show the HTML representation or trust the notebook. <br />On GitHub, the HTML representation is unable to render, please try loading this page with nbviewer.org.</b></div><div class=\"sk-container\" hidden><div class=\"sk-item\"><div class=\"sk-estimator sk-toggleable\"><input class=\"sk-toggleable__control sk-hidden--visually\" id=\"sk-estimator-id-1\" type=\"checkbox\" checked><label for=\"sk-estimator-id-1\" class=\"sk-toggleable__label sk-toggleable__label-arrow\">Pipeline</label><div class=\"sk-toggleable__content\"><pre>Pipeline(steps=[(&#x27;onehot&#x27;, OneHotEncoder(handle_unknown=&#x27;ignore&#x27;),\n",
       "                                Area_     SubArea_\n",
       "id_rand                          \n",
       "ID_ran_1358   Area_0   Sub_Area_0\n",
       "ID_ran_1314   Area_5   Sub_Area_5\n",
       "ID_ran_1852   Area_9   Sub_Area_8\n",
       "ID_ran_2462  Area_10  Sub_Area_10\n",
       "ID_ran_1415  Area_10  Sub_Area_10\n",
       "...              ...          ...\n",
       "ID_ran_52    Area_17  Sub_Area_17\n",
       "ID_ran_2518  Area_17  Sub_Area_17\n",
       "ID_ran_415   Area_17  Sub_Area_17\n",
       "ID_ran_766   Area_16  Sub_Area_14\n",
       "ID_ran_1728  Area_12  Sub_Area_12\n",
       "\n",
       "[2799 rows x 2 columns])])</pre></div></div></div></div></div>"
      ],
      "text/plain": [
       "Pipeline(steps=[('onehot', OneHotEncoder(handle_unknown='ignore'),\n",
       "                                Area_     SubArea_\n",
       "id_rand                          \n",
       "ID_ran_1358   Area_0   Sub_Area_0\n",
       "ID_ran_1314   Area_5   Sub_Area_5\n",
       "ID_ran_1852   Area_9   Sub_Area_8\n",
       "ID_ran_2462  Area_10  Sub_Area_10\n",
       "ID_ran_1415  Area_10  Sub_Area_10\n",
       "...              ...          ...\n",
       "ID_ran_52    Area_17  Sub_Area_17\n",
       "ID_ran_2518  Area_17  Sub_Area_17\n",
       "ID_ran_415   Area_17  Sub_Area_17\n",
       "ID_ran_766   Area_16  Sub_Area_14\n",
       "ID_ran_1728  Area_12  Sub_Area_12\n",
       "\n",
       "[2799 rows x 2 columns])])"
      ]
     },
     "execution_count": 338,
     "metadata": {},
     "output_type": "execute_result"
    }
   ],
   "source": [
    "categorical_transformer"
   ]
  },
  {
   "cell_type": "markdown",
   "id": "ac408580-45e0-43b1-94b2-71bb2c88c2b9",
   "metadata": {},
   "source": [
    "##### The categorical values don't seem to have considerable impact on the classes"
   ]
  },
  {
   "cell_type": "code",
   "execution_count": null,
   "id": "7fa566d3-5ee8-4593-a4c8-5566a5b93afe",
   "metadata": {},
   "outputs": [],
   "source": []
  },
  {
   "cell_type": "code",
   "execution_count": 339,
   "id": "aed22b7a-4ad9-44ad-a6ab-c12bcb6043f1",
   "metadata": {
    "tags": []
   },
   "outputs": [],
   "source": [
    "nums = dft.loc[:, ['OriginalEstimate_', 'CostToDate_']]"
   ]
  },
  {
   "cell_type": "code",
   "execution_count": 329,
   "id": "53b9bb5d-ddb8-4994-97f6-7a2e4525aad9",
   "metadata": {
    "tags": []
   },
   "outputs": [
    {
     "data": {
      "image/png": "[encoded data removed]",
      "text/plain": [
       "<Figure size 640x480 with 1 Axes>"
      ]
     },
     "metadata": {},
     "output_type": "display_data"
    },
    {
     "data": {
      "image/png": "[encoded data removed]",
      "text/plain": [
       "<Figure size 640x480 with 1 Axes>"
      ]
     },
     "metadata": {},
     "output_type": "display_data"
    }
   ],
   "source": [
    "for col in range(nums.shape[1]):\n",
    "    fig, ax = plt.subplots()\n",
    "    sns.histplot(data = nums.iloc[:,col], ax = ax)\n",
    "    ax.set_ylim(0,300)\n",
    "    ax.set_xlim(0, 2e+07)\n",
    "    plt.show()"
   ]
  },
  {
   "cell_type": "markdown",
   "id": "dcd4f167-a19e-4afc-85cc-9889eba20449",
   "metadata": {},
   "source": [
    "# Model development and training"
   ]
  },
  {
   "cell_type": "code",
   "execution_count": 340,
   "id": "21a747b7-f341-4089-81cd-bc8cba314fbb",
   "metadata": {
    "tags": []
   },
   "outputs": [],
   "source": [
    "grid = {\n",
    "    RandomForestClassifier(random_state=0, n_jobs=-1, class_weight='balanced'):\n",
    "    {'model__n_estimators':[300,400,500]},\n",
    "     \n",
    "    \n",
    "    GradientBoostingClassifier(random_state=0):\n",
    "    {'model__n_estimators':[300,400,500],\n",
    "     'model__learning_rate':[0.001,0.01,0.1,1,10],\n",
    "     'model__boosting_type': ['gbdt', 'goss', 'dart'],\n",
    "     }\n",
    "}"
   ]
  },
  {
   "cell_type": "code",
   "execution_count": 341,
   "id": "a4ec1b77-fdc7-4ab7-afff-1f493dc3395e",
   "metadata": {
    "tags": []
   },
   "outputs": [],
   "source": [
    "cv = RepeatedStratifiedKFold(n_splits=10, n_repeats=3, random_state=1)"
   ]
  },
  {
   "cell_type": "code",
   "execution_count": 342,
   "id": "c1fa3462-7540-421f-bc9d-000c0ed3f374",
   "metadata": {
    "tags": []
   },
   "outputs": [
    {
     "name": "stdout",
     "output_type": "stream",
     "text": [
      "RandomForestClassifier(class_weight='balanced', n_jobs=-1, random_state=0)\n",
      "--------------------------------------------------\n",
      "{'model__n_estimators': [300, 400, 500]}\n",
      "\n",
      "\n",
      "GradientBoostingClassifier(random_state=0)\n",
      "--------------------------------------------------\n",
      "{'model__n_estimators': [300, 400, 500], 'model__learning_rate': [0.001, 0.01, 0.1, 1, 10], 'model__boosting_type': ['gbdt', 'goss', 'dart']}\n",
      "\n",
      "\n"
     ]
    }
   ],
   "source": [
    "for clf, param in grid.items():\n",
    "    print(clf)\n",
    "    print('-'*50)\n",
    "    print(param)\n",
    "    print('\\n')"
   ]
  }
 ],
 "metadata": {
  "kernelspec": {
   "display_name": "Python 3 (ipykernel)",
   "language": "python",
   "name": "python3"
  },
  "language_info": {
   "codemirror_mode": {
    "name": "ipython",
    "version": 3
   },
   "file_extension": ".py",
   "mimetype": "text/x-python",
   "name": "python",
   "nbconvert_exporter": "python",
   "pygments_lexer": "ipython3",
   "version": "3.11.5"
  }
 },
 "nbformat": 4,
 "nbformat_minor": 5
}
