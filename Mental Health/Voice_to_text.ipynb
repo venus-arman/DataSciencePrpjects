{
 "cells": [
  {
   "cell_type": "code",
   "execution_count": 19,
   "id": "e180b9fc-e67a-431a-bb98-2a9b0da84ed2",
   "metadata": {},
   "outputs": [
    {
     "name": "stdout",
     "output_type": "stream",
     "text": [
      "Requirement already satisfied: SpeechRecognition in c:\\users\\syous\\anaconda3\\lib\\site-packages (3.10.0)\n",
      "Requirement already satisfied: requests>=2.26.0 in c:\\users\\syous\\anaconda3\\lib\\site-packages (from SpeechRecognition) (2.31.0)\n",
      "Requirement already satisfied: charset-normalizer<4,>=2 in c:\\users\\syous\\anaconda3\\lib\\site-packages (from requests>=2.26.0->SpeechRecognition) (3.3.0)\n",
      "Requirement already satisfied: idna<4,>=2.5 in c:\\users\\syous\\anaconda3\\lib\\site-packages (from requests>=2.26.0->SpeechRecognition) (3.4)\n",
      "Requirement already satisfied: urllib3<3,>=1.21.1 in c:\\users\\syous\\anaconda3\\lib\\site-packages (from requests>=2.26.0->SpeechRecognition) (2.0.6)\n",
      "Requirement already satisfied: certifi>=2017.4.17 in c:\\users\\syous\\anaconda3\\lib\\site-packages (from requests>=2.26.0->SpeechRecognition) (2023.7.22)\n"
     ]
    }
   ],
   "source": [
    "!pip install SpeechRecognition"
   ]
  },
  {
   "cell_type": "code",
   "execution_count": 1,
   "id": "ac93720c-4928-4485-a640-6ec6984f1d31",
   "metadata": {},
   "outputs": [],
   "source": [
    "import glob, os\n",
    "import speech_recognition as sr\n",
    "import IPython\n",
    "from flask import Flask\n",
    "from flask_restful import Api, Resource, reqparse\n",
    "import random"
   ]
  },
  {
   "cell_type": "code",
   "execution_count": 45,
   "id": "9cdc8eab-319e-4d2c-be06-f70334ebd448",
   "metadata": {},
   "outputs": [],
   "source": [
    "# male_path = \"../input/audio-files/male.wav\"\n",
    "# IPython.display.Audio(male_path)"
   ]
  },
  {
   "cell_type": "code",
   "execution_count": 2,
   "id": "f726615d-ccfa-4cfe-b5ab-3c071f0f9698",
   "metadata": {},
   "outputs": [
    {
     "name": "stdout",
     "output_type": "stream",
     "text": [
      "C:/Users/syous/OneDrive/Documents/Freelance projects/DataSciencePrpjects/Voice records/voice1.wav\n",
      "<speech_recognition.AudioFile object at 0x000001834AD870A0>\n",
      "C:/Users/syous/OneDrive/Documents/Freelance projects/DataSciencePrpjects/Voice records/voice2.wav\n",
      "<speech_recognition.AudioFile object at 0x000001834AD87850>\n"
     ]
    }
   ],
   "source": [
    "# import speech_recognition as SR\n",
    "# SR_obj = SR.Recognizer()\n",
    "# voicefolder = \"C:/Users/syous/OneDrive/Documents/Freelance projects/DataSciencePrpjects/Voice records/\"\n",
    "# #info = SR.AudioFile('C:/Users/syous/OneDrive/Documents/Freelance projects/DataSciencePrpjects/Voice records/voice2.wav')\n",
    "# text_list = []\n",
    "\n",
    "# for subdir, dirs, files in os.walk(voicefolder):\n",
    "#     for file in files:\n",
    "#         print(os.path.join(subdir, file))\n",
    "#         info = SR.AudioFile(os.path.join(subdir, file))\n",
    "#         print(info)\n",
    "#         # #for voice in path:\n",
    "#         with info as source:\n",
    "#             SR_obj.adjust_for_ambient_noise(source)\n",
    "#             audio_data = SR_obj.record(source,duration=100)\n",
    "#             result = SR_obj.recognize_google(audio_data)\n",
    "#             text_list.append(result)\n",
    "#print(result)"
   ]
  },
  {
   "cell_type": "code",
   "execution_count": 7,
   "id": "e03411e9",
   "metadata": {},
   "outputs": [],
   "source": [
    "path = \"C:/Users/syous/OneDrive/Documents/Freelance projects/DataSciencePrpjects/Voice records/\"\n",
    "voice_lst = [\n",
    "        {\"id\":0, \n",
    "         \"voice\" : \"voice1.wav\"\n",
    "        },\n",
    "        {\"id\": 1,\n",
    "         \"voice\" : \"voice2.wav\"\n",
    "        }\n",
    "            ]"
   ]
  },
  {
   "cell_type": "code",
   "execution_count": 4,
   "id": "010531ea-3f72-44fb-a24b-4fea0d64193c",
   "metadata": {},
   "outputs": [],
   "source": [
    "class Main():\n",
    "    \n",
    "    \"\"\"\n",
    "    This class takes the voices, convert them to text\n",
    "    \"\"\"\n",
    "    #open and read the file after the appending:\n",
    "    \n",
    "    SR_obj = SR.Recognizer()\n",
    "   \n",
    "    def voice_to_text(self, voicefolder):\n",
    "        SR_obj = SR.Recognizer()\n",
    "        voicefolder = \"C:/Users/syous/OneDrive/Documents/Freelance projects/DataSciencePrpjects/Voice records/\"\n",
    "        text_list = []\n",
    "\n",
    "        for subdir, dirs, files in os.walk(voicefolder):\n",
    "            for file in files:\n",
    "                print(os.path.join(subdir, file))\n",
    "                info = SR.AudioFile(os.path.join(subdir, file))\n",
    "                print(info)\n",
    "       \n",
    "                with info as source:\n",
    "                    SR_obj.adjust_for_ambient_noise(source)\n",
    "                    audio_data = SR_obj.record(source,duration=100)\n",
    "                    result = SR_obj.recognize_google(audio_data)\n",
    "                    text_list.append(result)\n",
    "        return(text_list)\n",
    "\n",
    "        \n",
    "    \n",
    " \n",
    "    "
   ]
  },
  {
   "cell_type": "code",
   "execution_count": 5,
   "id": "a0aa67e1-1ba7-480c-9311-15167888b7bf",
   "metadata": {},
   "outputs": [],
   "source": [
    "cc = Main()"
   ]
  },
  {
   "cell_type": "code",
   "execution_count": 8,
   "id": "02825cb4-eeeb-4dd9-a326-be02093b8144",
   "metadata": {},
   "outputs": [
    {
     "name": "stdout",
     "output_type": "stream",
     "text": [
      "C:/Users/syous/OneDrive/Documents/Freelance projects/DataSciencePrpjects/Voice records/voice1.wav\n",
      "<speech_recognition.AudioFile object at 0x000001834E2A00D0>\n",
      "C:/Users/syous/OneDrive/Documents/Freelance projects/DataSciencePrpjects/Voice records/voice2.wav\n",
      "<speech_recognition.AudioFile object at 0x000001834E064EB0>\n"
     ]
    },
    {
     "data": {
      "text/plain": [
       "[\"hi my name is Anita I'm 75 years old and I have anxiety and old I need people to take care of me I need to talk to a consultant and I don't have access to it\",\n",
       " \"good morning my name is Kavita and I'm calling you in relation to initial that I have recently in Canada's new immigrant I have had issues and I would like to speak with one of your doctors or therapists at the medical center please let me know can I have an appointment and what is the procedure in order to have a medical check by your Specialists I will leave you my contacts so please give me feedback on my phone number which is 3567533 or let me know on my email dot thank you very much and I'm waiting for me thank you\"]"
      ]
     },
     "execution_count": 8,
     "metadata": {},
     "output_type": "execute_result"
    }
   ],
   "source": [
    "cc.voice_to_text(path)"
   ]
  },
  {
   "cell_type": "code",
   "execution_count": null,
   "id": "0e31beb9-9297-4d66-bbd6-4f571e0d2f00",
   "metadata": {},
   "outputs": [
    {
     "name": "stdout",
     "output_type": "stream",
     "text": [
      "Collecting flask-restfulNote: you may need to restart the kernel to use updated packages.\n",
      "\n",
      "  Downloading Flask_RESTful-0.3.10-py2.py3-none-any.whl (26 kB)\n",
      "Collecting aniso8601>=0.82\n",
      "  Downloading aniso8601-9.0.1-py2.py3-none-any.whl (52 kB)\n",
      "     ---------------------------------------- 52.8/52.8 kB ? eta 0:00:00\n",
      "Requirement already satisfied: six>=1.3.0 in c:\\users\\syous\\anaconda3\\lib\\site-packages (from flask-restful) (1.16.0)\n",
      "Requirement already satisfied: pytz in c:\\users\\syous\\anaconda3\\lib\\site-packages (from flask-restful) (2022.7)\n",
      "Requirement already satisfied: Flask>=0.8 in c:\\users\\syous\\anaconda3\\lib\\site-packages (from flask-restful) (2.2.2)\n",
      "Requirement already satisfied: Werkzeug>=2.2.2 in c:\\users\\syous\\anaconda3\\lib\\site-packages (from Flask>=0.8->flask-restful) (2.2.2)\n",
      "Requirement already satisfied: click>=8.0 in c:\\users\\syous\\anaconda3\\lib\\site-packages (from Flask>=0.8->flask-restful) (8.0.4)\n",
      "Requirement already satisfied: Jinja2>=3.0 in c:\\users\\syous\\anaconda3\\lib\\site-packages (from Flask>=0.8->flask-restful) (3.1.2)\n",
      "Requirement already satisfied: itsdangerous>=2.0 in c:\\users\\syous\\anaconda3\\lib\\site-packages (from Flask>=0.8->flask-restful) (2.0.1)\n",
      "Requirement already satisfied: colorama in c:\\users\\syous\\anaconda3\\lib\\site-packages (from click>=8.0->Flask>=0.8->flask-restful) (0.4.6)\n",
      "Requirement already satisfied: MarkupSafe>=2.0 in c:\\users\\syous\\anaconda3\\lib\\site-packages (from Jinja2>=3.0->Flask>=0.8->flask-restful) (2.1.1)\n",
      "Installing collected packages: aniso8601, flask-restful\n",
      "Successfully installed aniso8601-9.0.1 flask-restful-0.3.10\n"
     ]
    }
   ],
   "source": [
    "pip install flask-restful"
   ]
  },
  {
   "cell_type": "code",
   "execution_count": 10,
   "id": "72fb5e08-5603-49df-b19b-e2fdb9b06336",
   "metadata": {},
   "outputs": [],
   "source": [
    "# from flask import Flask\n",
    "# from flask_restful import Api, Resource, reqparse\n",
    "# import random\n",
    "# app = Flask(__name__)\n",
    "# api = Api(app)"
   ]
  }
 ],
 "metadata": {
  "kernelspec": {
   "display_name": "Python 3 (ipykernel)",
   "language": "python",
   "name": "python3"
  },
  "language_info": {
   "codemirror_mode": {
    "name": "ipython",
    "version": 3
   },
   "file_extension": ".py",
   "mimetype": "text/x-python",
   "name": "python",
   "nbconvert_exporter": "python",
   "pygments_lexer": "ipython3",
   "version": "0.0.0"
  }
 },
 "nbformat": 4,
 "nbformat_minor": 5
}
